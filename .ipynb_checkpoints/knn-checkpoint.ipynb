{
 "cells": [
  {
   "cell_type": "markdown",
   "metadata": {},
   "source": [
    "# TFM\n",
    "\n",
    "data: https://drive.google.com/drive/folders/1fx_j6gmiATvhEaBtUwEPuCOl8peJ2zDM\n",
    "\n",
    "## 1. Simple k-NN implementation"
   ]
  },
  {
   "cell_type": "code",
   "execution_count": 108,
   "metadata": {},
   "outputs": [],
   "source": [
    "import math\n",
    "import pandas as pd\n",
    "from scipy import stats\n",
    "from matplotlib import pyplot as plt\n",
    "import numpy as np\n",
    "import seaborn as sns\n",
    "import time\n",
    "import statistics as st\n",
    "from scipy.spatial import distance as dt\n",
    "import distance\n",
    "from operator import truediv, add, mul"
   ]
  },
  {
   "cell_type": "markdown",
   "metadata": {},
   "source": [
    "### Euclidean distance"
   ]
  },
  {
   "cell_type": "code",
   "execution_count": 50,
   "metadata": {},
   "outputs": [],
   "source": [
    "# calculate the Euclidean distance between two vectors\n",
    "def euclidean_distance(row1, row2):\n",
    "    distance = 0.0\n",
    "    for i in range(len(row1)-1):\n",
    "        distance += (row1[i] - row2[i])**2\n",
    "    return math.sqrt(distance)"
   ]
  },
  {
   "cell_type": "markdown",
   "metadata": {},
   "source": [
    "#### Time comparison"
   ]
  },
  {
   "cell_type": "code",
   "execution_count": 51,
   "metadata": {},
   "outputs": [
    {
     "name": "stdout",
     "output_type": "stream",
     "text": [
      "0.0727691650390625\n"
     ]
    }
   ],
   "source": [
    "row0 = df_tstrss_DSI1[0]\n",
    "start = time.time()\n",
    "for row in df_trnrss_DSI1:\n",
    "    euclidean_distance(row0, row)\n",
    "end = time.time()\n",
    "print(end - start)"
   ]
  },
  {
   "cell_type": "code",
   "execution_count": null,
   "metadata": {},
   "outputs": [],
   "source": [
    "a = np.array(df_tstrss_DSI1[0])\n",
    "b = np.array(df_trnrss_DSI1)\n",
    "start = time.time()\n",
    "for row in b:\n",
    "    np.linalg.norm(a-b)\n",
    "end = time.time()\n",
    "print(end - start)"
   ]
  },
  {
   "cell_type": "code",
   "execution_count": null,
   "metadata": {},
   "outputs": [],
   "source": [
    "start = time.time()\n",
    "for row in df_trnrss_DSI1:\n",
    "    np.sqrt(np.sum(np.square(a-b)))\n",
    "end = time.time()\n",
    "print(end - start)"
   ]
  },
  {
   "cell_type": "code",
   "execution_count": null,
   "metadata": {},
   "outputs": [],
   "source": [
    "from scipy.spatial import distance\n",
    "start = time.time()\n",
    "for row in df_trnrss_DSI1:\n",
    "    distance.euclidean(row0, row)\n",
    "end = time.time()\n",
    "print(end - start)"
   ]
  },
  {
   "cell_type": "code",
   "execution_count": 53,
   "metadata": {},
   "outputs": [
    {
     "name": "stdout",
     "output_type": "stream",
     "text": [
      "0.013959169387817383\n"
     ]
    }
   ],
   "source": [
    "# WINNER\n",
    "start = time.time()\n",
    "for row in df_trnrss_DSI1:\n",
    "    math.dist(row0, row)\n",
    "end = time.time()\n",
    "print(end - start)"
   ]
  },
  {
   "cell_type": "markdown",
   "metadata": {},
   "source": [
    "### Get k-nearest neighbors"
   ]
  },
  {
   "cell_type": "code",
   "execution_count": null,
   "metadata": {},
   "outputs": [],
   "source": [
    "# aquí hi va la funció get_neighbors()"
   ]
  },
  {
   "cell_type": "markdown",
   "metadata": {},
   "source": [
    "#### Time comparison"
   ]
  },
  {
   "cell_type": "code",
   "execution_count": null,
   "metadata": {},
   "outputs": [],
   "source": [
    "start = time.time()\n",
    "neighbors = get_neighbors(df_trnrss_DSI1, row0, 3)\n",
    "end = time.time()\n",
    "print(end - start)"
   ]
  },
  {
   "cell_type": "markdown",
   "metadata": {},
   "source": [
    "### Data from csv"
   ]
  },
  {
   "cell_type": "code",
   "execution_count": 4,
   "metadata": {},
   "outputs": [],
   "source": [
    "def load_Data(name):\n",
    "    # TRAIN data\n",
    "    # load fingerprints\n",
    "    df_trnrss_DSI1 = pd.read_csv('data/'+ name + '_trnrss.csv', header=None).values.tolist()\n",
    "    # load coordinates\n",
    "    df_trncrd_DSI1 = pd.read_csv('data/' + name + '_trncrd.csv', header=None)\n",
    "\n",
    "    # for now, drop columns of 'floor' and 'building', keep x,y,z\n",
    "    df_trncrd_DSI1.drop(df_trncrd_DSI1.columns[[3,4]], axis=1, inplace=True)\n",
    "    df_trncrd_DSI1 = df_trncrd_DSI1.values.tolist()\n",
    "\n",
    "    # TEST data\n",
    "    # load fingerprints\n",
    "    df_tstrss_DSI1 = pd.read_csv('data/' + name + '_tstrss.csv', header=None).values.tolist()\n",
    "    # load coordinates\n",
    "    df_tstcrd_DSI1 = pd.read_csv('data/' + name + '_tstcrd.csv', header=None)\n",
    "\n",
    "    # for now, drop columns of 'floor' and 'building', keep x,y,z\n",
    "    df_tstcrd_DSI1.drop(df_tstcrd_DSI1.columns[[3,4]], axis=1, inplace=True)\n",
    "    df_tstcrd_DSI1 = df_tstcrd_DSI1.values.tolist()\n",
    "    \n",
    "    return(df_trnrss_DSI1, df_trncrd_DSI1, df_tstrss_DSI1, df_tstcrd_DSI1)"
   ]
  },
  {
   "cell_type": "code",
   "execution_count": 5,
   "metadata": {},
   "outputs": [],
   "source": [
    "df_trnrss_DSI1, df_trncrd_DSI1, df_tstrss_DSI1, df_tstcrd_DSI1 = load_Data(\"DSI1\")\n",
    "df_trnrss_DSI2, df_trncrd_DSI2, df_tstrss_DSI2, df_tstcrd_DSI2 = load_Data(\"DSI2\")\n",
    "df_trnrss_LIB1, df_trncrd_LIB1, df_tstrss_LIB1, df_tstcrd_LIB1 = load_Data(\"LIB1\")\n",
    "df_trnrss_LIB2, df_trncrd_LIB2, df_tstrss_LIB2, df_tstcrd_LIB2 = load_Data(\"LIB2\")\n",
    "df_trnrss_MAN2, df_trncrd_MAN2, df_tstrss_MAN2, df_tstcrd_MAN2 = load_Data(\"MAN2\")\n",
    "df_trnrss_SIM001, df_trncrd_SIM001, df_tstrss_SIM001, df_tstcrd_SIM001 = load_Data(\"SIM001\")"
   ]
  },
  {
   "cell_type": "markdown",
   "metadata": {},
   "source": [
    "### Algorithm"
   ]
  },
  {
   "cell_type": "code",
   "execution_count": 6,
   "metadata": {},
   "outputs": [],
   "source": [
    "# calculate knn of fingerprints\n",
    "def knn(k, tstrss, trnrss):\n",
    "    all_neighbors = []\n",
    "\n",
    "    # iterate test data and find id of k nearest neighbors from trnrss\n",
    "    for i in tstrss:\n",
    "        all_neighbors.append(get_neighbors(trnrss, i, k))\n",
    "        \n",
    "    return all_neighbors\n",
    "\n",
    "# predict position of neighbors \n",
    "def predict_position(all_neighbors, trncrd):\n",
    "    predicted_pos = []\n",
    "    \n",
    "    # iterate all neighbors to predict position. Find k indexes in trncrd and calculate mean value.\n",
    "    for knn in all_neighbors:    \n",
    "        x, y, z = 0, 0, 0\n",
    "        for i in knn:\n",
    "            x += trncrd[i][0]\n",
    "            y += trncrd[i][1]\n",
    "            z += trncrd[i][2]\n",
    "        predicted_pos.append([x/k, y/k, round(z/k, 1)]) # mean of the error\n",
    "        \n",
    "    return predicted_pos\n",
    "\n",
    "# error calculation: returns euclidean distance between predictions and tstcrd\n",
    "def calculate_error(predicted_pos, tstcrd):\n",
    "    error_distances = [math.dist(predicted_pos[i], tstcrd[i]) for i, val in enumerate(predicted_pos)]\n",
    "    return error_distances\n",
    "\n",
    "# calculates knn and returns prediction of position\n",
    "def knn_and_prediction(k, tstrss, trnrss, trncrd):\n",
    "    neighbors = knn(k, tstrss, trnrss)\n",
    "    return predict_position(neighbors, trncrd)\n",
    "\n",
    "# calculates knn, predicts position and returns error distances between prediction and real position\n",
    "def positioning_error(k, tstrss, trnrss, tstcrd, trncrd):\n",
    "    positions = knn_and_prediction(k, tstrss, trnrss, trncrd)\n",
    "    return calculate_error(positions, tstcrd)"
   ]
  },
  {
   "cell_type": "markdown",
   "metadata": {},
   "source": [
    "### Calculations"
   ]
  },
  {
   "cell_type": "code",
   "execution_count": null,
   "metadata": {},
   "outputs": [],
   "source": [
    "start = time.time()\n",
    "k=1\n",
    "k1_DSI1 = positioning_error(k, df_tstrss_DSI1, df_trnrss_DSI1, df_tstcrd_DSI1, df_trncrd_DSI1)\n",
    "k1_DSI2 = positioning_error(k, df_tstrss_DSI2, df_trnrss_DSI2, df_tstcrd_DSI2, df_trncrd_DSI2)\n",
    "k1_LIB1 = positioning_error(k, df_tstrss_LIB1, df_trnrss_LIB1, df_tstcrd_LIB1, df_trncrd_LIB1)\n",
    "k1_LIB2 = positioning_error(k, df_tstrss_LIB2, df_trnrss_LIB2, df_tstcrd_LIB2, df_trncrd_LIB2)\n",
    "k1_MAN2 = positioning_error(k, df_tstrss_MAN2, df_trnrss_MAN2, df_tstcrd_MAN2, df_trncrd_MAN2)\n",
    "k1_SIM001 = positioning_error(k, df_tstrss_SIM001, df_trnrss_SIM001, df_tstcrd_SIM001, df_trncrd_SIM001)\n",
    "\n",
    "k=5\n",
    "k5_DSI1 = positioning_error(k, df_tstrss_DSI1, df_trnrss_DSI1, df_tstcrd_DSI1, df_trncrd_DSI1)\n",
    "k5_DSI2 = positioning_error(k, df_tstrss_DSI2, df_trnrss_DSI2, df_tstcrd_DSI2, df_trncrd_DSI2)\n",
    "k5_LIB1 = positioning_error(k, df_tstrss_LIB1, df_trnrss_LIB1, df_tstcrd_LIB1, df_trncrd_LIB1)\n",
    "k5_LIB2 = positioning_error(k, df_tstrss_LIB2, df_trnrss_LIB2, df_tstcrd_LIB2, df_trncrd_LIB2)\n",
    "k5_MAN2 = positioning_error(k, df_tstrss_MAN2, df_trnrss_MAN2, df_tstcrd_MAN2, df_trncrd_MAN2)\n",
    "k5_SIM001 = positioning_error(k, df_tstrss_SIM001, df_trnrss_SIM001, df_tstcrd_SIM001, df_trncrd_SIM001)\n",
    "\n",
    "k=11\n",
    "k11_DSI1 = positioning_error(k, df_tstrss_DSI1, df_trnrss_DSI1, df_tstcrd_DSI1, df_trncrd_DSI1)\n",
    "k11_DSI2 = positioning_error(k, df_tstrss_DSI2, df_trnrss_DSI2, df_tstcrd_DSI2, df_trncrd_DSI2)\n",
    "k11_LIB1 = positioning_error(k, df_tstrss_LIB1, df_trnrss_LIB1, df_tstcrd_LIB1, df_trncrd_LIB1)\n",
    "k11_LIB2 = positioning_error(k, df_tstrss_LIB2, df_trnrss_LIB2, df_tstcrd_LIB2, df_trncrd_LIB2)\n",
    "k11_MAN2 = positioning_error(k, df_tstrss_MAN2, df_trnrss_MAN2, df_tstcrd_MAN2, df_trncrd_MAN2)\n",
    "k11_SIM001 = positioning_error(k, df_tstrss_SIM001, df_trnrss_SIM001, df_tstcrd_SIM001, df_trncrd_SIM001)\n",
    "end = time.time()\n",
    "print(end - start)"
   ]
  },
  {
   "cell_type": "code",
   "execution_count": 14,
   "metadata": {},
   "outputs": [
    {
     "name": "stdout",
     "output_type": "stream",
     "text": [
      "10.582464218139648\n"
     ]
    }
   ],
   "source": [
    "start = time.time()\n",
    "k=1\n",
    "k1_DSI1 = positioning_error(k, df_tstrss_DSI1, df_trnrss_DSI1, df_tstcrd_DSI1, df_trncrd_DSI1)\n",
    "k=5\n",
    "k5_DSI1 = positioning_error(k, df_tstrss_DSI1, df_trnrss_DSI1, df_tstcrd_DSI1, df_trncrd_DSI1)\n",
    "k=11\n",
    "k11_DSI1 = positioning_error(k, df_tstrss_DSI1, df_trnrss_DSI1, df_tstcrd_DSI1, df_trncrd_DSI1)\n",
    "end = time.time()\n",
    "print(end - start)"
   ]
  },
  {
   "cell_type": "markdown",
   "metadata": {},
   "source": [
    "### ECDF"
   ]
  },
  {
   "cell_type": "code",
   "execution_count": 7,
   "metadata": {},
   "outputs": [],
   "source": [
    "#ECDF function to generate x and y axis data\n",
    "def ecdf(xdata):\n",
    "    xdataecdf = np.sort(xdata)\n",
    "    ydataecdf = np.arange(1, len(xdata) + 1) / len(xdata)\n",
    "    return xdataecdf, ydataecdf\n",
    "\n",
    "def plot_ecdf(data1, data2, data3, title, figure):\n",
    "    #Get the x and y data for ecdf plot from ecdf method\n",
    "    x1,y1 = ecdf(data1)\n",
    "    x5,y5 = ecdf(data2)\n",
    "    x11,y11 = ecdf(data3)\n",
    "\n",
    "    #Plot the data using matplotlib\n",
    "    plt.figure(figure)\n",
    "    plt.plot(x1, y1, marker = '.', linestyle = 'none', markersize = 3)\n",
    "    plt.plot(x5, y5, marker = '.', linestyle = 'none', markersize = 3)\n",
    "    plt.plot(x11, y11, marker = '.', linestyle = 'none', markersize = 3)\n",
    "    plt.legend((\"k=1\", \"k=5\", \"k=11\"))\n",
    "    plt.title(title)\n",
    "    plt.xlabel('Error distance')\n",
    "    plt.ylabel('Error probability')\n",
    "    plt.margins(0.1)"
   ]
  },
  {
   "cell_type": "code",
   "execution_count": null,
   "metadata": {},
   "outputs": [],
   "source": [
    "plot_ecdf(k1_DSI1, k5_DSI1, k11_DSI1, \"DSI1\", 1)\n",
    "plot_ecdf(k1_DSI2, k5_DSI2, k11_DSI2, \"DSI2\", 2)\n",
    "plot_ecdf(k1_LIB1, k5_LIB1, k11_LIB1, \"LIB1\", 3)\n",
    "plot_ecdf(k1_LIB2, k5_LIB2, k11_LIB2, \"LIB2\", 4)\n",
    "plot_ecdf(k1_MAN2, k5_MAN2, k11_MAN2, \"MAN2\", 5)\n",
    "plot_ecdf(k1_SIM001, k5_SIM001, k11_SIM001, \"SIM001\", 6)"
   ]
  },
  {
   "cell_type": "code",
   "execution_count": null,
   "metadata": {},
   "outputs": [],
   "source": [
    "#Import seaborn library and generate ecdf plot here\n",
    "sns.ecdfplot(x = k1_LIB1).set_title('LIB1');\n",
    "sns.ecdfplot(x = k5_LIB1);\n",
    "sns.ecdfplot(x = k11_LIB1);"
   ]
  },
  {
   "cell_type": "markdown",
   "metadata": {},
   "source": [
    "### Execution time for knn and prediction"
   ]
  },
  {
   "cell_type": "code",
   "execution_count": 15,
   "metadata": {},
   "outputs": [
    {
     "name": "stdout",
     "output_type": "stream",
     "text": [
      "DSI1: 3.59747052192688\n",
      "DSI2: 1.508279800415039\n",
      "LIB1: 7.516261577606201\n",
      "LIB2: 8.368971347808838\n",
      "MAN2: 0.4539635181427002\n",
      "SIM001: 7.518806457519531\n"
     ]
    }
   ],
   "source": [
    "k = 1\n",
    "\n",
    "# calculate knn and predict positions\n",
    "start = time.time()\n",
    "positions_DSI1 = knn_and_prediction(k, df_tstrss_DSI1, df_trnrss_DSI1, df_trncrd_DSI1)\n",
    "end = time.time()\n",
    "print(\"DSI1: {}\".format(end - start))\n",
    "\n",
    "start = time.time()\n",
    "positions_DSI2 = knn_and_prediction(k, df_tstrss_DSI2, df_trnrss_DSI2, df_trncrd_DSI2)\n",
    "end = time.time()\n",
    "print(\"DSI2: {}\".format(end - start))\n",
    "\n",
    "start = time.time()\n",
    "positions_LIB1 = knn_and_prediction(k, df_tstrss_LIB1, df_trnrss_LIB1, df_trncrd_LIB1)\n",
    "end = time.time()\n",
    "print(\"LIB1: {}\".format(end - start))\n",
    "\n",
    "start = time.time()\n",
    "positions_LIB2 = knn_and_prediction(k, df_tstrss_LIB2, df_trnrss_LIB2, df_trncrd_LIB2)\n",
    "end = time.time()\n",
    "print(\"LIB2: {}\".format(end - start))\n",
    "\n",
    "start = time.time()\n",
    "positions_MAN2 = knn_and_prediction(k, df_tstrss_MAN2, df_trnrss_MAN2, df_trncrd_MAN2)\n",
    "end = time.time()\n",
    "print(\"MAN2: {}\".format(end - start))\n",
    "\n",
    "start = time.time()\n",
    "positions_SIM001 = knn_and_prediction(k, df_tstrss_SIM001, df_trnrss_SIM001, df_trncrd_SIM001)\n",
    "end = time.time()\n",
    "print(\"SIM001: {}\".format(end - start))"
   ]
  },
  {
   "cell_type": "markdown",
   "metadata": {},
   "source": [
    "### Calculate average error"
   ]
  },
  {
   "cell_type": "code",
   "execution_count": 18,
   "metadata": {},
   "outputs": [],
   "source": [
    "# calculate average error from list of positioning errors\n",
    "averr_DSI1 = st.fmean(k1_DSI1)\n",
    "averr_DSI2 = st.fmean(k1_DSI2)\n",
    "averr_LIB1 = st.fmean(k1_LIB1)\n",
    "averr_LIB2 = st.fmean(k1_LIB2)\n",
    "averr_MAN2 = st.fmean(k1_MAN2)\n",
    "averr_SIM001 = st.fmean(k1_SIM001)"
   ]
  },
  {
   "cell_type": "code",
   "execution_count": 19,
   "metadata": {},
   "outputs": [
    {
     "name": "stdout",
     "output_type": "stream",
     "text": [
      "DSI1: 6.46\n",
      "DSI2: 6.46\n",
      "LIB1: 3.8\n",
      "LIB2: 4.47\n",
      "MAN2: 3.26\n",
      "SIM001: 3.37\n"
     ]
    }
   ],
   "source": [
    "print(\"DSI1: {}\".format(round(averr_DSI1, 2)))\n",
    "print(\"DSI2: {}\".format(round(averr_DSI2, 2)))\n",
    "print(\"LIB1: {}\".format(round(averr_LIB1, 2)))\n",
    "print(\"LIB2: {}\".format(round(averr_LIB2, 2)))\n",
    "print(\"MAN2: {}\".format(round(averr_MAN2, 2)))\n",
    "print(\"SIM001: {}\".format(round(averr_SIM001, 2)))"
   ]
  },
  {
   "cell_type": "markdown",
   "metadata": {},
   "source": [
    "### Distance measures comparison on DSI1: average error"
   ]
  },
  {
   "cell_type": "code",
   "execution_count": 58,
   "metadata": {},
   "outputs": [
    {
     "ename": "TypeError",
     "evalue": "unsupported operand type(s) for -: 'list' and 'list'",
     "output_type": "error",
     "traceback": [
      "\u001b[1;31m---------------------------------------------------------------------------\u001b[0m",
      "\u001b[1;31mTypeError\u001b[0m                                 Traceback (most recent call last)",
      "\u001b[1;32m<ipython-input-58-9dc3d75d6674>\u001b[0m in \u001b[0;36m<module>\u001b[1;34m\u001b[0m\n\u001b[1;32m----> 1\u001b[1;33m \u001b[0mdf_tstrss_DSI1\u001b[0m\u001b[1;33m[\u001b[0m\u001b[1;36m0\u001b[0m\u001b[1;33m]\u001b[0m\u001b[1;33m-\u001b[0m\u001b[0mdf_tstrss_DSI1\u001b[0m\u001b[1;33m[\u001b[0m\u001b[1;36m23\u001b[0m\u001b[1;33m]\u001b[0m\u001b[1;33m\u001b[0m\u001b[1;33m\u001b[0m\u001b[0m\n\u001b[0m",
      "\u001b[1;31mTypeError\u001b[0m: unsupported operand type(s) for -: 'list' and 'list'"
     ]
    }
   ],
   "source": [
    "df_tstrss_DSI1[0]-df_tstrss_DSI1[23]"
   ]
  },
  {
   "cell_type": "code",
   "execution_count": 131,
   "metadata": {},
   "outputs": [],
   "source": [
    "def normalize(h):\n",
    "    return h / np.sum(h)\n",
    "\n",
    "def gower_dist(P, Q):\n",
    "    P = np.array(P)\n",
    "    Q = np.array(Q)\n",
    "    abs_subs = list(map(abs, list(np.subtract(P, Q))))\n",
    "    return sum(abs_subs)/len(P)\n",
    "\n",
    "def soergel_dist(P, Q):\n",
    "    P = np.array(P)\n",
    "    Q = np.array(Q)\n",
    "    abs_subs = list(map(abs, list(np.subtract(P, Q))))\n",
    "    max_el = list(map(max, P, Q))\n",
    "    return sum(abs_subs)/sum(max_el)\n",
    "\n",
    "def kulczynski_d_dist(P, Q):\n",
    "    P = np.array(P)\n",
    "    Q = np.array(Q)\n",
    "    abs_subs = list(map(abs, list(np.subtract(P, Q))))\n",
    "    min_el = list(map(min, P, Q))\n",
    "    return sum(abs_subs)/sum(min_el)\n",
    "\n",
    "def lorentzian_dist(P, Q):\n",
    "    P = np.array(P)\n",
    "    Q = np.array(Q)\n",
    "    abs_subs = list(map(abs, list(np.subtract(P, Q))))\n",
    "    add_1 = list(np.asarray(abs_subs) + 1)\n",
    "    return sum(np.log(add_1))\n",
    "\n",
    "def intersection_dist(P, Q):\n",
    "    return sum(list(map(min, P, Q)))\n",
    "\n",
    "def wavehedges(P, Q):\n",
    "    min_el = list(map(min, P, Q))\n",
    "    subs = list(1 - np.asarray(min_el))\n",
    "    max_el = list(map(max, P, Q))\n",
    "    return sum(list(map(truediv, subs, max_el)))\n",
    "\n",
    "def czekanowski_s_dist(P, Q):\n",
    "    min_el = list(map(min, P, Q))\n",
    "    subs = list(1 - np.asarray(min_el))\n",
    "    sumPQ = list(map(add, P, Q) )\n",
    "    return 2*sum(list(map(truediv, subs, sumPQ)))\n",
    "\n",
    "def czekanowski_d_dist(P, Q):\n",
    "    return 1 - czekanowski_s_dist(P, Q)\n",
    "\n",
    "def motyka_s_dist(P, Q):\n",
    "    min_el = list(map(min, P, Q))\n",
    "    subs = list(1 - np.asarray(min_el))\n",
    "    sumPQ = list(map(add, P, Q))\n",
    "    return sum(list(map(truediv, subs, sumPQ)))\n",
    "\n",
    "def motyka_d_dist(P, Q):\n",
    "    return 1 - motyka_s_dist(P, Q)\n",
    "\n",
    "def kulczynski_s_dist(P, Q):\n",
    "    P = np.array(P)\n",
    "    Q = np.array(Q)\n",
    "    abs_subs = list(map(abs, list(np.subtract(P, Q))))\n",
    "    min_el = list(map(min, P, Q))\n",
    "    dist = 0\n",
    "    \n",
    "    if sum(abs_subs) != 0:\n",
    "        dist = sum(list(map(truediv, min_el, abs_subs)))\n",
    "    \n",
    "    if sum(min_el) != 0:\n",
    "        dist = 1/dist\n",
    "    \n",
    "    return dist\n",
    "\n",
    "def ruzicka_dist(P, Q):\n",
    "    min_el = list(map(min, P, Q))\n",
    "    max_el = list(map(max, P, Q))\n",
    "    return 1 - sum(min_el)/sum(max_el)\n",
    "        \n",
    "def tanimoto_dist(P, Q):\n",
    "    min_el = list(map(min, P, Q))\n",
    "    return (sum(P) + sum(Q) - 2*sum(min_el)) /  (sum(P) + sum(Q) - sum(min_el))\n",
    "\n",
    "def harmonic(P, Q):\n",
    "    min_el = list(map(min, P, Q))\n",
    "    multPQ = list(map(mul, P, Q))\n",
    "    sumPQ = list(map(add, P, Q))\n",
    "    return 2*sum(list(map(truediv, multPQ, sumPQ)))\n",
    "\n",
    "def kumar(P, Q):\n",
    "    return np.dot(P, Q) / (np.dot(P, P) + np.dot(Q, Q) - np.dot(P, Q))\n",
    "\n",
    "def jaccard_s_dist(P, Q):\n",
    "    return kumar(P, Q)\n",
    "        \n",
    "def jaccard_d_dist(P, Q):\n",
    "    return 1 - jaccard_s_dist(P, Q)\n",
    "\n",
    "def dice_s_dist(P, Q):\n",
    "    return 2*np.dot(P, Q) / (np.dot(P, P) + np.dot(Q, Q))\n",
    "    \n",
    "def dice_d_dist(P, Q):\n",
    "    return 1 - dice_s_dist(P, Q)\n",
    "    \n",
    "# Locate the most similar neighbors and return list of indexes\n",
    "def get_neighbors(train, test_row, k):\n",
    "    distances = list()\n",
    "    for idx, train_row in enumerate(train):\n",
    "        # Lp Minkowski family\n",
    "        #dist = math.dist(test_row, train_row) #euclidean\n",
    "        #dist = dt.minkowski(test_row, train_row, 5)\n",
    "        #dist = dt.cityblock(test_row, train_row)\n",
    "        #dist = dt.chebyshev(test_row, train_row)\n",
    "        \n",
    "        # L1 family\n",
    "        #dist = distance.sorensen(test_row, train_row)\n",
    "        #dist = gower_dist(test_row, train_row)\n",
    "        #dist = soergel_dist(test_row, train_row)\n",
    "        #dist = kulczynski_d_dist(test_row, train_row)\n",
    "        #dist = lorentzian_dist(test_row, train_row)\n",
    "        #dist = dt.canberra(test_row, train_row)\n",
    "        \n",
    "        # Intersection family\n",
    "        #dist = intersection_dist(test_row, train_row)\n",
    "        #dist = wavehedges(test_row, train_row)\n",
    "        #dist = czekanowski_s_dist(test_row, train_row)\n",
    "        #dist = czekanowski_d_dist(test_row, train_row)\n",
    "        #dist = motyka_s_dist(test_row, train_row)\n",
    "        #dist = motyka_d_dist(test_row, train_row)\n",
    "        #dist = kulczynski_s_dist(test_row, train_row)\n",
    "        #dist = ruzicka_dist(test_row, train_row)\n",
    "        #dist = tanimoto_dist(test_row, train_row)\n",
    "        \n",
    "        # Inner product family\n",
    "        #dist = np.inner(test_row, train_row)\n",
    "        #dist = harmonic(test_row, train_row)\n",
    "        #dist = dt.cosine(test_row, train_row)\n",
    "        #dist = kumar(test_row, train_row)\n",
    "        #dist = jaccard_s_dist(test_row, train_row)\n",
    "        #dist = jaccard_d_dist(test_row, train_row)\n",
    "        #dist = dice_s_dist(test_row, train_row)\n",
    "        dist = dice_d_dist(test_row, train_row)\n",
    "        \n",
    "        # Fidelity family or Squared-chord family\n",
    "        #dist = 1 - np.sum(np.sqrt(np.multiply(normalize(test_row), normalize(train_row))))\n",
    "        \n",
    "        distances.append((idx, dist))\n",
    "    distances.sort(key=lambda tup: tup[1])\n",
    "    neighbors = [distances[i][0] for i in range(k)]\n",
    "    return neighbors"
   ]
  },
  {
   "cell_type": "markdown",
   "metadata": {},
   "source": [
    "#### Lp Minkowski family"
   ]
  },
  {
   "cell_type": "code",
   "execution_count": 10,
   "metadata": {},
   "outputs": [
    {
     "name": "stdout",
     "output_type": "stream",
     "text": [
      "6.38\n"
     ]
    }
   ],
   "source": [
    "# Minkowski p=1\n",
    "k=1\n",
    "err = positioning_error(k, df_tstrss_DSI1, df_trnrss_DSI1, df_tstcrd_DSI1, df_trncrd_DSI1)\n",
    "print(round(st.fmean(err), 2))"
   ]
  },
  {
   "cell_type": "code",
   "execution_count": 21,
   "metadata": {},
   "outputs": [
    {
     "name": "stdout",
     "output_type": "stream",
     "text": [
      "6.46\n"
     ]
    }
   ],
   "source": [
    "# Minkowski p=2\n",
    "err = positioning_error(k, df_tstrss_DSI1, df_trnrss_DSI1, df_tstcrd_DSI1, df_trncrd_DSI1)\n",
    "print(round(st.fmean(err), 2))"
   ]
  },
  {
   "cell_type": "code",
   "execution_count": 23,
   "metadata": {},
   "outputs": [
    {
     "name": "stdout",
     "output_type": "stream",
     "text": [
      "6.56\n"
     ]
    }
   ],
   "source": [
    "# Minkowski p=3\n",
    "err = positioning_error(k, df_tstrss_DSI1, df_trnrss_DSI1, df_tstcrd_DSI1, df_trncrd_DSI1)\n",
    "print(round(st.fmean(err), 2))"
   ]
  },
  {
   "cell_type": "code",
   "execution_count": 29,
   "metadata": {},
   "outputs": [
    {
     "name": "stdout",
     "output_type": "stream",
     "text": [
      "6.47\n"
     ]
    }
   ],
   "source": [
    "# Minkowski p=4\n",
    "err = positioning_error(k, df_tstrss_DSI1, df_trnrss_DSI1, df_tstcrd_DSI1, df_trncrd_DSI1)\n",
    "print(round(st.fmean(err), 2))"
   ]
  },
  {
   "cell_type": "code",
   "execution_count": 31,
   "metadata": {},
   "outputs": [
    {
     "name": "stdout",
     "output_type": "stream",
     "text": [
      "6.53\n"
     ]
    }
   ],
   "source": [
    "# Minkowski p=5\n",
    "err = positioning_error(k, df_tstrss_DSI1, df_trnrss_DSI1, df_tstcrd_DSI1, df_trncrd_DSI1)\n",
    "print(round(st.fmean(err), 2))"
   ]
  },
  {
   "cell_type": "code",
   "execution_count": 25,
   "metadata": {},
   "outputs": [
    {
     "name": "stdout",
     "output_type": "stream",
     "text": [
      "6.38\n"
     ]
    }
   ],
   "source": [
    "# City block (manhattan)\n",
    "err = positioning_error(k, df_tstrss_DSI1, df_trnrss_DSI1, df_tstcrd_DSI1, df_trncrd_DSI1)\n",
    "print(round(st.fmean(err), 2))"
   ]
  },
  {
   "cell_type": "code",
   "execution_count": 27,
   "metadata": {},
   "outputs": [
    {
     "name": "stdout",
     "output_type": "stream",
     "text": [
      "21.18\n"
     ]
    }
   ],
   "source": [
    "# Chebyshev\n",
    "err = positioning_error(k, df_tstrss_DSI1, df_trnrss_DSI1, df_tstcrd_DSI1, df_trncrd_DSI1)\n",
    "print(round(st.fmean(err), 2))"
   ]
  },
  {
   "cell_type": "markdown",
   "metadata": {},
   "source": [
    "#### L1 family"
   ]
  },
  {
   "cell_type": "code",
   "execution_count": 40,
   "metadata": {},
   "outputs": [
    {
     "name": "stdout",
     "output_type": "stream",
     "text": [
      "26.65\n"
     ]
    }
   ],
   "source": [
    "# Sorensen\n",
    "err = positioning_error(k, df_tstrss_DSI1, df_trnrss_DSI1, df_tstcrd_DSI1, df_trncrd_DSI1)\n",
    "print(round(st.fmean(err), 2))"
   ]
  },
  {
   "cell_type": "code",
   "execution_count": 64,
   "metadata": {},
   "outputs": [
    {
     "name": "stdout",
     "output_type": "stream",
     "text": [
      "6.38\n"
     ]
    }
   ],
   "source": [
    "# Gower\n",
    "err = positioning_error(k, df_tstrss_DSI1, df_trnrss_DSI1, df_tstcrd_DSI1, df_trncrd_DSI1)\n",
    "print(round(st.fmean(err), 2))"
   ]
  },
  {
   "cell_type": "code",
   "execution_count": 66,
   "metadata": {},
   "outputs": [
    {
     "name": "stdout",
     "output_type": "stream",
     "text": [
      "6.35\n"
     ]
    }
   ],
   "source": [
    "# Soergel\n",
    "err = positioning_error(k, df_tstrss_DSI1, df_trnrss_DSI1, df_tstcrd_DSI1, df_trncrd_DSI1)\n",
    "print(round(st.fmean(err), 2))"
   ]
  },
  {
   "cell_type": "code",
   "execution_count": 74,
   "metadata": {},
   "outputs": [
    {
     "name": "stdout",
     "output_type": "stream",
     "text": [
      "6.35\n"
     ]
    }
   ],
   "source": [
    "# Kulczynski d\n",
    "err = positioning_error(k, df_tstrss_DSI1, df_trnrss_DSI1, df_tstcrd_DSI1, df_trncrd_DSI1)\n",
    "print(round(st.fmean(err), 2))"
   ]
  },
  {
   "cell_type": "code",
   "execution_count": 71,
   "metadata": {},
   "outputs": [
    {
     "name": "stdout",
     "output_type": "stream",
     "text": [
      "6.42\n"
     ]
    }
   ],
   "source": [
    "# Canberra\n",
    "err = positioning_error(k, df_tstrss_DSI1, df_trnrss_DSI1, df_tstcrd_DSI1, df_trncrd_DSI1)\n",
    "print(round(st.fmean(err), 2))"
   ]
  },
  {
   "cell_type": "code",
   "execution_count": 82,
   "metadata": {},
   "outputs": [
    {
     "name": "stdout",
     "output_type": "stream",
     "text": [
      "5.91\n"
     ]
    }
   ],
   "source": [
    "# Lorentzian\n",
    "err = positioning_error(k, df_tstrss_DSI1, df_trnrss_DSI1, df_tstcrd_DSI1, df_trncrd_DSI1)\n",
    "print(round(st.fmean(err), 2))"
   ]
  },
  {
   "cell_type": "markdown",
   "metadata": {},
   "source": [
    "#### Intersection family"
   ]
  },
  {
   "cell_type": "code",
   "execution_count": 84,
   "metadata": {},
   "outputs": [
    {
     "name": "stdout",
     "output_type": "stream",
     "text": [
      "39.35\n"
     ]
    }
   ],
   "source": [
    "# Intersection\n",
    "err = positioning_error(k, df_tstrss_DSI1, df_trnrss_DSI1, df_tstcrd_DSI1, df_trncrd_DSI1)\n",
    "print(round(st.fmean(err), 2))"
   ]
  },
  {
   "cell_type": "code",
   "execution_count": 90,
   "metadata": {},
   "outputs": [
    {
     "name": "stdout",
     "output_type": "stream",
     "text": [
      "6.95\n"
     ]
    }
   ],
   "source": [
    "# Wave Hedges\n",
    "err = positioning_error(k, df_tstrss_DSI1, df_trnrss_DSI1, df_tstcrd_DSI1, df_trncrd_DSI1)\n",
    "print(round(st.fmean(err), 2))"
   ]
  },
  {
   "cell_type": "code",
   "execution_count": 93,
   "metadata": {},
   "outputs": [
    {
     "name": "stdout",
     "output_type": "stream",
     "text": [
      "7.46\n"
     ]
    }
   ],
   "source": [
    "# Czekanowski s\n",
    "err = positioning_error(k, df_tstrss_DSI1, df_trnrss_DSI1, df_tstcrd_DSI1, df_trncrd_DSI1)\n",
    "print(round(st.fmean(err), 2))"
   ]
  },
  {
   "cell_type": "code",
   "execution_count": 121,
   "metadata": {},
   "outputs": [
    {
     "name": "stdout",
     "output_type": "stream",
     "text": [
      "56.34\n"
     ]
    }
   ],
   "source": [
    "# Czekanowski d\n",
    "err = positioning_error(k, df_tstrss_DSI1, df_trnrss_DSI1, df_tstcrd_DSI1, df_trncrd_DSI1)\n",
    "print(round(st.fmean(err), 2))"
   ]
  },
  {
   "cell_type": "code",
   "execution_count": 95,
   "metadata": {},
   "outputs": [
    {
     "name": "stdout",
     "output_type": "stream",
     "text": [
      "7.46\n"
     ]
    }
   ],
   "source": [
    "# Motyka s\n",
    "err = positioning_error(k, df_tstrss_DSI1, df_trnrss_DSI1, df_tstcrd_DSI1, df_trncrd_DSI1)\n",
    "print(round(st.fmean(err), 2))"
   ]
  },
  {
   "cell_type": "code",
   "execution_count": 123,
   "metadata": {},
   "outputs": [
    {
     "name": "stdout",
     "output_type": "stream",
     "text": [
      "56.34\n"
     ]
    }
   ],
   "source": [
    "# Motyka d\n",
    "err = positioning_error(k, df_tstrss_DSI1, df_trnrss_DSI1, df_tstcrd_DSI1, df_trncrd_DSI1)\n",
    "print(round(st.fmean(err), 2))"
   ]
  },
  {
   "cell_type": "code",
   "execution_count": 97,
   "metadata": {},
   "outputs": [
    {
     "name": "stderr",
     "output_type": "stream",
     "text": [
      "<ipython-input-96-cdb19d2d6192>:60: RuntimeWarning: divide by zero encountered in long_scalars\n",
      "  dist = sum(list(map(truediv, min_el, abs_subs)))\n",
      "<ipython-input-96-cdb19d2d6192>:60: RuntimeWarning: invalid value encountered in double_scalars\n",
      "  dist = sum(list(map(truediv, min_el, abs_subs)))\n"
     ]
    },
    {
     "name": "stdout",
     "output_type": "stream",
     "text": [
      "35.61\n"
     ]
    }
   ],
   "source": [
    "# Kulczynski s\n",
    "err = positioning_error(k, df_tstrss_DSI1, df_trnrss_DSI1, df_tstcrd_DSI1, df_trncrd_DSI1)\n",
    "print(round(st.fmean(err), 2))"
   ]
  },
  {
   "cell_type": "code",
   "execution_count": 103,
   "metadata": {},
   "outputs": [
    {
     "name": "stdout",
     "output_type": "stream",
     "text": [
      "6.35\n"
     ]
    }
   ],
   "source": [
    "# Ruzicka\n",
    "err = positioning_error(k, df_tstrss_DSI1, df_trnrss_DSI1, df_tstcrd_DSI1, df_trncrd_DSI1)\n",
    "print(round(st.fmean(err), 2))"
   ]
  },
  {
   "cell_type": "code",
   "execution_count": 105,
   "metadata": {},
   "outputs": [
    {
     "name": "stdout",
     "output_type": "stream",
     "text": [
      "6.35\n"
     ]
    }
   ],
   "source": [
    "# Tanimoto\n",
    "err = positioning_error(k, df_tstrss_DSI1, df_trnrss_DSI1, df_tstcrd_DSI1, df_trncrd_DSI1)\n",
    "print(round(st.fmean(err), 2))"
   ]
  },
  {
   "cell_type": "markdown",
   "metadata": {},
   "source": [
    "#### Inner product family"
   ]
  },
  {
   "cell_type": "code",
   "execution_count": 111,
   "metadata": {},
   "outputs": [
    {
     "name": "stdout",
     "output_type": "stream",
     "text": [
      "48.84\n"
     ]
    }
   ],
   "source": [
    "# Inner product\n",
    "err = positioning_error(k, df_tstrss_DSI1, df_trnrss_DSI1, df_tstcrd_DSI1, df_trncrd_DSI1)\n",
    "print(round(st.fmean(err), 2))"
   ]
  },
  {
   "cell_type": "code",
   "execution_count": 109,
   "metadata": {},
   "outputs": [
    {
     "name": "stdout",
     "output_type": "stream",
     "text": [
      "55.84\n"
     ]
    }
   ],
   "source": [
    "# Harmonic mean\n",
    "err = positioning_error(k, df_tstrss_DSI1, df_trnrss_DSI1, df_tstcrd_DSI1, df_trncrd_DSI1)\n",
    "print(round(st.fmean(err), 2))"
   ]
  },
  {
   "cell_type": "code",
   "execution_count": 113,
   "metadata": {},
   "outputs": [
    {
     "name": "stdout",
     "output_type": "stream",
     "text": [
      "6.46\n"
     ]
    }
   ],
   "source": [
    "# Cosine\n",
    "err = positioning_error(k, df_tstrss_DSI1, df_trnrss_DSI1, df_tstcrd_DSI1, df_trncrd_DSI1)\n",
    "print(round(st.fmean(err), 2))"
   ]
  },
  {
   "cell_type": "code",
   "execution_count": 119,
   "metadata": {},
   "outputs": [
    {
     "name": "stdout",
     "output_type": "stream",
     "text": [
      "49.36\n"
     ]
    }
   ],
   "source": [
    "# Kumar-Hassebrook\n",
    "err = positioning_error(k, df_tstrss_DSI1, df_trnrss_DSI1, df_tstcrd_DSI1, df_trncrd_DSI1)\n",
    "print(round(st.fmean(err), 2))"
   ]
  },
  {
   "cell_type": "code",
   "execution_count": 117,
   "metadata": {},
   "outputs": [
    {
     "name": "stdout",
     "output_type": "stream",
     "text": [
      "49.36\n"
     ]
    }
   ],
   "source": [
    "# Jaccard s\n",
    "err = positioning_error(k, df_tstrss_DSI1, df_trnrss_DSI1, df_tstcrd_DSI1, df_trncrd_DSI1)\n",
    "print(round(st.fmean(err), 2))"
   ]
  },
  {
   "cell_type": "code",
   "execution_count": 125,
   "metadata": {},
   "outputs": [
    {
     "name": "stdout",
     "output_type": "stream",
     "text": [
      "6.46\n"
     ]
    }
   ],
   "source": [
    "# Jaccard d\n",
    "err = positioning_error(k, df_tstrss_DSI1, df_trnrss_DSI1, df_tstcrd_DSI1, df_trncrd_DSI1)\n",
    "print(round(st.fmean(err), 2))"
   ]
  },
  {
   "cell_type": "code",
   "execution_count": 130,
   "metadata": {},
   "outputs": [
    {
     "name": "stdout",
     "output_type": "stream",
     "text": [
      "49.36\n"
     ]
    }
   ],
   "source": [
    "# Dice s\n",
    "err = positioning_error(k, df_tstrss_DSI1, df_trnrss_DSI1, df_tstcrd_DSI1, df_trncrd_DSI1)\n",
    "print(round(st.fmean(err), 2))"
   ]
  },
  {
   "cell_type": "code",
   "execution_count": 132,
   "metadata": {},
   "outputs": [
    {
     "name": "stdout",
     "output_type": "stream",
     "text": [
      "6.46\n"
     ]
    }
   ],
   "source": [
    "# Dice d\n",
    "err = positioning_error(k, df_tstrss_DSI1, df_trnrss_DSI1, df_tstcrd_DSI1, df_trncrd_DSI1)\n",
    "print(round(st.fmean(err), 2))"
   ]
  },
  {
   "cell_type": "markdown",
   "metadata": {},
   "source": [
    "#### Fidelity family or Squared-chord family"
   ]
  },
  {
   "cell_type": "code",
   "execution_count": null,
   "metadata": {},
   "outputs": [],
   "source": [
    "# Bhattacharyya\n",
    "err = positioning_error(k, df_tstrss_DSI1, df_trnrss_DSI1, df_tstcrd_DSI1, df_trncrd_DSI1)\n",
    "print(round(st.fmean(err), 2))"
   ]
  },
  {
   "cell_type": "code",
   "execution_count": null,
   "metadata": {},
   "outputs": [],
   "source": []
  }
 ],
 "metadata": {
  "kernelspec": {
   "display_name": "Python 3",
   "language": "python",
   "name": "python3"
  },
  "language_info": {
   "codemirror_mode": {
    "name": "ipython",
    "version": 3
   },
   "file_extension": ".py",
   "mimetype": "text/x-python",
   "name": "python",
   "nbconvert_exporter": "python",
   "pygments_lexer": "ipython3",
   "version": "3.8.5"
  }
 },
 "nbformat": 4,
 "nbformat_minor": 4
}
