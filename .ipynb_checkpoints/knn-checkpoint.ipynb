{
 "cells": [
  {
   "cell_type": "markdown",
   "metadata": {},
   "source": [
    "# TFM\n",
    "\n",
    "data: https://drive.google.com/drive/folders/1fx_j6gmiATvhEaBtUwEPuCOl8peJ2zDM\n",
    "\n",
    "## Import packages and knn_lib"
   ]
  },
  {
   "cell_type": "code",
   "execution_count": 1,
   "metadata": {},
   "outputs": [],
   "source": [
    "import math\n",
    "import pandas as pd\n",
    "from matplotlib import pyplot as plt\n",
    "import numpy as np\n",
    "import time\n",
    "import statistics as st\n",
    "import distance\n",
    "\n",
    "from ipynb.fs.full.knn_lib import *"
   ]
  },
  {
   "cell_type": "markdown",
   "metadata": {},
   "source": [
    "### Euclidean distance"
   ]
  },
  {
   "cell_type": "code",
   "execution_count": 2,
   "metadata": {},
   "outputs": [],
   "source": [
    "# calculate the Euclidean distance between two vectors\n",
    "def euclidean_distance(row1, row2):\n",
    "    distance = 0.0\n",
    "    for i in range(len(row1)-1):\n",
    "        distance += (row1[i] - row2[i])**2\n",
    "    return math.sqrt(distance)"
   ]
  },
  {
   "cell_type": "markdown",
   "metadata": {},
   "source": [
    "#### Time comparison"
   ]
  },
  {
   "cell_type": "code",
   "execution_count": null,
   "metadata": {},
   "outputs": [],
   "source": [
    "row0 = df_tstrss_DSI1[0]\n",
    "start = time.time()\n",
    "for row in df_trnrss_DSI1:\n",
    "    euclidean_distance(row0, row)\n",
    "end = time.time()\n",
    "print(end - start)"
   ]
  },
  {
   "cell_type": "code",
   "execution_count": null,
   "metadata": {},
   "outputs": [],
   "source": [
    "a = np.array(df_tstrss_DSI1[0])\n",
    "b = np.array(df_trnrss_DSI1)\n",
    "start = time.time()\n",
    "for row in b:\n",
    "    np.linalg.norm(a-b)\n",
    "end = time.time()\n",
    "print(end - start)"
   ]
  },
  {
   "cell_type": "code",
   "execution_count": null,
   "metadata": {},
   "outputs": [],
   "source": [
    "start = time.time()\n",
    "for row in df_trnrss_DSI1:\n",
    "    np.sqrt(np.sum(np.square(a-b)))\n",
    "end = time.time()\n",
    "print(end - start)"
   ]
  },
  {
   "cell_type": "code",
   "execution_count": 3,
   "metadata": {
    "collapsed": true
   },
   "outputs": [
    {
     "ename": "NameError",
     "evalue": "name 'df_trnrss_DSI1' is not defined",
     "output_type": "error",
     "traceback": [
      "\u001b[1;31m---------------------------------------------------------------------------\u001b[0m",
      "\u001b[1;31mNameError\u001b[0m                                 Traceback (most recent call last)",
      "\u001b[1;32m<ipython-input-3-56fc77bbd64e>\u001b[0m in \u001b[0;36m<module>\u001b[1;34m\u001b[0m\n\u001b[0;32m      1\u001b[0m \u001b[1;32mfrom\u001b[0m \u001b[0mscipy\u001b[0m\u001b[1;33m.\u001b[0m\u001b[0mspatial\u001b[0m \u001b[1;32mimport\u001b[0m \u001b[0mdistance\u001b[0m\u001b[1;33m\u001b[0m\u001b[1;33m\u001b[0m\u001b[0m\n\u001b[0;32m      2\u001b[0m \u001b[0mstart\u001b[0m \u001b[1;33m=\u001b[0m \u001b[0mtime\u001b[0m\u001b[1;33m.\u001b[0m\u001b[0mtime\u001b[0m\u001b[1;33m(\u001b[0m\u001b[1;33m)\u001b[0m\u001b[1;33m\u001b[0m\u001b[1;33m\u001b[0m\u001b[0m\n\u001b[1;32m----> 3\u001b[1;33m \u001b[1;32mfor\u001b[0m \u001b[0mrow\u001b[0m \u001b[1;32min\u001b[0m \u001b[0mdf_trnrss_DSI1\u001b[0m\u001b[1;33m:\u001b[0m\u001b[1;33m\u001b[0m\u001b[1;33m\u001b[0m\u001b[0m\n\u001b[0m\u001b[0;32m      4\u001b[0m     \u001b[0mdistance\u001b[0m\u001b[1;33m.\u001b[0m\u001b[0meuclidean\u001b[0m\u001b[1;33m(\u001b[0m\u001b[0mrow0\u001b[0m\u001b[1;33m,\u001b[0m \u001b[0mrow\u001b[0m\u001b[1;33m)\u001b[0m\u001b[1;33m\u001b[0m\u001b[1;33m\u001b[0m\u001b[0m\n\u001b[0;32m      5\u001b[0m \u001b[0mend\u001b[0m \u001b[1;33m=\u001b[0m \u001b[0mtime\u001b[0m\u001b[1;33m.\u001b[0m\u001b[0mtime\u001b[0m\u001b[1;33m(\u001b[0m\u001b[1;33m)\u001b[0m\u001b[1;33m\u001b[0m\u001b[1;33m\u001b[0m\u001b[0m\n",
      "\u001b[1;31mNameError\u001b[0m: name 'df_trnrss_DSI1' is not defined"
     ]
    }
   ],
   "source": [
    "from scipy.spatial import distance\n",
    "start = time.time()\n",
    "for row in df_trnrss_DSI1:\n",
    "    distance.euclidean(row0, row)\n",
    "end = time.time()\n",
    "print(end - start)"
   ]
  },
  {
   "cell_type": "code",
   "execution_count": 53,
   "metadata": {},
   "outputs": [
    {
     "name": "stdout",
     "output_type": "stream",
     "text": [
      "0.013959169387817383\n"
     ]
    }
   ],
   "source": [
    "# WINNER\n",
    "start = time.time()\n",
    "for row in df_trnrss_DSI1:\n",
    "    math.dist(row0, row)\n",
    "end = time.time()\n",
    "print(end - start)"
   ]
  },
  {
   "cell_type": "markdown",
   "metadata": {},
   "source": [
    "### Calculations"
   ]
  },
  {
   "cell_type": "code",
   "execution_count": 4,
   "metadata": {},
   "outputs": [
    {
     "name": "stdout",
     "output_type": "stream",
     "text": [
      "338.6705369949341\n"
     ]
    }
   ],
   "source": [
    "start = time.time()\n",
    "k=1\n",
    "k1_DSI1 = positioning_error(k, \"DSI1\")\n",
    "k1_DSI2 = positioning_error(k, \"DSI2\")\n",
    "k1_LIB1 = positioning_error(k, \"LIB1\")\n",
    "k1_LIB2 = positioning_error(k, \"LIB2\")\n",
    "k1_MAN1 = positioning_error(k, \"MAN1\")\n",
    "k1_MAN2 = positioning_error(k, \"MAN2\")\n",
    "k1_SIM001 = positioning_error(k, \"SIM001\")\n",
    "\n",
    "k=5\n",
    "k5_DSI1 = positioning_error(k, \"DSI1\")\n",
    "k5_DSI2 = positioning_error(k, \"DSI2\")\n",
    "k5_LIB1 = positioning_error(k, \"LIB1\")\n",
    "k5_LIB2 = positioning_error(k, \"LIB2\")\n",
    "k5_MAN1 = positioning_error(k, \"MAN1\")\n",
    "k5_MAN2 = positioning_error(k, \"MAN2\")\n",
    "k5_SIM001 = positioning_error(k, \"SIM001\")\n",
    "\n",
    "k=11\n",
    "k11_DSI1 = positioning_error(k, \"DSI1\")\n",
    "k11_DSI2 = positioning_error(k, \"DSI2\")\n",
    "k11_LIB1 = positioning_error(k, \"LIB1\")\n",
    "k11_LIB2 = positioning_error(k, \"LIB2\")\n",
    "k11_MAN1 = positioning_error(k, \"MAN1\")\n",
    "k11_MAN2 = positioning_error(k, \"MAN2\")\n",
    "k11_SIM001 = positioning_error(k, \"SIM001\")\n",
    "\n",
    "end = time.time()\n",
    "print(end - start)"
   ]
  },
  {
   "cell_type": "markdown",
   "metadata": {},
   "source": [
    "### ECDF"
   ]
  },
  {
   "cell_type": "code",
   "execution_count": 5,
   "metadata": {
    "scrolled": true
   },
   "outputs": [
    {
     "data": {
      "image/png": "[encoded data removed]",
      "text/plain": [
       "<Figure size 432x288 with 1 Axes>"
      ]
     },
     "metadata": {
      "needs_background": "light"
     },
     "output_type": "display_data"
    },
    {
     "data": {
      "image/png": "[encoded data removed]",
      "text/plain": [
       "<Figure size 432x288 with 1 Axes>"
      ]
     },
     "metadata": {
      "needs_background": "light"
     },
     "output_type": "display_data"
    },
    {
     "data": {
      "image/png": "[encoded data removed]",
      "text/plain": [
       "<Figure size 432x288 with 1 Axes>"
      ]
     },
     "metadata": {
      "needs_background": "light"
     },
     "output_type": "display_data"
    },
    {
     "data": {
      "image/png": "[encoded data removed]",
      "text/plain": [
       "<Figure size 432x288 with 1 Axes>"
      ]
     },
     "metadata": {
      "needs_background": "light"
     },
     "output_type": "display_data"
    },
    {
     "data": {
      "image/png": "[encoded data removed]",
      "text/plain": [
       "<Figure size 432x288 with 1 Axes>"
      ]
     },
     "metadata": {
      "needs_background": "light"
     },
     "output_type": "display_data"
    },
    {
     "data": {
      "image/png": "[encoded data removed]",
      "text/plain": [
       "<Figure size 432x288 with 1 Axes>"
      ]
     },
     "metadata": {
      "needs_background": "light"
     },
     "output_type": "display_data"
    },
    {
     "data": {
      "image/png": "[encoded data removed]",
      "text/plain": [
       "<Figure size 432x288 with 1 Axes>"
      ]
     },
     "metadata": {
      "needs_background": "light"
     },
     "output_type": "display_data"
    }
   ],
   "source": [
    "plot_ecdf(k1_DSI1, k5_DSI1, k11_DSI1, \"DSI1\", 1)\n",
    "plot_ecdf(k1_DSI2, k5_DSI2, k11_DSI2, \"DSI2\", 2)\n",
    "plot_ecdf(k1_LIB1, k5_LIB1, k11_LIB1, \"LIB1\", 3)\n",
    "plot_ecdf(k1_LIB2, k5_LIB2, k11_LIB2, \"LIB2\", 4)\n",
    "plot_ecdf(k1_MAN1, k5_MAN1, k11_MAN1, \"MAN1\", 5)\n",
    "plot_ecdf(k1_MAN2, k5_MAN2, k11_MAN2, \"MAN2\", 6)\n",
    "plot_ecdf(k1_SIM001, k5_SIM001, k11_SIM001, \"SIM001\", 7)"
   ]
  },
  {
   "cell_type": "markdown",
   "metadata": {},
   "source": [
    "### Execution time for knn and prediction"
   ]
  },
  {
   "cell_type": "code",
   "execution_count": 6,
   "metadata": {},
   "outputs": [
    {
     "name": "stdout",
     "output_type": "stream",
     "text": [
      "DSI1: 3.1834843158721924\n",
      "DSI2: 1.3005192279815674\n",
      "LIB1: 15.171459913253784\n",
      "LIB2: 18.078359603881836\n",
      "MAN1: 31.907597303390503\n",
      "MAN2: 2.7416670322418213\n",
      "SIM001: 43.50564169883728\n"
     ]
    }
   ],
   "source": [
    "k = 1\n",
    "\n",
    "# calculate knn and predict positions\n",
    "start = time.time()\n",
    "positions_DSI1 = knn_and_prediction(k, \"DSI1\")\n",
    "end = time.time()\n",
    "print(\"DSI1: {}\".format(end - start))\n",
    "\n",
    "start = time.time()\n",
    "positions_DSI2 = knn_and_prediction(k, \"DSI2\")\n",
    "end = time.time()\n",
    "print(\"DSI2: {}\".format(end - start))\n",
    "\n",
    "start = time.time()\n",
    "positions_LIB1 = knn_and_prediction(k,\"LIB1\")\n",
    "end = time.time()\n",
    "print(\"LIB1: {}\".format(end - start))\n",
    "\n",
    "start = time.time()\n",
    "positions_LIB2 = knn_and_prediction(k,\"LIB2\")\n",
    "end = time.time()\n",
    "print(\"LIB2: {}\".format(end - start))\n",
    "\n",
    "start = time.time()\n",
    "positions_MAN1 = knn_and_prediction(k,\"MAN1\")\n",
    "end = time.time()\n",
    "print(\"MAN1: {}\".format(end - start))\n",
    "\n",
    "start = time.time()\n",
    "positions_MAN2 = knn_and_prediction(k,\"MAN2\")\n",
    "end = time.time()\n",
    "print(\"MAN2: {}\".format(end - start))\n",
    "\n",
    "start = time.time()\n",
    "positions_SIM001 = knn_and_prediction(k,\"SIM001\")\n",
    "end = time.time()\n",
    "print(\"SIM001: {}\".format(end - start))"
   ]
  },
  {
   "cell_type": "markdown",
   "metadata": {},
   "source": [
    "### Calculate average error"
   ]
  },
  {
   "cell_type": "code",
   "execution_count": 7,
   "metadata": {},
   "outputs": [
    {
     "name": "stdout",
     "output_type": "stream",
     "text": [
      "DSI1: 6.46\n",
      "DSI2: 6.46\n",
      "LIB1: 3.8\n",
      "LIB2: 4.47\n",
      "MAN1: 3.93\n",
      "MAN2: 3.26\n",
      "SIM001: 3.37\n"
     ]
    }
   ],
   "source": [
    "# calculate average error from lists of positioning errors\n",
    "print(\"DSI1: {}\".format(avg_error(k1_DSI1)))\n",
    "print(\"DSI2: {}\".format(avg_error(k1_DSI2)))\n",
    "print(\"LIB1: {}\".format(avg_error(k1_LIB1)))\n",
    "print(\"LIB2: {}\".format(avg_error(k1_LIB2)))\n",
    "print(\"MAN1: {}\".format(avg_error(k1_MAN1)))\n",
    "print(\"MAN2: {}\".format(avg_error(k1_MAN2)))\n",
    "print(\"SIM001: {}\".format(avg_error(k1_SIM001)))"
   ]
  },
  {
   "cell_type": "code",
   "execution_count": 6,
   "metadata": {},
   "outputs": [],
   "source": [
    "def ecdf(xdata):\n",
    "    \"\"\"\n",
    "    Generate x and y axis data\n",
    "    \n",
    "    Args: list of positions\n",
    "    \n",
    "    Returns: x, y data format\n",
    "    \"\"\"\n",
    "    xdataecdf = np.sort(xdata)\n",
    "    ydataecdf = np.arange(1, len(xdata) + 1) / len(xdata)\n",
    "    return xdataecdf, ydataecdf\n",
    "\n",
    "def plot_ecdf3(data1, data2, data3, title, l1, l2, l3, figure):\n",
    "    \"\"\"\n",
    "    Generate plot using matplotlib package\n",
    "    \n",
    "    Args: list of data, list of data, list of data, title of figure, number of figure\n",
    "    \n",
    "    Returns: nothing\n",
    "    \"\"\"\n",
    "    #Get the x and y data for ecdf plot from ecdf method\n",
    "    x1,y1 = ecdf(data1)\n",
    "    x2,y2 = ecdf(data2)\n",
    "    x3,y3 = ecdf(data3)\n",
    "\n",
    "    #Plot the data using matplotlib\n",
    "    plt.figure(figure)\n",
    "    plt.plot(x1, y1, marker = '.', linestyle = 'none', markersize = 3)\n",
    "    plt.plot(x2, y2, marker = '.', linestyle = 'none', markersize = 3)\n",
    "    plt.plot(x3, y3, marker = '.', linestyle = 'none', markersize = 3)\n",
    "    plt.legend((l1, l2, l3))\n",
    "    plt.title(title)\n",
    "    plt.xlabel('Error distance')\n",
    "    plt.ylabel('Error probability')\n",
    "    plt.margins(0.1)\n",
    "    \n",
    "def plot_ecdf5(data1, data2, data3, data4, data5, title, l1, l2, l3, l4, l5, figure):\n",
    "    \"\"\"\n",
    "    Generate plot using matplotlib package\n",
    "    \n",
    "    Args: list of data, list of data, list of data, title of figure, number of figure\n",
    "    \n",
    "    Returns: nothing\n",
    "    \"\"\"\n",
    "    #Get the x and y data for ecdf plot from ecdf method\n",
    "    x1,y1 = ecdf(data1)\n",
    "    x2,y2 = ecdf(data2)\n",
    "    x3,y3 = ecdf(data3)\n",
    "    x4,y4 = ecdf(data4)\n",
    "    x5,y5 = ecdf(data5)\n",
    "\n",
    "    #Plot the data using matplotlib\n",
    "    plt.figure(figure)\n",
    "    plt.plot(x1, y1, marker = '.', linestyle = 'none', markersize = 3)\n",
    "    plt.plot(x2, y2, marker = '.', linestyle = 'none', markersize = 3)\n",
    "    plt.plot(x3, y3, marker = '.', linestyle = 'none', markersize = 3)\n",
    "    plt.plot(x4, y4, marker = '.', linestyle = 'none', markersize = 3)\n",
    "    plt.plot(x5, y5, marker = '.', linestyle = 'none', markersize = 3)\n",
    "    plt.legend((l1, l2, l3, l4, l5))\n",
    "    plt.title(title)\n",
    "    plt.xlabel('Error distance')\n",
    "    plt.ylabel('Error probability')\n",
    "    plt.margins(0.1)"
   ]
  },
  {
   "cell_type": "markdown",
   "metadata": {},
   "source": [
    "### Distance measures comparison on DSI1 average error with k=1"
   ]
  },
  {
   "cell_type": "markdown",
   "metadata": {},
   "source": [
    "#### Basic"
   ]
  },
  {
   "cell_type": "code",
   "execution_count": 5,
   "metadata": {
    "collapsed": true
   },
   "outputs": [
    {
     "name": "stdout",
     "output_type": "stream",
     "text": [
      "euclidean: 6.46\n",
      "minkowskiL1: 6.38\n",
      "minkowskiL2: 6.46\n",
      "minkowskiL3: 6.56\n",
      "minkowskiL4: 6.47\n",
      "minkowskiL5: 6.53\n",
      "cityblock: 6.38\n",
      "chebyshev: 21.18\n",
      "sorensen: 26.65\n",
      "gower: 6.38\n",
      "soergel: 6.35\n",
      "kulczynski_d: 6.35\n",
      "lorentzian: 5.91\n",
      "canberra: 6.42\n",
      "intersection: 6.38\n",
      "wavehedges: 6.94\n",
      "czekanowski_s: 6.35\n",
      "czekanowski_d: 41.46\n",
      "motyka_s: 6.35\n",
      "motyka_d: 41.46\n",
      "kulczynski_s: 6.35\n",
      "ruzicka: 6.35\n",
      "tanimoto: 6.35\n",
      "inner: 48.84\n",
      "harmonic: 7.52\n",
      "cosine: 6.46\n",
      "kumar: 6.46\n",
      "jaccard_s: 6.46\n",
      "jaccard_d: 49.36\n",
      "dice_s: 6.46\n",
      "dice_d: 49.36\n"
     ]
    },
    {
     "name": "stderr",
     "output_type": "stream",
     "text": [
      "C:\\Users\\vicen\\Documents\\Ciencia de dades\\Q3\\TFM\\PAC3 disseny i implementacio\\knn_lib.ipynb:377: RuntimeWarning: invalid value encountered in sqrt\n",
      "  \"metadata\": {},\n"
     ]
    },
    {
     "name": "stdout",
     "output_type": "stream",
     "text": [
      "fidelity: 35.61\n"
     ]
    },
    {
     "name": "stderr",
     "output_type": "stream",
     "text": [
      "C:\\Users\\vicen\\Documents\\Ciencia de dades\\Q3\\TFM\\PAC3 disseny i implementacio\\knn_lib.ipynb:381: RuntimeWarning: invalid value encountered in sqrt\n",
      "  },\n"
     ]
    },
    {
     "name": "stdout",
     "output_type": "stream",
     "text": [
      "bhattacharrya: 35.61\n"
     ]
    },
    {
     "name": "stderr",
     "output_type": "stream",
     "text": [
      "C:\\Users\\vicen\\Documents\\Ciencia de dades\\Q3\\TFM\\PAC3 disseny i implementacio\\knn_lib.ipynb:385: RuntimeWarning: invalid value encountered in sqrt\n",
      "  \"metadata\": {},\n"
     ]
    },
    {
     "name": "stdout",
     "output_type": "stream",
     "text": [
      "hellinger: 35.61\n"
     ]
    },
    {
     "name": "stderr",
     "output_type": "stream",
     "text": [
      "C:\\Users\\vicen\\Documents\\Ciencia de dades\\Q3\\TFM\\PAC3 disseny i implementacio\\knn_lib.ipynb:389: RuntimeWarning: invalid value encountered in sqrt\n",
      "  \"factor=1e-7\\n\",\n"
     ]
    },
    {
     "name": "stdout",
     "output_type": "stream",
     "text": [
      "hellinger2: 35.61\n"
     ]
    },
    {
     "name": "stderr",
     "output_type": "stream",
     "text": [
      "C:\\Users\\vicen\\Documents\\Ciencia de dades\\Q3\\TFM\\PAC3 disseny i implementacio\\knn_lib.ipynb:393: RuntimeWarning: invalid value encountered in sqrt\n",
      "  \"    P=np.array(P,dtype=float); Q=np.array(Q,dtype=float)\\n\",\n"
     ]
    },
    {
     "name": "stdout",
     "output_type": "stream",
     "text": [
      "matusita: 35.61\n"
     ]
    },
    {
     "name": "stderr",
     "output_type": "stream",
     "text": [
      "C:\\Users\\vicen\\Documents\\Ciencia de dades\\Q3\\TFM\\PAC3 disseny i implementacio\\knn_lib.ipynb:397: RuntimeWarning: invalid value encountered in sqrt\n",
      "  \"def soergel(P, Q):\\n\",\n"
     ]
    },
    {
     "name": "stdout",
     "output_type": "stream",
     "text": [
      "matusita2: 35.61\n"
     ]
    },
    {
     "name": "stderr",
     "output_type": "stream",
     "text": [
      "C:\\Users\\vicen\\Documents\\Ciencia de dades\\Q3\\TFM\\PAC3 disseny i implementacio\\knn_lib.ipynb:401: RuntimeWarning: invalid value encountered in sqrt\n",
      "  \"\\n\",\n"
     ]
    },
    {
     "name": "stdout",
     "output_type": "stream",
     "text": [
      "squared_chord: 35.61\n",
      "sqeuclidean: 6.46\n",
      "pearson: 40.68\n",
      "neyman: 57.31\n",
      "squared: 7.6\n",
      "prob_sym: 7.6\n",
      "divergence: 10.43\n",
      "clark: 10.43\n",
      "additive_sym: 53.98\n"
     ]
    },
    {
     "name": "stderr",
     "output_type": "stream",
     "text": [
      "C:\\Users\\vicen\\Documents\\Ciencia de dades\\Q3\\TFM\\PAC3 disseny i implementacio\\knn_lib.ipynb:433: RuntimeWarning: invalid value encountered in log\n",
      "  \"def motyka_d(P, Q):\\n\",\n"
     ]
    },
    {
     "name": "stdout",
     "output_type": "stream",
     "text": [
      "kullback_PQ: 35.61\n"
     ]
    },
    {
     "name": "stderr",
     "output_type": "stream",
     "text": [
      "C:\\Users\\vicen\\Documents\\Ciencia de dades\\Q3\\TFM\\PAC3 disseny i implementacio\\knn_lib.ipynb:441: RuntimeWarning: invalid value encountered in log\n",
      "  \"    if A != 0:\\n\",\n"
     ]
    },
    {
     "name": "stdout",
     "output_type": "stream",
     "text": [
      "jeffreys: 35.61\n"
     ]
    },
    {
     "name": "stderr",
     "output_type": "stream",
     "text": [
      "C:\\Users\\vicen\\Documents\\Ciencia de dades\\Q3\\TFM\\PAC3 disseny i implementacio\\knn_lib.ipynb:445: RuntimeWarning: invalid value encountered in log\n",
      "  \"    return dist\\n\",\n"
     ]
    },
    {
     "name": "stdout",
     "output_type": "stream",
     "text": [
      "k_divergence: 35.61\n"
     ]
    },
    {
     "name": "stderr",
     "output_type": "stream",
     "text": [
      "C:\\Users\\vicen\\Documents\\Ciencia de dades\\Q3\\TFM\\PAC3 disseny i implementacio\\knn_lib.ipynb:449: RuntimeWarning: invalid value encountered in log\n",
      "  \"    maxPQ=sum(np.maximum(P,Q))\\n\",\n"
     ]
    },
    {
     "name": "stdout",
     "output_type": "stream",
     "text": [
      "topsoe: 35.61\n"
     ]
    },
    {
     "name": "stderr",
     "output_type": "stream",
     "text": [
      "C:\\Users\\vicen\\Documents\\Ciencia de dades\\Q3\\TFM\\PAC3 disseny i implementacio\\knn_lib.ipynb:453: RuntimeWarning: invalid value encountered in log\n",
      "  \"    P=np.array(P,dtype=float); Q=np.array(Q,dtype=float)\\n\",\n"
     ]
    },
    {
     "name": "stdout",
     "output_type": "stream",
     "text": [
      "jensen_shannon: 35.61\n"
     ]
    },
    {
     "name": "stderr",
     "output_type": "stream",
     "text": [
      "C:\\Users\\vicen\\Documents\\Ciencia de dades\\Q3\\TFM\\PAC3 disseny i implementacio\\knn_lib.ipynb:457: RuntimeWarning: invalid value encountered in log\n",
      "  \"def harmonic(P, Q):\\n\",\n"
     ]
    },
    {
     "name": "stdout",
     "output_type": "stream",
     "text": [
      "jensen_diff: 35.61\n"
     ]
    },
    {
     "name": "stderr",
     "output_type": "stream",
     "text": [
      "C:\\Users\\vicen\\Documents\\Ciencia de dades\\Q3\\TFM\\PAC3 disseny i implementacio\\knn_lib.ipynb:461: RuntimeWarning: invalid value encountered in sqrt\n",
      "  \"def kumar(P, Q):\\n\",\n",
      "C:\\Users\\vicen\\Documents\\Ciencia de dades\\Q3\\TFM\\PAC3 disseny i implementacio\\knn_lib.ipynb:461: RuntimeWarning: invalid value encountered in log\n",
      "  \"def kumar(P, Q):\\n\",\n"
     ]
    },
    {
     "name": "stdout",
     "output_type": "stream",
     "text": [
      "taneja: 35.61\n"
     ]
    },
    {
     "name": "stderr",
     "output_type": "stream",
     "text": [
      "C:\\Users\\vicen\\Documents\\Ciencia de dades\\Q3\\TFM\\PAC3 disseny i implementacio\\knn_lib.ipynb:465: RuntimeWarning: invalid value encountered in power\n",
      "  \"def jaccard_s(P, Q):\\n\",\n"
     ]
    },
    {
     "name": "stdout",
     "output_type": "stream",
     "text": [
      "kumar_johnson: 35.61\n",
      "avgL: 6.41\n",
      "vicis_wave_hedges: 52.23\n",
      "vicis_symm1: 6.39\n",
      "vicis_symm2: 51.43\n",
      "vicis_symm3: 6.51\n",
      "min_symm: 53.19\n",
      "max_symm: 52.22\n"
     ]
    }
   ],
   "source": [
    "k=1\n",
    "print_postitioning_errors(k, \"DSI1\", distance_metrics, norm=False, abs_value=False, increment=False)"
   ]
  },
  {
   "cell_type": "markdown",
   "metadata": {},
   "source": [
    "#### Normalized"
   ]
  },
  {
   "cell_type": "code",
   "execution_count": 2,
   "metadata": {
    "collapsed": true
   },
   "outputs": [
    {
     "name": "stdout",
     "output_type": "stream",
     "text": [
      "euclidean: 6.52\n",
      "minkowskiL1: 6.34\n",
      "minkowskiL2: 6.52\n",
      "minkowskiL3: 6.59\n",
      "minkowskiL4: 6.49\n",
      "minkowskiL5: 6.48\n",
      "cityblock: 6.34\n",
      "chebyshev: 21.76\n",
      "sorensen: 25.76\n",
      "gower: 6.34\n",
      "soergel: 6.28\n",
      "kulczynski_d: 6.28\n",
      "lorentzian: 6.18\n",
      "canberra: 5.82\n",
      "intersection: 6.34\n",
      "wavehedges: 5.83\n",
      "czekanowski_s: 6.28\n",
      "czekanowski_d: 46.62\n",
      "motyka_s: 6.28\n",
      "motyka_d: 46.62\n",
      "kulczynski_s: 6.28\n",
      "ruzicka: 6.28\n",
      "tanimoto: 6.28\n",
      "inner: 39.32\n",
      "harmonic: 28.16\n",
      "cosine: 6.43\n",
      "kumar: 6.73\n",
      "jaccard_s: 6.73\n",
      "jaccard_d: 39.25\n",
      "dice_s: 6.47\n",
      "dice_d: 45.94\n",
      "fidelity: 40.14\n",
      "bhattacharrya: 40.53\n"
     ]
    },
    {
     "name": "stderr",
     "output_type": "stream",
     "text": [
      "C:\\Users\\vicen\\Documents\\Ciencia de dades\\Q3\\TFM\\PAC3 disseny i implementacio\\knn_lib.ipynb:407: RuntimeWarning: invalid value encountered in sqrt\n",
      "  \"metadata\": {},\n"
     ]
    },
    {
     "name": "stdout",
     "output_type": "stream",
     "text": [
      "hellinger: 35.61\n",
      "hellinger2: 6.44\n"
     ]
    },
    {
     "name": "stderr",
     "output_type": "stream",
     "text": [
      "C:\\Users\\vicen\\Documents\\Ciencia de dades\\Q3\\TFM\\PAC3 disseny i implementacio\\knn_lib.ipynb:415: RuntimeWarning: invalid value encountered in sqrt\n",
      "  \"metadata\": {},\n"
     ]
    },
    {
     "name": "stdout",
     "output_type": "stream",
     "text": [
      "matusita: 35.61\n",
      "matusita2: 6.44\n",
      "squared_chord: 6.44\n",
      "sqeuclidean: 6.52\n",
      "pearson: 16.38\n",
      "neyman: 13.51\n",
      "squared: 6.47\n",
      "prob_sym: 6.47\n",
      "divergence: 6.36\n",
      "clark: 6.36\n",
      "additive_sym: 11.81\n",
      "kullback_PQ: 24.71\n",
      "jeffreys: 6.94\n",
      "k_divergence: 39.94\n",
      "topsoe: 6.46\n",
      "jensen_shannon: 6.46\n",
      "jensen_diff: 6.46\n",
      "taneja: 7.33\n",
      "kumar_johnson: 15.08\n",
      "avgL: 6.35\n",
      "vicis_wave_hedges: 12.87\n",
      "vicis_symm1: 15.49\n",
      "vicis_symm2: 12.98\n",
      "vicis_symm3: 6.27\n",
      "min_symm: 15.07\n",
      "max_symm: 12.81\n"
     ]
    }
   ],
   "source": [
    "k=1\n",
    "print_postitioning_errors(k, \"DSI1\", distance_metrics, norm=True, abs_value=False, increment=False)"
   ]
  },
  {
   "cell_type": "markdown",
   "metadata": {},
   "source": [
    "#### Absolute value WINNER"
   ]
  },
  {
   "cell_type": "code",
   "execution_count": 3,
   "metadata": {
    "collapsed": true
   },
   "outputs": [
    {
     "name": "stdout",
     "output_type": "stream",
     "text": [
      "euclidean: 5.04\n",
      "minkowskiL1: 4.95\n",
      "minkowskiL2: 5.04\n",
      "minkowskiL3: 5.58\n",
      "minkowskiL4: 6.25\n",
      "minkowskiL5: 6.62\n",
      "cityblock: 4.95\n",
      "chebyshev: 7.67\n",
      "sorensen: 26.65\n",
      "gower: 4.95\n",
      "soergel: 4.99\n",
      "kulczynski_d: 4.99\n",
      "lorentzian: 5.66\n",
      "canberra: 4.8\n",
      "intersection: 4.95\n",
      "wavehedges: 4.7\n",
      "czekanowski_s: 4.99\n",
      "czekanowski_d: 51.34\n",
      "motyka_s: 4.99\n",
      "motyka_d: 51.34\n",
      "kulczynski_s: 4.99\n",
      "ruzicka: 4.99\n",
      "tanimoto: 4.99\n",
      "inner: 40.68\n",
      "harmonic: 57.31\n",
      "cosine: 5.06\n",
      "kumar: 5.1\n",
      "jaccard_s: 5.1\n",
      "jaccard_d: 46.01\n",
      "dice_s: 5.1\n",
      "dice_d: 46.01\n",
      "fidelity: 40.68\n",
      "bhattacharrya: 57.31\n"
     ]
    },
    {
     "name": "stderr",
     "output_type": "stream",
     "text": [
      "C:\\Users\\vicen\\Documents\\Ciencia de dades\\Q3\\TFM\\PAC3 disseny i implementacio\\knn_lib.ipynb:407: RuntimeWarning: invalid value encountered in sqrt\n",
      "  \"metadata\": {},\n"
     ]
    },
    {
     "name": "stdout",
     "output_type": "stream",
     "text": [
      "hellinger: 35.61\n",
      "hellinger2: 5.01\n"
     ]
    },
    {
     "name": "stderr",
     "output_type": "stream",
     "text": [
      "C:\\Users\\vicen\\Documents\\Ciencia de dades\\Q3\\TFM\\PAC3 disseny i implementacio\\knn_lib.ipynb:415: RuntimeWarning: invalid value encountered in sqrt\n",
      "  \"metadata\": {},\n"
     ]
    },
    {
     "name": "stdout",
     "output_type": "stream",
     "text": [
      "matusita: 35.61\n",
      "matusita2: 5.01\n",
      "squared_chord: 5.01\n",
      "sqeuclidean: 5.04\n",
      "pearson: 5.11\n",
      "neyman: 4.87\n",
      "squared: 5.01\n",
      "prob_sym: 5.01\n",
      "divergence: 4.77\n",
      "clark: 4.77\n",
      "additive_sym: 4.99\n",
      "kullback_PQ: 57.31\n",
      "jeffreys: 5.0\n",
      "k_divergence: 57.31\n",
      "topsoe: 5.01\n",
      "jensen_shannon: 5.01\n",
      "jensen_diff: 5.01\n",
      "taneja: 5.0\n",
      "kumar_johnson: 4.98\n",
      "avgL: 4.97\n",
      "vicis_wave_hedges: 4.76\n",
      "vicis_symm1: 4.9\n",
      "vicis_symm2: 4.91\n",
      "vicis_symm3: 5.02\n",
      "min_symm: 4.98\n",
      "max_symm: 5.02\n"
     ]
    }
   ],
   "source": [
    "k=1\n",
    "print_postitioning_errors(k, \"DSI1\", distance_metrics, norm=False, abs_value=True, increment=False)"
   ]
  },
  {
   "cell_type": "markdown",
   "metadata": {},
   "source": [
    "#### Increment"
   ]
  },
  {
   "cell_type": "code",
   "execution_count": 3,
   "metadata": {
    "collapsed": true
   },
   "outputs": [
    {
     "name": "stdout",
     "output_type": "stream",
     "text": [
      "euclidean: 6.46\n",
      "minkowskiL1: 6.38\n",
      "minkowskiL2: 6.46\n",
      "minkowskiL3: 6.56\n",
      "minkowskiL4: 6.47\n",
      "minkowskiL5: 6.53\n",
      "cityblock: 6.38\n",
      "chebyshev: 21.18\n",
      "sorensen: 26.65\n",
      "gower: 6.38\n",
      "soergel: 6.28\n",
      "kulczynski_d: 6.28\n",
      "lorentzian: 5.91\n",
      "canberra: 5.81\n",
      "intersection: 6.38\n",
      "wavehedges: 5.77\n",
      "czekanowski_s: 6.28\n",
      "czekanowski_d: 47.32\n",
      "motyka_s: 6.28\n",
      "motyka_d: 47.32\n",
      "kulczynski_s: 6.28\n",
      "ruzicka: 6.28\n",
      "tanimoto: 6.28\n",
      "inner: 39.76\n",
      "harmonic: 28.73\n",
      "cosine: 6.42\n",
      "kumar: 6.51\n",
      "jaccard_s: 6.51\n",
      "jaccard_d: 47.16\n",
      "dice_s: 6.51\n",
      "dice_d: 47.16\n",
      "fidelity: 40.56\n",
      "bhattacharrya: 41.54\n"
     ]
    },
    {
     "name": "stderr",
     "output_type": "stream",
     "text": [
      "C:\\Users\\vicen\\Documents\\Ciencia de dades\\Q3\\TFM\\PAC3 disseny i implementacio\\knn_lib.ipynb:411: RuntimeWarning: invalid value encountered in sqrt\n",
      "  \"\\n\",\n"
     ]
    },
    {
     "name": "stdout",
     "output_type": "stream",
     "text": [
      "hellinger: 35.61\n",
      "hellinger2: 6.29\n"
     ]
    },
    {
     "name": "stderr",
     "output_type": "stream",
     "text": [
      "C:\\Users\\vicen\\Documents\\Ciencia de dades\\Q3\\TFM\\PAC3 disseny i implementacio\\knn_lib.ipynb:419: RuntimeWarning: invalid value encountered in sqrt\n",
      "  \"    P=np.array(P,dtype=float); Q=np.array(Q,dtype=float)\\n\",\n"
     ]
    },
    {
     "name": "stdout",
     "output_type": "stream",
     "text": [
      "matusita: 35.61\n",
      "matusita2: 6.29\n",
      "squared_chord: 6.29\n",
      "sqeuclidean: 6.46\n",
      "pearson: 13.91\n",
      "neyman: 8.75\n",
      "squared: 6.45\n",
      "prob_sym: 6.45\n",
      "divergence: 6.09\n",
      "clark: 6.09\n",
      "additive_sym: 7.34\n",
      "kullback_PQ: 24.84\n",
      "jeffreys: 6.52\n",
      "k_divergence: 42.63\n",
      "topsoe: 6.39\n",
      "jensen_shannon: 6.39\n",
      "jensen_diff: 6.39\n",
      "taneja: 6.61\n",
      "kumar_johnson: 8.35\n",
      "avgL: 6.41\n",
      "vicis_wave_hedges: 7.18\n",
      "vicis_symm1: 10.25\n",
      "vicis_symm2: 7.24\n",
      "vicis_symm3: 6.43\n",
      "min_symm: 12.52\n",
      "max_symm: 8.46\n"
     ]
    }
   ],
   "source": [
    "k=1\n",
    "print_postitioning_errors(k, \"DSI1\", distance_metrics, norm=False, abs_value=False, increment=True)"
   ]
  },
  {
   "cell_type": "markdown",
   "metadata": {},
   "source": [
    "#### Absolute value k=3, k=5, k=11"
   ]
  },
  {
   "cell_type": "code",
   "execution_count": 2,
   "metadata": {
    "collapsed": true
   },
   "outputs": [
    {
     "name": "stdout",
     "output_type": "stream",
     "text": [
      "euclidean: 5.13\n",
      "minkowskiL1: 4.95\n",
      "minkowskiL2: 5.13\n",
      "minkowskiL3: 5.59\n",
      "minkowskiL4: 6.14\n",
      "minkowskiL5: 6.46\n",
      "cityblock: 4.95\n",
      "chebyshev: 7.57\n",
      "sorensen: 26.17\n",
      "gower: 4.95\n",
      "soergel: 4.98\n",
      "kulczynski_d: 4.98\n",
      "lorentzian: 5.55\n",
      "canberra: 4.65\n",
      "intersection: 4.95\n",
      "wavehedges: 4.69\n",
      "czekanowski_s: 4.98\n",
      "czekanowski_d: 51.18\n",
      "motyka_s: 4.98\n",
      "motyka_d: 51.18\n",
      "kulczynski_s: 4.98\n",
      "ruzicka: 4.98\n",
      "tanimoto: 4.98\n",
      "inner: 40.68\n",
      "harmonic: 57.31\n",
      "cosine: 5.12\n",
      "kumar: 5.18\n",
      "jaccard_s: 5.18\n",
      "jaccard_d: 46.13\n",
      "dice_s: 5.18\n",
      "dice_d: 46.13\n",
      "fidelity: 40.68\n",
      "bhattacharrya: 57.31\n"
     ]
    },
    {
     "name": "stderr",
     "output_type": "stream",
     "text": [
      "C:\\Users\\vicen\\Documents\\Ciencia de dades\\Q3\\TFM\\PAC3 disseny i implementacio\\knn_lib.ipynb:386: RuntimeWarning: invalid value encountered in sqrt\n",
      "  \"def kulczynski_d(P, Q):\\n\",\n"
     ]
    },
    {
     "name": "stdout",
     "output_type": "stream",
     "text": [
      "hellinger: 35.61\n",
      "hellinger2: 5.14\n"
     ]
    },
    {
     "name": "stderr",
     "output_type": "stream",
     "text": [
      "C:\\Users\\vicen\\Documents\\Ciencia de dades\\Q3\\TFM\\PAC3 disseny i implementacio\\knn_lib.ipynb:394: RuntimeWarning: invalid value encountered in sqrt\n",
      "  \"\\n\",\n"
     ]
    },
    {
     "name": "stdout",
     "output_type": "stream",
     "text": [
      "matusita: 35.61\n",
      "matusita2: 5.14\n",
      "squared_chord: 5.14\n",
      "sqeuclidean: 5.13\n",
      "pearson: 5.14\n",
      "neyman: 4.89\n",
      "squared: 5.14\n",
      "prob_sym: 5.14\n",
      "divergence: 4.8\n",
      "clark: 4.8\n",
      "additive_sym: 5.07\n",
      "kullback_PQ: 57.31\n",
      "jeffreys: 5.12\n",
      "k_divergence: 57.31\n",
      "topsoe: 5.14\n",
      "jensen_shannon: 5.14\n",
      "jensen_diff: 5.14\n",
      "taneja: 5.11\n",
      "kumar_johnson: 5.08\n",
      "avgL: 4.91\n",
      "vicis_wave_hedges: 4.66\n",
      "vicis_symm1: 4.98\n",
      "vicis_symm2: 5.02\n",
      "vicis_symm3: 5.09\n",
      "min_symm: 5.07\n",
      "max_symm: 5.11\n"
     ]
    }
   ],
   "source": [
    "k=3\n",
    "print_postitioning_errors(k, \"DSI1\", distance_metrics, norm=False, abs_value=True, increment=False)"
   ]
  },
  {
   "cell_type": "code",
   "execution_count": 2,
   "metadata": {
    "collapsed": true
   },
   "outputs": [
    {
     "name": "stdout",
     "output_type": "stream",
     "text": [
      "euclidean: 4.96\n",
      "minkowskiL1: 4.72\n",
      "minkowskiL2: 4.96\n",
      "minkowskiL3: 5.35\n",
      "minkowskiL4: 5.65\n",
      "minkowskiL5: 5.86\n",
      "cityblock: 4.72\n",
      "chebyshev: 7.05\n",
      "sorensen: 24.98\n",
      "gower: 4.72\n",
      "soergel: 4.72\n",
      "kulczynski_d: 4.72\n",
      "lorentzian: 5.29\n",
      "canberra: 4.48\n",
      "intersection: 4.72\n",
      "wavehedges: 4.5\n",
      "czekanowski_s: 4.72\n",
      "czekanowski_d: 50.53\n",
      "motyka_s: 4.72\n",
      "motyka_d: 50.53\n",
      "kulczynski_s: 4.72\n",
      "ruzicka: 4.72\n",
      "tanimoto: 4.72\n",
      "inner: 40.68\n",
      "harmonic: 55.76\n",
      "cosine: 4.98\n",
      "kumar: 4.98\n",
      "jaccard_s: 4.98\n",
      "jaccard_d: 45.74\n",
      "dice_s: 4.98\n",
      "dice_d: 45.74\n",
      "fidelity: 40.68\n",
      "bhattacharrya: 55.86\n"
     ]
    },
    {
     "name": "stderr",
     "output_type": "stream",
     "text": [
      "C:\\Users\\vicen\\Documents\\Ciencia de dades\\Q3\\TFM\\PAC3 disseny i implementacio\\knn_lib.ipynb:386: RuntimeWarning: invalid value encountered in sqrt\n",
      "  \"def kulczynski_d(P, Q):\\n\",\n"
     ]
    },
    {
     "name": "stdout",
     "output_type": "stream",
     "text": [
      "hellinger: 35.83\n",
      "hellinger2: 5.01\n"
     ]
    },
    {
     "name": "stderr",
     "output_type": "stream",
     "text": [
      "C:\\Users\\vicen\\Documents\\Ciencia de dades\\Q3\\TFM\\PAC3 disseny i implementacio\\knn_lib.ipynb:394: RuntimeWarning: invalid value encountered in sqrt\n",
      "  \"\\n\",\n"
     ]
    },
    {
     "name": "stdout",
     "output_type": "stream",
     "text": [
      "matusita: 35.83\n",
      "matusita2: 5.01\n",
      "squared_chord: 5.01\n",
      "sqeuclidean: 4.96\n",
      "pearson: 4.97\n",
      "neyman: 4.78\n",
      "squared: 4.99\n",
      "prob_sym: 4.99\n",
      "divergence: 4.74\n",
      "clark: 4.74\n",
      "additive_sym: 4.99\n",
      "kullback_PQ: 55.77\n",
      "jeffreys: 5.01\n",
      "k_divergence: 55.86\n",
      "topsoe: 5.01\n",
      "jensen_shannon: 5.01\n",
      "jensen_diff: 5.01\n",
      "taneja: 5.01\n",
      "kumar_johnson: 5.01\n",
      "avgL: 4.65\n",
      "vicis_wave_hedges: 4.45\n",
      "vicis_symm1: 4.94\n",
      "vicis_symm2: 4.96\n",
      "vicis_symm3: 4.95\n",
      "min_symm: 4.9\n",
      "max_symm: 4.98\n"
     ]
    }
   ],
   "source": [
    "k=5\n",
    "print_postitioning_errors(k, \"DSI1\", distance_metrics, norm=False, abs_value=True, increment=False)"
   ]
  },
  {
   "cell_type": "code",
   "execution_count": 15,
   "metadata": {
    "collapsed": true
   },
   "outputs": [
    {
     "name": "stdout",
     "output_type": "stream",
     "text": [
      "euclidean: 4.38\n",
      "minkowskiL1: 4.42\n",
      "minkowskiL2: 4.38\n",
      "minkowskiL3: 4.58\n",
      "minkowskiL4: 4.82\n",
      "minkowskiL5: 5.01\n",
      "cityblock: 4.42\n",
      "chebyshev: 6.42\n",
      "sorensen: 24.31\n",
      "gower: 4.42\n",
      "soergel: 4.43\n",
      "kulczynski_d: 4.43\n",
      "lorentzian: 5.46\n",
      "canberra: 4.32\n",
      "intersection: 4.42\n",
      "wavehedges: 4.36\n",
      "czekanowski_s: 4.43\n",
      "czekanowski_d: 49.12\n",
      "motyka_s: 4.43\n",
      "motyka_d: 49.12\n",
      "kulczynski_s: 4.43\n",
      "ruzicka: 4.43\n",
      "tanimoto: 4.43\n",
      "inner: 40.09\n",
      "harmonic: 53.63\n",
      "cosine: 4.47\n",
      "kumar: 4.39\n",
      "jaccard_s: 4.39\n",
      "jaccard_d: 44.01\n",
      "dice_s: 4.39\n",
      "dice_d: 44.01\n",
      "fidelity: 38.41\n",
      "bhattacharrya: 53.67\n"
     ]
    },
    {
     "name": "stderr",
     "output_type": "stream",
     "text": [
      "C:\\Users\\vicen\\Documents\\Ciencia de dades\\Q3\\TFM\\PAC3 disseny i implementacio\\knn_lib.ipynb:461: RuntimeWarning: invalid value encountered in sqrt\n",
      "  \"def kulczynski_d(P, Q):\\n\",\n"
     ]
    },
    {
     "name": "stdout",
     "output_type": "stream",
     "text": [
      "hellinger: 36.25\n",
      "hellinger2: 4.27\n"
     ]
    },
    {
     "name": "stderr",
     "output_type": "stream",
     "text": [
      "C:\\Users\\vicen\\Documents\\Ciencia de dades\\Q3\\TFM\\PAC3 disseny i implementacio\\knn_lib.ipynb:469: RuntimeWarning: invalid value encountered in sqrt\n",
      "  \"\\n\",\n"
     ]
    },
    {
     "name": "stdout",
     "output_type": "stream",
     "text": [
      "matusita: 36.25\n",
      "matusita2: 4.27\n",
      "squared_chord: 4.27\n",
      "sqeuclidean: 4.38\n",
      "pearson: 4.49\n",
      "neyman: 4.28\n",
      "squared: 4.29\n",
      "prob_sym: 4.29\n",
      "divergence: 4.22\n",
      "clark: 4.22\n",
      "additive_sym: 4.31\n",
      "kullback_PQ: 53.63\n",
      "jeffreys: 4.29\n",
      "k_divergence: 53.67\n",
      "topsoe: 4.28\n",
      "jensen_shannon: 4.28\n",
      "jensen_diff: 4.28\n",
      "taneja: 4.29\n",
      "kumar_johnson: 4.32\n",
      "avgL: 4.4\n",
      "vicis_wave_hedges: 4.27\n",
      "vicis_symm1: 4.37\n",
      "vicis_symm2: 4.29\n",
      "vicis_symm3: 4.27\n",
      "min_symm: 4.42\n",
      "max_symm: 4.31\n"
     ]
    }
   ],
   "source": [
    "k=11\n",
    "print_postitioning_errors(k, \"DSI1\", distance_metrics, norm=False, abs_value=True, increment=False)"
   ]
  },
  {
   "cell_type": "markdown",
   "metadata": {},
   "source": [
    "#### ECDF"
   ]
  },
  {
   "cell_type": "code",
   "execution_count": 16,
   "metadata": {},
   "outputs": [],
   "source": [
    "k=1\n",
    "k1_city = positioning_error(k, \"DSI1\", \"cityblock\", norm=False, isAbs=True, incr=False)\n",
    "k1_canb = positioning_error(k, \"DSI1\", \"canberra\", norm=False, isAbs=True, incr=False)\n",
    "k1_wave = positioning_error(k, \"DSI1\", \"wavehedges\", norm=False, isAbs=True, incr=False)\n",
    "k=5\n",
    "k5_city = positioning_error(k, \"DSI1\", \"cityblock\", norm=False, isAbs=True, incr=False)\n",
    "k5_canb = positioning_error(k, \"DSI1\", \"canberra\", norm=False, isAbs=True, incr=False)\n",
    "k5_wave = positioning_error(k, \"DSI1\", \"wavehedges\", norm=False, isAbs=True, incr=False)\n",
    "k=11\n",
    "k11_city = positioning_error(k, \"DSI1\", \"cityblock\", norm=False, isAbs=True, incr=False)\n",
    "k11_canb = positioning_error(k, \"DSI1\", \"canberra\", norm=False, isAbs=True, incr=False)\n",
    "k11_wave = positioning_error(k, \"DSI1\", \"wavehedges\", norm=False, isAbs=True, incr=False)"
   ]
  },
  {
   "cell_type": "code",
   "execution_count": 17,
   "metadata": {
    "scrolled": true
   },
   "outputs": [
    {
     "data": {
      "image/png": "[encoded data removed]",
      "text/plain": [
       "<Figure size 432x288 with 1 Axes>"
      ]
     },
     "metadata": {
      "needs_background": "light"
     },
     "output_type": "display_data"
    },
    {
     "data": {
      "image/png": "[encoded data removed]",
      "text/plain": [
       "<Figure size 432x288 with 1 Axes>"
      ]
     },
     "metadata": {
      "needs_background": "light"
     },
     "output_type": "display_data"
    },
    {
     "data": {
      "image/png": "[encoded data removed]",
      "text/plain": [
       "<Figure size 432x288 with 1 Axes>"
      ]
     },
     "metadata": {
      "needs_background": "light"
     },
     "output_type": "display_data"
    }
   ],
   "source": [
    "plot_ecdf3(k1_city, k5_city, k11_city, \"DSI1 - Abs error - cityblock\", \"k=1\", \"k=5\", \"k=11\", 1)\n",
    "plot_ecdf3(k1_canb, k5_canb, k11_canb, \"DSI1 - Abs error - canberra\", \"k=1\", \"k=5\", \"k=11\", 2)\n",
    "plot_ecdf3(k1_wave, k5_wave, k11_wave, \"DSI1 - Abs error - wave hedges\", \"k=1\", \"k=5\", \"k=11\", 3)"
   ]
  },
  {
   "cell_type": "markdown",
   "metadata": {},
   "source": [
    "#### Ensembles"
   ]
  },
  {
   "cell_type": "code",
   "execution_count": 33,
   "metadata": {},
   "outputs": [],
   "source": [
    "def scatter(x, y, title, xlabel, ylabel):\n",
    "    \"\"\"\n",
    "    Generate scatter plot using matplotlib package\n",
    "    \n",
    "    Args: xdata, ydata, title, legend\n",
    "    \n",
    "    Returns: nothing\n",
    "    \"\"\"\n",
    "    m, b = np.polyfit(x, y, 1)\n",
    "    \n",
    "    plt.scatter(x, y, c =\"blue\", s = 3)\n",
    "    plt.title(title)\n",
    "    plt.xlabel(xlabel)\n",
    "    plt.ylabel(ylabel)\n",
    "    plt.show()"
   ]
  },
  {
   "cell_type": "code",
   "execution_count": 19,
   "metadata": {},
   "outputs": [],
   "source": [
    "k=5\n",
    "ens1 = error_ensemble(k, \"DSI1\", [\"euclidean\", \"cityblock\", \"gower\",\"canberra\"], norm=False, abs_value=True, increment=False)\n",
    "euc = positioning_error(k, \"DSI1\", \"cityblock\", norm=False, isAbs=True, incr=False)"
   ]
  },
  {
   "cell_type": "code",
   "execution_count": 35,
   "metadata": {
    "scrolled": true
   },
   "outputs": [
    {
     "name": "stdout",
     "output_type": "stream",
     "text": [
      "5.89\n",
      "4.72\n"
     ]
    },
    {
     "data": {
      "image/png": "[encoded data removed]",
      "text/plain": [
       "<Figure size 432x288 with 1 Axes>"
      ]
     },
     "metadata": {
      "needs_background": "light"
     },
     "output_type": "display_data"
    }
   ],
   "source": [
    "print(avg_error(ens1))\n",
    "print(avg_error(euc))\n",
    "scatter(ens1, euc, \"ensemble vs euclidean\", \"ensemble\", \"euclidean\")"
   ]
  },
  {
   "cell_type": "markdown",
   "metadata": {},
   "source": [
    "### Distance measures comparison on DSI2 average error with k=1"
   ]
  },
  {
   "cell_type": "markdown",
   "metadata": {},
   "source": [
    "#### Basic"
   ]
  },
  {
   "cell_type": "code",
   "execution_count": 4,
   "metadata": {
    "collapsed": true
   },
   "outputs": [
    {
     "name": "stdout",
     "output_type": "stream",
     "text": [
      "euclidean: 6.46\n",
      "minkowskiL1: 6.38\n",
      "minkowskiL2: 6.46\n",
      "minkowskiL3: 6.56\n",
      "minkowskiL4: 6.47\n",
      "minkowskiL5: 6.53\n",
      "cityblock: 6.38\n",
      "chebyshev: 21.18\n",
      "sorensen: 26.65\n",
      "gower: 6.38\n",
      "soergel: 6.35\n",
      "kulczynski_d: 6.35\n",
      "lorentzian: 5.91\n",
      "canberra: 6.42\n",
      "intersection: 6.38\n",
      "wavehedges: 6.94\n",
      "czekanowski_s: 6.35\n",
      "czekanowski_d: 41.46\n",
      "motyka_s: 6.35\n",
      "motyka_d: 41.46\n",
      "kulczynski_s: 6.35\n",
      "ruzicka: 6.35\n",
      "tanimoto: 6.35\n",
      "inner: 48.84\n",
      "harmonic: 7.52\n",
      "cosine: 6.46\n",
      "kumar: 6.46\n",
      "jaccard_s: 6.46\n",
      "jaccard_d: 49.36\n",
      "dice_s: 6.46\n",
      "dice_d: 49.36\n"
     ]
    },
    {
     "name": "stderr",
     "output_type": "stream",
     "text": [
      "C:\\Users\\vicen\\Documents\\Ciencia de dades\\Q3\\TFM\\PAC3 disseny i implementacio\\knn_lib.ipynb:403: RuntimeWarning: invalid value encountered in sqrt\n",
      "  {\n"
     ]
    },
    {
     "name": "stdout",
     "output_type": "stream",
     "text": [
      "fidelity: 35.61\n"
     ]
    },
    {
     "name": "stderr",
     "output_type": "stream",
     "text": [
      "C:\\Users\\vicen\\Documents\\Ciencia de dades\\Q3\\TFM\\PAC3 disseny i implementacio\\knn_lib.ipynb:407: RuntimeWarning: invalid value encountered in sqrt\n",
      "  \"outputs\": [],\n"
     ]
    },
    {
     "name": "stdout",
     "output_type": "stream",
     "text": [
      "bhattacharrya: 35.61\n",
      "hellinger: 35.61\n"
     ]
    },
    {
     "name": "stderr",
     "output_type": "stream",
     "text": [
      "C:\\Users\\vicen\\Documents\\Ciencia de dades\\Q3\\TFM\\PAC3 disseny i implementacio\\knn_lib.ipynb:415: RuntimeWarning: invalid value encountered in sqrt\n",
      "  \"    A=sum(abs(P-Q))\\n\",\n"
     ]
    },
    {
     "name": "stdout",
     "output_type": "stream",
     "text": [
      "hellinger2: 35.61\n",
      "matusita: 35.61\n"
     ]
    },
    {
     "name": "stderr",
     "output_type": "stream",
     "text": [
      "C:\\Users\\vicen\\Documents\\Ciencia de dades\\Q3\\TFM\\PAC3 disseny i implementacio\\knn_lib.ipynb:423: RuntimeWarning: invalid value encountered in sqrt\n",
      "  \"def kulczynski_d(P, Q):\\n\",\n"
     ]
    },
    {
     "name": "stdout",
     "output_type": "stream",
     "text": [
      "matusita2: 35.61\n"
     ]
    },
    {
     "name": "stderr",
     "output_type": "stream",
     "text": [
      "C:\\Users\\vicen\\Documents\\Ciencia de dades\\Q3\\TFM\\PAC3 disseny i implementacio\\knn_lib.ipynb:427: RuntimeWarning: invalid value encountered in sqrt\n",
      "  \"\\n\",\n"
     ]
    },
    {
     "name": "stdout",
     "output_type": "stream",
     "text": [
      "squared_chord: 35.61\n",
      "sqeuclidean: 6.46\n",
      "pearson: 40.68\n",
      "neyman: 57.31\n",
      "squared: 7.6\n",
      "prob_sym: 7.6\n",
      "divergence: 10.43\n",
      "clark: 10.43\n",
      "additive_sym: 53.98\n"
     ]
    },
    {
     "name": "stderr",
     "output_type": "stream",
     "text": [
      "C:\\Users\\vicen\\Documents\\Ciencia de dades\\Q3\\TFM\\PAC3 disseny i implementacio\\knn_lib.ipynb:459: RuntimeWarning: invalid value encountered in log\n",
      "  \"    minPQ=sum(np.minimum(P,Q))\\n\",\n"
     ]
    },
    {
     "name": "stdout",
     "output_type": "stream",
     "text": [
      "kullback_PQ: 35.61\n"
     ]
    },
    {
     "name": "stderr",
     "output_type": "stream",
     "text": [
      "C:\\Users\\vicen\\Documents\\Ciencia de dades\\Q3\\TFM\\PAC3 disseny i implementacio\\knn_lib.ipynb:467: RuntimeWarning: invalid value encountered in log\n",
      "  \"\\n\",\n"
     ]
    },
    {
     "name": "stdout",
     "output_type": "stream",
     "text": [
      "jeffreys: 35.61\n"
     ]
    },
    {
     "name": "stderr",
     "output_type": "stream",
     "text": [
      "C:\\Users\\vicen\\Documents\\Ciencia de dades\\Q3\\TFM\\PAC3 disseny i implementacio\\knn_lib.ipynb:471: RuntimeWarning: invalid value encountered in log\n",
      "  \"    return 1-sum(np.minimum(P,Q))/maxPQ\\n\",\n"
     ]
    },
    {
     "name": "stdout",
     "output_type": "stream",
     "text": [
      "k_divergence: 35.61\n"
     ]
    },
    {
     "name": "stderr",
     "output_type": "stream",
     "text": [
      "C:\\Users\\vicen\\Documents\\Ciencia de dades\\Q3\\TFM\\PAC3 disseny i implementacio\\knn_lib.ipynb:475: RuntimeWarning: invalid value encountered in log\n",
      "  \"    maxPQ=sum(np.maximum(P,Q))\\n\",\n"
     ]
    },
    {
     "name": "stdout",
     "output_type": "stream",
     "text": [
      "topsoe: 35.61\n"
     ]
    },
    {
     "name": "stderr",
     "output_type": "stream",
     "text": [
      "C:\\Users\\vicen\\Documents\\Ciencia de dades\\Q3\\TFM\\PAC3 disseny i implementacio\\knn_lib.ipynb:479: RuntimeWarning: invalid value encountered in log\n",
      "  \"    P=np.array(P,dtype=float); Q=np.array(Q,dtype=float)\\n\",\n"
     ]
    },
    {
     "name": "stdout",
     "output_type": "stream",
     "text": [
      "jensen_shannon: 35.61\n"
     ]
    },
    {
     "name": "stderr",
     "output_type": "stream",
     "text": [
      "C:\\Users\\vicen\\Documents\\Ciencia de dades\\Q3\\TFM\\PAC3 disseny i implementacio\\knn_lib.ipynb:483: RuntimeWarning: invalid value encountered in log\n",
      "  \"    P=np.array(P,dtype=float); Q=np.array(Q,dtype=float)\\n\",\n"
     ]
    },
    {
     "name": "stdout",
     "output_type": "stream",
     "text": [
      "jensen_diff: 35.61\n"
     ]
    },
    {
     "name": "stderr",
     "output_type": "stream",
     "text": [
      "C:\\Users\\vicen\\Documents\\Ciencia de dades\\Q3\\TFM\\PAC3 disseny i implementacio\\knn_lib.ipynb:487: RuntimeWarning: invalid value encountered in sqrt\n",
      "  \"    return kumar(P, Q)\\n\",\n",
      "C:\\Users\\vicen\\Documents\\Ciencia de dades\\Q3\\TFM\\PAC3 disseny i implementacio\\knn_lib.ipynb:487: RuntimeWarning: invalid value encountered in log\n",
      "  \"    return kumar(P, Q)\\n\",\n"
     ]
    },
    {
     "name": "stdout",
     "output_type": "stream",
     "text": [
      "taneja: 35.61\n"
     ]
    },
    {
     "name": "stderr",
     "output_type": "stream",
     "text": [
      "C:\\Users\\vicen\\Documents\\Ciencia de dades\\Q3\\TFM\\PAC3 disseny i implementacio\\knn_lib.ipynb:491: RuntimeWarning: invalid value encountered in power\n",
      "  \"\\n\",\n"
     ]
    },
    {
     "name": "stdout",
     "output_type": "stream",
     "text": [
      "kumar_johnson: 35.61\n",
      "avgL: 6.41\n",
      "vicis_wave_hedges: 52.23\n",
      "vicis_symm1: 6.39\n",
      "vicis_symm2: 51.43\n",
      "vicis_symm3: 6.51\n",
      "min_symm: 53.19\n",
      "max_symm: 52.22\n"
     ]
    }
   ],
   "source": [
    "k=1\n",
    "print_postitioning_errors(k, \"DSI2\", distance_metrics, norm=False, abs_value=False, increment=False)"
   ]
  },
  {
   "cell_type": "markdown",
   "metadata": {},
   "source": [
    "#### Normalized"
   ]
  },
  {
   "cell_type": "code",
   "execution_count": 5,
   "metadata": {
    "collapsed": true
   },
   "outputs": [
    {
     "name": "stdout",
     "output_type": "stream",
     "text": [
      "euclidean: 6.52\n",
      "minkowskiL1: 6.34\n",
      "minkowskiL2: 6.52\n",
      "minkowskiL3: 6.59\n",
      "minkowskiL4: 6.49\n",
      "minkowskiL5: 6.48\n",
      "cityblock: 6.34\n",
      "chebyshev: 21.76\n",
      "sorensen: 25.76\n",
      "gower: 6.34\n",
      "soergel: 6.28\n",
      "kulczynski_d: 6.28\n",
      "lorentzian: 6.18\n",
      "canberra: 5.82\n",
      "intersection: 6.34\n",
      "wavehedges: 5.83\n",
      "czekanowski_s: 6.28\n",
      "czekanowski_d: 46.62\n",
      "motyka_s: 6.28\n",
      "motyka_d: 46.62\n",
      "kulczynski_s: 6.28\n",
      "ruzicka: 6.28\n",
      "tanimoto: 6.28\n",
      "inner: 39.32\n",
      "harmonic: 28.16\n",
      "cosine: 6.43\n",
      "kumar: 6.73\n",
      "jaccard_s: 6.73\n",
      "jaccard_d: 39.25\n",
      "dice_s: 6.47\n",
      "dice_d: 45.94\n",
      "fidelity: 40.14\n",
      "bhattacharrya: 40.53\n"
     ]
    },
    {
     "name": "stderr",
     "output_type": "stream",
     "text": [
      "C:\\Users\\vicen\\Documents\\Ciencia de dades\\Q3\\TFM\\PAC3 disseny i implementacio\\knn_lib.ipynb:411: RuntimeWarning: invalid value encountered in sqrt\n",
      "  \"\\n\",\n"
     ]
    },
    {
     "name": "stdout",
     "output_type": "stream",
     "text": [
      "hellinger: 35.61\n",
      "hellinger2: 6.44\n"
     ]
    },
    {
     "name": "stderr",
     "output_type": "stream",
     "text": [
      "C:\\Users\\vicen\\Documents\\Ciencia de dades\\Q3\\TFM\\PAC3 disseny i implementacio\\knn_lib.ipynb:419: RuntimeWarning: invalid value encountered in sqrt\n",
      "  \"    P=np.array(P,dtype=float); Q=np.array(Q,dtype=float)\\n\",\n"
     ]
    },
    {
     "name": "stdout",
     "output_type": "stream",
     "text": [
      "matusita: 35.61\n",
      "matusita2: 6.44\n",
      "squared_chord: 6.44\n",
      "sqeuclidean: 6.52\n",
      "pearson: 16.38\n",
      "neyman: 13.51\n",
      "squared: 6.47\n",
      "prob_sym: 6.47\n",
      "divergence: 6.36\n",
      "clark: 6.36\n",
      "additive_sym: 11.81\n",
      "kullback_PQ: 24.71\n",
      "jeffreys: 6.94\n",
      "k_divergence: 39.94\n",
      "topsoe: 6.46\n",
      "jensen_shannon: 6.46\n",
      "jensen_diff: 6.46\n",
      "taneja: 7.33\n",
      "kumar_johnson: 15.08\n",
      "avgL: 6.35\n",
      "vicis_wave_hedges: 12.87\n",
      "vicis_symm1: 15.49\n",
      "vicis_symm2: 12.98\n",
      "vicis_symm3: 6.27\n",
      "min_symm: 15.07\n",
      "max_symm: 12.81\n"
     ]
    }
   ],
   "source": [
    "k=1\n",
    "print_postitioning_errors(k, \"DSI2\", distance_metrics, norm=True, abs_value=False, increment=False)"
   ]
  },
  {
   "cell_type": "markdown",
   "metadata": {},
   "source": [
    "#### Absolute value WINNER"
   ]
  },
  {
   "cell_type": "code",
   "execution_count": 6,
   "metadata": {
    "collapsed": true
   },
   "outputs": [
    {
     "name": "stdout",
     "output_type": "stream",
     "text": [
      "euclidean: 5.04\n",
      "minkowskiL1: 4.95\n",
      "minkowskiL2: 5.04\n",
      "minkowskiL3: 5.58\n",
      "minkowskiL4: 6.25\n",
      "minkowskiL5: 6.62\n",
      "cityblock: 4.95\n",
      "chebyshev: 7.67\n",
      "sorensen: 26.65\n",
      "gower: 4.95\n",
      "soergel: 4.99\n",
      "kulczynski_d: 4.99\n",
      "lorentzian: 5.66\n",
      "canberra: 4.8\n",
      "intersection: 4.95\n",
      "wavehedges: 4.7\n",
      "czekanowski_s: 4.99\n",
      "czekanowski_d: 51.34\n",
      "motyka_s: 4.99\n",
      "motyka_d: 51.34\n",
      "kulczynski_s: 4.99\n",
      "ruzicka: 4.99\n",
      "tanimoto: 4.99\n",
      "inner: 40.68\n",
      "harmonic: 57.31\n",
      "cosine: 5.06\n",
      "kumar: 5.1\n",
      "jaccard_s: 5.1\n",
      "jaccard_d: 46.01\n",
      "dice_s: 5.1\n",
      "dice_d: 46.01\n",
      "fidelity: 40.68\n",
      "bhattacharrya: 57.31\n"
     ]
    },
    {
     "name": "stderr",
     "output_type": "stream",
     "text": [
      "C:\\Users\\vicen\\Documents\\Ciencia de dades\\Q3\\TFM\\PAC3 disseny i implementacio\\knn_lib.ipynb:411: RuntimeWarning: invalid value encountered in sqrt\n",
      "  \"\\n\",\n"
     ]
    },
    {
     "name": "stdout",
     "output_type": "stream",
     "text": [
      "hellinger: 35.61\n",
      "hellinger2: 5.01\n"
     ]
    },
    {
     "name": "stderr",
     "output_type": "stream",
     "text": [
      "C:\\Users\\vicen\\Documents\\Ciencia de dades\\Q3\\TFM\\PAC3 disseny i implementacio\\knn_lib.ipynb:419: RuntimeWarning: invalid value encountered in sqrt\n",
      "  \"    P=np.array(P,dtype=float); Q=np.array(Q,dtype=float)\\n\",\n"
     ]
    },
    {
     "name": "stdout",
     "output_type": "stream",
     "text": [
      "matusita: 35.61\n",
      "matusita2: 5.01\n",
      "squared_chord: 5.01\n",
      "sqeuclidean: 5.04\n",
      "pearson: 5.11\n",
      "neyman: 4.87\n",
      "squared: 5.01\n",
      "prob_sym: 5.01\n",
      "divergence: 4.77\n",
      "clark: 4.77\n",
      "additive_sym: 4.99\n",
      "kullback_PQ: 57.31\n",
      "jeffreys: 5.0\n",
      "k_divergence: 57.31\n",
      "topsoe: 5.01\n",
      "jensen_shannon: 5.01\n",
      "jensen_diff: 5.01\n",
      "taneja: 5.0\n",
      "kumar_johnson: 4.98\n",
      "avgL: 4.97\n",
      "vicis_wave_hedges: 4.76\n",
      "vicis_symm1: 4.9\n",
      "vicis_symm2: 4.91\n",
      "vicis_symm3: 5.02\n",
      "min_symm: 4.98\n",
      "max_symm: 5.02\n"
     ]
    }
   ],
   "source": [
    "k=1\n",
    "print_postitioning_errors(k, \"DSI2\", distance_metrics, norm=False, abs_value=True, increment=False)"
   ]
  },
  {
   "cell_type": "markdown",
   "metadata": {},
   "source": [
    "#### Increment"
   ]
  },
  {
   "cell_type": "code",
   "execution_count": 7,
   "metadata": {
    "collapsed": true
   },
   "outputs": [
    {
     "name": "stdout",
     "output_type": "stream",
     "text": [
      "euclidean: 6.46\n",
      "minkowskiL1: 6.38\n",
      "minkowskiL2: 6.46\n",
      "minkowskiL3: 6.56\n",
      "minkowskiL4: 6.47\n",
      "minkowskiL5: 6.53\n",
      "cityblock: 6.38\n",
      "chebyshev: 21.18\n",
      "sorensen: 26.65\n",
      "gower: 6.38\n",
      "soergel: 6.28\n",
      "kulczynski_d: 6.28\n",
      "lorentzian: 5.91\n",
      "canberra: 5.81\n",
      "intersection: 6.38\n",
      "wavehedges: 5.77\n",
      "czekanowski_s: 6.28\n",
      "czekanowski_d: 47.32\n",
      "motyka_s: 6.28\n",
      "motyka_d: 47.32\n",
      "kulczynski_s: 6.28\n",
      "ruzicka: 6.28\n",
      "tanimoto: 6.28\n",
      "inner: 39.76\n",
      "harmonic: 28.73\n",
      "cosine: 6.42\n",
      "kumar: 6.51\n",
      "jaccard_s: 6.51\n",
      "jaccard_d: 47.16\n",
      "dice_s: 6.51\n",
      "dice_d: 47.16\n",
      "fidelity: 40.56\n",
      "bhattacharrya: 41.54\n",
      "hellinger: 35.61\n",
      "hellinger2: 6.29\n",
      "matusita: 35.61\n",
      "matusita2: 6.29\n",
      "squared_chord: 6.29\n",
      "sqeuclidean: 6.46\n",
      "pearson: 13.91\n",
      "neyman: 8.75\n",
      "squared: 6.45\n",
      "prob_sym: 6.45\n",
      "divergence: 6.09\n",
      "clark: 6.09\n",
      "additive_sym: 7.34\n",
      "kullback_PQ: 24.84\n",
      "jeffreys: 6.52\n",
      "k_divergence: 42.63\n",
      "topsoe: 6.39\n",
      "jensen_shannon: 6.39\n",
      "jensen_diff: 6.39\n",
      "taneja: 6.61\n",
      "kumar_johnson: 8.35\n",
      "avgL: 6.41\n",
      "vicis_wave_hedges: 7.18\n",
      "vicis_symm1: 10.25\n",
      "vicis_symm2: 7.24\n",
      "vicis_symm3: 6.43\n",
      "min_symm: 12.52\n",
      "max_symm: 8.46\n"
     ]
    }
   ],
   "source": [
    "k=1\n",
    "print_postitioning_errors(k, \"DSI2\", distance_metrics, norm=False, abs_value=False, increment=True)"
   ]
  },
  {
   "cell_type": "markdown",
   "metadata": {},
   "source": [
    "#### Absolute value k=3, k=5"
   ]
  },
  {
   "cell_type": "code",
   "execution_count": 3,
   "metadata": {
    "collapsed": true
   },
   "outputs": [
    {
     "name": "stdout",
     "output_type": "stream",
     "text": [
      "euclidean: 4.95\n",
      "minkowskiL1: 4.78\n",
      "minkowskiL2: 4.95\n",
      "minkowskiL3: 5.19\n",
      "minkowskiL4: 5.5\n",
      "minkowskiL5: 5.62\n",
      "cityblock: 4.78\n",
      "chebyshev: 7.08\n",
      "sorensen: 24.58\n",
      "gower: 4.78\n",
      "soergel: 4.8\n",
      "kulczynski_d: 4.8\n",
      "lorentzian: 5.32\n",
      "canberra: 4.57\n",
      "intersection: 4.78\n",
      "wavehedges: 4.59\n",
      "czekanowski_s: 4.8\n",
      "czekanowski_d: 49.59\n",
      "motyka_s: 4.8\n",
      "motyka_d: 49.59\n",
      "kulczynski_s: 4.8\n",
      "ruzicka: 4.8\n",
      "tanimoto: 4.8\n",
      "inner: 39.24\n",
      "harmonic: 54.9\n",
      "cosine: 4.99\n",
      "kumar: 5.0\n",
      "jaccard_s: 5.0\n",
      "jaccard_d: 44.56\n",
      "dice_s: 5.0\n",
      "dice_d: 44.56\n",
      "fidelity: 37.78\n",
      "bhattacharrya: 55.01\n",
      "hellinger: 35.79\n",
      "hellinger2: 4.89\n",
      "matusita: 35.79\n",
      "matusita2: 4.89\n",
      "squared_chord: 4.89\n",
      "sqeuclidean: 4.95\n",
      "pearson: 5.01\n",
      "neyman: 4.67\n",
      "squared: 4.87\n",
      "prob_sym: 4.87\n",
      "divergence: 4.64\n",
      "clark: 4.64\n",
      "additive_sym: 4.9\n",
      "kullback_PQ: 54.9\n",
      "jeffreys: 4.89\n",
      "k_divergence: 55.01\n",
      "topsoe: 4.89\n",
      "jensen_shannon: 4.89\n",
      "jensen_diff: 4.89\n",
      "taneja: 4.9\n",
      "kumar_johnson: 4.92\n",
      "avgL: 4.77\n",
      "vicis_wave_hedges: 4.54\n",
      "vicis_symm1: 4.84\n",
      "vicis_symm2: 4.84\n",
      "vicis_symm3: 4.84\n",
      "min_symm: 4.85\n",
      "max_symm: 4.88\n"
     ]
    }
   ],
   "source": [
    "k=3\n",
    "print_postitioning_errors(k, \"DSI2\", distance_metrics, norm=False, abs_value=True, increment=False)"
   ]
  },
  {
   "cell_type": "code",
   "execution_count": 4,
   "metadata": {
    "collapsed": true
   },
   "outputs": [
    {
     "name": "stdout",
     "output_type": "stream",
     "text": [
      "euclidean: 4.5\n",
      "minkowskiL1: 4.47\n",
      "minkowskiL2: 4.5\n",
      "minkowskiL3: 4.77\n",
      "minkowskiL4: 4.88\n",
      "minkowskiL5: 5.13\n",
      "cityblock: 4.47\n",
      "chebyshev: 6.54\n",
      "sorensen: 23.66\n",
      "gower: 4.47\n",
      "soergel: 4.47\n",
      "kulczynski_d: 4.47\n",
      "lorentzian: 5.62\n",
      "canberra: 4.33\n",
      "intersection: 4.47\n",
      "wavehedges: 4.39\n",
      "czekanowski_s: 4.47\n",
      "czekanowski_d: 49.48\n",
      "motyka_s: 4.47\n",
      "motyka_d: 49.48\n",
      "kulczynski_s: 4.47\n",
      "ruzicka: 4.47\n",
      "tanimoto: 4.47\n",
      "inner: 41.36\n",
      "harmonic: 54.51\n",
      "cosine: 4.57\n",
      "kumar: 4.53\n",
      "jaccard_s: 4.53\n",
      "jaccard_d: 43.15\n",
      "dice_s: 4.53\n",
      "dice_d: 43.15\n",
      "fidelity: 39.94\n",
      "bhattacharrya: 54.62\n",
      "hellinger: 35.95\n",
      "hellinger2: 4.31\n",
      "matusita: 35.95\n",
      "matusita2: 4.31\n",
      "squared_chord: 4.31\n",
      "sqeuclidean: 4.5\n",
      "pearson: 4.59\n",
      "neyman: 4.2\n",
      "squared: 4.31\n",
      "prob_sym: 4.31\n",
      "divergence: 4.24\n",
      "clark: 4.24\n",
      "additive_sym: 4.36\n",
      "kullback_PQ: 54.52\n",
      "jeffreys: 4.32\n",
      "k_divergence: 54.62\n",
      "topsoe: 4.31\n",
      "jensen_shannon: 4.31\n",
      "jensen_diff: 4.31\n",
      "taneja: 4.33\n",
      "kumar_johnson: 4.36\n",
      "avgL: 4.39\n",
      "vicis_wave_hedges: 4.33\n",
      "vicis_symm1: 4.42\n",
      "vicis_symm2: 4.35\n",
      "vicis_symm3: 4.3\n",
      "min_symm: 4.44\n",
      "max_symm: 4.4\n"
     ]
    }
   ],
   "source": [
    "k=5\n",
    "print_postitioning_errors(k, \"DSI2\", distance_metrics, norm=False, abs_value=True, increment=False)"
   ]
  },
  {
   "cell_type": "markdown",
   "metadata": {},
   "source": [
    "### Distance measures comparison on LIB1 average error with k=1"
   ]
  },
  {
   "cell_type": "code",
   "execution_count": 8,
   "metadata": {
    "collapsed": true
   },
   "outputs": [
    {
     "name": "stdout",
     "output_type": "stream",
     "text": [
      "euclidean: 3.8\n",
      "minkowskiL1: 3.61\n",
      "minkowskiL2: 3.8\n",
      "minkowskiL3: 3.84\n",
      "minkowskiL4: 3.86\n",
      "minkowskiL5: 3.89\n",
      "cityblock: 3.61\n",
      "chebyshev: 7.99\n",
      "sorensen: 8.35\n",
      "gower: 3.61\n",
      "soergel: 3.64\n",
      "kulczynski_d: 3.64\n",
      "lorentzian: 3.48\n",
      "canberra: 3.51\n",
      "intersection: 3.61\n",
      "wavehedges: 3.91\n",
      "czekanowski_s: 3.64\n",
      "czekanowski_d: 11.97\n",
      "motyka_s: 3.64\n",
      "motyka_d: 11.97\n",
      "kulczynski_s: 3.64\n",
      "ruzicka: 3.64\n",
      "tanimoto: 3.64\n",
      "inner: 11.98\n",
      "harmonic: 4.37\n",
      "cosine: 3.78\n",
      "kumar: 3.78\n",
      "jaccard_s: 3.78\n",
      "jaccard_d: 11.96\n",
      "dice_s: 3.78\n",
      "dice_d: 11.96\n"
     ]
    },
    {
     "name": "stderr",
     "output_type": "stream",
     "text": [
      "C:\\Users\\vicen\\Documents\\Ciencia de dades\\Q3\\TFM\\PAC3 disseny i implementacio\\knn_lib.ipynb:403: RuntimeWarning: invalid value encountered in sqrt\n",
      "  {\n"
     ]
    },
    {
     "name": "stdout",
     "output_type": "stream",
     "text": [
      "fidelity: 10.08\n"
     ]
    },
    {
     "name": "stderr",
     "output_type": "stream",
     "text": [
      "C:\\Users\\vicen\\Documents\\Ciencia de dades\\Q3\\TFM\\PAC3 disseny i implementacio\\knn_lib.ipynb:407: RuntimeWarning: invalid value encountered in sqrt\n",
      "  \"outputs\": [],\n"
     ]
    },
    {
     "name": "stdout",
     "output_type": "stream",
     "text": [
      "bhattacharrya: 10.08\n",
      "hellinger: 10.08\n"
     ]
    },
    {
     "name": "stderr",
     "output_type": "stream",
     "text": [
      "C:\\Users\\vicen\\Documents\\Ciencia de dades\\Q3\\TFM\\PAC3 disseny i implementacio\\knn_lib.ipynb:415: RuntimeWarning: invalid value encountered in sqrt\n",
      "  \"    A=sum(abs(P-Q))\\n\",\n"
     ]
    },
    {
     "name": "stdout",
     "output_type": "stream",
     "text": [
      "hellinger2: 10.08\n",
      "matusita: 10.08\n"
     ]
    },
    {
     "name": "stderr",
     "output_type": "stream",
     "text": [
      "C:\\Users\\vicen\\Documents\\Ciencia de dades\\Q3\\TFM\\PAC3 disseny i implementacio\\knn_lib.ipynb:423: RuntimeWarning: invalid value encountered in sqrt\n",
      "  \"def kulczynski_d(P, Q):\\n\",\n"
     ]
    },
    {
     "name": "stdout",
     "output_type": "stream",
     "text": [
      "matusita2: 10.08\n"
     ]
    },
    {
     "name": "stderr",
     "output_type": "stream",
     "text": [
      "C:\\Users\\vicen\\Documents\\Ciencia de dades\\Q3\\TFM\\PAC3 disseny i implementacio\\knn_lib.ipynb:427: RuntimeWarning: invalid value encountered in sqrt\n",
      "  \"\\n\",\n"
     ]
    },
    {
     "name": "stdout",
     "output_type": "stream",
     "text": [
      "squared_chord: 10.08\n",
      "sqeuclidean: 3.8\n",
      "pearson: 10.0\n",
      "neyman: 8.21\n",
      "squared: 4.32\n",
      "prob_sym: 4.32\n",
      "divergence: 5.18\n",
      "clark: 5.18\n",
      "additive_sym: 12.46\n"
     ]
    },
    {
     "name": "stderr",
     "output_type": "stream",
     "text": [
      "C:\\Users\\vicen\\Documents\\Ciencia de dades\\Q3\\TFM\\PAC3 disseny i implementacio\\knn_lib.ipynb:459: RuntimeWarning: invalid value encountered in log\n",
      "  \"    minPQ=sum(np.minimum(P,Q))\\n\",\n"
     ]
    },
    {
     "name": "stdout",
     "output_type": "stream",
     "text": [
      "kullback_PQ: 10.08\n"
     ]
    },
    {
     "name": "stderr",
     "output_type": "stream",
     "text": [
      "C:\\Users\\vicen\\Documents\\Ciencia de dades\\Q3\\TFM\\PAC3 disseny i implementacio\\knn_lib.ipynb:467: RuntimeWarning: invalid value encountered in log\n",
      "  \"\\n\",\n"
     ]
    },
    {
     "name": "stdout",
     "output_type": "stream",
     "text": [
      "jeffreys: 10.08\n"
     ]
    },
    {
     "name": "stderr",
     "output_type": "stream",
     "text": [
      "C:\\Users\\vicen\\Documents\\Ciencia de dades\\Q3\\TFM\\PAC3 disseny i implementacio\\knn_lib.ipynb:471: RuntimeWarning: invalid value encountered in log\n",
      "  \"    return 1-sum(np.minimum(P,Q))/maxPQ\\n\",\n"
     ]
    },
    {
     "name": "stdout",
     "output_type": "stream",
     "text": [
      "k_divergence: 10.08\n"
     ]
    },
    {
     "name": "stderr",
     "output_type": "stream",
     "text": [
      "C:\\Users\\vicen\\Documents\\Ciencia de dades\\Q3\\TFM\\PAC3 disseny i implementacio\\knn_lib.ipynb:475: RuntimeWarning: invalid value encountered in log\n",
      "  \"    maxPQ=sum(np.maximum(P,Q))\\n\",\n"
     ]
    },
    {
     "name": "stdout",
     "output_type": "stream",
     "text": [
      "topsoe: 10.08\n"
     ]
    },
    {
     "name": "stderr",
     "output_type": "stream",
     "text": [
      "C:\\Users\\vicen\\Documents\\Ciencia de dades\\Q3\\TFM\\PAC3 disseny i implementacio\\knn_lib.ipynb:479: RuntimeWarning: invalid value encountered in log\n",
      "  \"    P=np.array(P,dtype=float); Q=np.array(Q,dtype=float)\\n\",\n"
     ]
    },
    {
     "name": "stdout",
     "output_type": "stream",
     "text": [
      "jensen_shannon: 10.08\n"
     ]
    },
    {
     "name": "stderr",
     "output_type": "stream",
     "text": [
      "C:\\Users\\vicen\\Documents\\Ciencia de dades\\Q3\\TFM\\PAC3 disseny i implementacio\\knn_lib.ipynb:483: RuntimeWarning: invalid value encountered in log\n",
      "  \"    P=np.array(P,dtype=float); Q=np.array(Q,dtype=float)\\n\",\n"
     ]
    },
    {
     "name": "stdout",
     "output_type": "stream",
     "text": [
      "jensen_diff: 10.08\n"
     ]
    },
    {
     "name": "stderr",
     "output_type": "stream",
     "text": [
      "C:\\Users\\vicen\\Documents\\Ciencia de dades\\Q3\\TFM\\PAC3 disseny i implementacio\\knn_lib.ipynb:487: RuntimeWarning: invalid value encountered in sqrt\n",
      "  \"    return kumar(P, Q)\\n\",\n",
      "C:\\Users\\vicen\\Documents\\Ciencia de dades\\Q3\\TFM\\PAC3 disseny i implementacio\\knn_lib.ipynb:487: RuntimeWarning: invalid value encountered in log\n",
      "  \"    return kumar(P, Q)\\n\",\n"
     ]
    },
    {
     "name": "stdout",
     "output_type": "stream",
     "text": [
      "taneja: 10.08\n"
     ]
    },
    {
     "name": "stderr",
     "output_type": "stream",
     "text": [
      "C:\\Users\\vicen\\Documents\\Ciencia de dades\\Q3\\TFM\\PAC3 disseny i implementacio\\knn_lib.ipynb:491: RuntimeWarning: invalid value encountered in power\n",
      "  \"\\n\",\n"
     ]
    },
    {
     "name": "stdout",
     "output_type": "stream",
     "text": [
      "kumar_johnson: 10.08\n",
      "avgL: 3.61\n",
      "vicis_wave_hedges: 12.33\n",
      "vicis_symm1: 3.54\n",
      "vicis_symm2: 12.34\n",
      "vicis_symm3: 3.88\n",
      "min_symm: 9.45\n",
      "max_symm: 11.02\n"
     ]
    }
   ],
   "source": [
    "k=1\n",
    "print_postitioning_errors(k, \"LIB1\", distance_metrics, norm=False, abs_value=False, increment=False)"
   ]
  },
  {
   "cell_type": "markdown",
   "metadata": {},
   "source": [
    "#### Normalized"
   ]
  },
  {
   "cell_type": "code",
   "execution_count": 9,
   "metadata": {
    "collapsed": true
   },
   "outputs": [
    {
     "name": "stdout",
     "output_type": "stream",
     "text": [
      "euclidean: 3.79\n",
      "minkowskiL1: 3.6\n",
      "minkowskiL2: 3.79\n",
      "minkowskiL3: 3.83\n",
      "minkowskiL4: 3.85\n",
      "minkowskiL5: 3.89\n",
      "cityblock: 3.6\n",
      "chebyshev: 7.52\n",
      "sorensen: 7.63\n",
      "gower: 3.6\n",
      "soergel: 3.64\n",
      "kulczynski_d: 3.64\n",
      "lorentzian: 3.56\n",
      "canberra: 3.56\n",
      "intersection: 3.6\n",
      "wavehedges: 3.5\n",
      "czekanowski_s: 3.64\n",
      "czekanowski_d: 11.95\n",
      "motyka_s: 3.64\n",
      "motyka_d: 11.95\n",
      "kulczynski_s: 3.64\n",
      "ruzicka: 3.64\n",
      "tanimoto: 3.64\n",
      "inner: 11.46\n",
      "harmonic: 5.9\n",
      "cosine: 3.78\n",
      "kumar: 11.89\n",
      "jaccard_s: 11.89\n",
      "jaccard_d: 3.74\n",
      "dice_s: 3.78\n",
      "dice_d: 11.9\n",
      "fidelity: 10.89\n",
      "bhattacharrya: 6.48\n"
     ]
    },
    {
     "name": "stderr",
     "output_type": "stream",
     "text": [
      "C:\\Users\\vicen\\Documents\\Ciencia de dades\\Q3\\TFM\\PAC3 disseny i implementacio\\knn_lib.ipynb:411: RuntimeWarning: invalid value encountered in sqrt\n",
      "  \"\\n\",\n"
     ]
    },
    {
     "name": "stdout",
     "output_type": "stream",
     "text": [
      "hellinger: 10.08\n",
      "hellinger2: 3.85\n"
     ]
    },
    {
     "name": "stderr",
     "output_type": "stream",
     "text": [
      "C:\\Users\\vicen\\Documents\\Ciencia de dades\\Q3\\TFM\\PAC3 disseny i implementacio\\knn_lib.ipynb:419: RuntimeWarning: invalid value encountered in sqrt\n",
      "  \"    P=np.array(P,dtype=float); Q=np.array(Q,dtype=float)\\n\",\n"
     ]
    },
    {
     "name": "stdout",
     "output_type": "stream",
     "text": [
      "matusita: 10.08\n",
      "matusita2: 3.85\n",
      "squared_chord: 3.85\n",
      "sqeuclidean: 3.79\n",
      "pearson: 4.24\n",
      "neyman: 5.84\n",
      "squared: 3.75\n",
      "prob_sym: 3.75\n",
      "divergence: 3.64\n",
      "clark: 3.64\n",
      "additive_sym: 5.05\n",
      "kullback_PQ: 5.79\n",
      "jeffreys: 3.97\n",
      "k_divergence: 6.59\n",
      "topsoe: 3.8\n",
      "jensen_shannon: 3.8\n",
      "jensen_diff: 3.8\n",
      "taneja: 4.07\n",
      "kumar_johnson: 5.69\n",
      "avgL: 3.6\n",
      "vicis_wave_hedges: 5.19\n",
      "vicis_symm1: 6.17\n",
      "vicis_symm2: 5.24\n",
      "vicis_symm3: 3.67\n",
      "min_symm: 4.21\n",
      "max_symm: 5.48\n"
     ]
    }
   ],
   "source": [
    "k=1\n",
    "print_postitioning_errors(k, \"LIB1\", distance_metrics, norm=True, abs_value=False, increment=False)"
   ]
  },
  {
   "cell_type": "markdown",
   "metadata": {},
   "source": [
    "#### Absolute value"
   ]
  },
  {
   "cell_type": "code",
   "execution_count": 10,
   "metadata": {
    "collapsed": true
   },
   "outputs": [
    {
     "name": "stdout",
     "output_type": "stream",
     "text": [
      "euclidean: 3.04\n",
      "minkowskiL1: 3.04\n",
      "minkowskiL2: 3.05\n",
      "minkowskiL3: 3.11\n",
      "minkowskiL4: 3.18\n",
      "minkowskiL5: 3.21\n",
      "cityblock: 3.04\n",
      "chebyshev: 3.79\n",
      "sorensen: 8.35\n",
      "gower: 3.04\n",
      "soergel: 3.03\n",
      "kulczynski_d: 3.03\n",
      "lorentzian: 3.39\n",
      "canberra: 3.05\n",
      "intersection: 3.04\n",
      "wavehedges: 3.08\n",
      "czekanowski_s: 3.03\n",
      "czekanowski_d: 11.94\n",
      "motyka_s: 3.03\n",
      "motyka_d: 11.94\n",
      "kulczynski_s: 3.03\n",
      "ruzicka: 3.03\n",
      "tanimoto: 3.03\n",
      "inner: 11.01\n",
      "harmonic: 8.04\n",
      "cosine: 3.03\n",
      "kumar: 3.05\n",
      "jaccard_s: 3.05\n",
      "jaccard_d: 12.61\n",
      "dice_s: 3.05\n",
      "dice_d: 12.61\n",
      "fidelity: 10.5\n",
      "bhattacharrya: 8.19\n"
     ]
    },
    {
     "name": "stderr",
     "output_type": "stream",
     "text": [
      "C:\\Users\\vicen\\Documents\\Ciencia de dades\\Q3\\TFM\\PAC3 disseny i implementacio\\knn_lib.ipynb:411: RuntimeWarning: invalid value encountered in sqrt\n",
      "  \"\\n\",\n"
     ]
    },
    {
     "name": "stdout",
     "output_type": "stream",
     "text": [
      "hellinger: 10.08\n",
      "hellinger2: 3.05\n"
     ]
    },
    {
     "name": "stderr",
     "output_type": "stream",
     "text": [
      "C:\\Users\\vicen\\Documents\\Ciencia de dades\\Q3\\TFM\\PAC3 disseny i implementacio\\knn_lib.ipynb:419: RuntimeWarning: invalid value encountered in sqrt\n",
      "  \"    P=np.array(P,dtype=float); Q=np.array(Q,dtype=float)\\n\",\n"
     ]
    },
    {
     "name": "stdout",
     "output_type": "stream",
     "text": [
      "matusita: 10.08\n",
      "matusita2: 3.05\n",
      "squared_chord: 3.05\n",
      "sqeuclidean: 3.05\n",
      "pearson: 3.06\n",
      "neyman: 3.03\n",
      "squared: 3.05\n",
      "prob_sym: 3.05\n",
      "divergence: 3.05\n",
      "clark: 3.05\n",
      "additive_sym: 3.05\n",
      "kullback_PQ: 8.06\n",
      "jeffreys: 3.05\n",
      "k_divergence: 8.17\n",
      "topsoe: 3.05\n",
      "jensen_shannon: 3.05\n",
      "jensen_diff: 3.05\n",
      "taneja: 3.05\n",
      "kumar_johnson: 3.05\n",
      "avgL: 3.06\n",
      "vicis_wave_hedges: 3.04\n",
      "vicis_symm1: 3.06\n",
      "vicis_symm2: 3.05\n",
      "vicis_symm3: 3.03\n",
      "min_symm: 3.03\n",
      "max_symm: 3.05\n"
     ]
    }
   ],
   "source": [
    "k=1\n",
    "print_postitioning_errors(k, \"LIB1\", distance_metrics, norm=False, abs_value=True, increment=False)"
   ]
  },
  {
   "cell_type": "markdown",
   "metadata": {},
   "source": [
    "#### Increment"
   ]
  },
  {
   "cell_type": "code",
   "execution_count": 11,
   "metadata": {
    "collapsed": true
   },
   "outputs": [
    {
     "name": "stdout",
     "output_type": "stream",
     "text": [
      "euclidean: 3.8\n",
      "minkowskiL1: 3.61\n",
      "minkowskiL2: 3.8\n",
      "minkowskiL3: 3.84\n",
      "minkowskiL4: 3.86\n",
      "minkowskiL5: 3.89\n",
      "cityblock: 3.61\n",
      "chebyshev: 7.99\n",
      "sorensen: 8.35\n",
      "gower: 3.61\n",
      "soergel: 3.61\n",
      "kulczynski_d: 3.61\n",
      "lorentzian: 3.48\n",
      "canberra: 3.49\n",
      "intersection: 3.61\n",
      "wavehedges: 3.47\n",
      "czekanowski_s: 3.61\n",
      "czekanowski_d: 12.02\n",
      "motyka_s: 3.61\n",
      "motyka_d: 12.02\n",
      "kulczynski_s: 3.61\n",
      "ruzicka: 3.61\n",
      "tanimoto: 3.61\n",
      "inner: 11.42\n",
      "harmonic: 5.95\n",
      "cosine: 3.79\n",
      "kumar: 3.79\n",
      "jaccard_s: 3.79\n",
      "jaccard_d: 11.95\n",
      "dice_s: 3.79\n",
      "dice_d: 11.95\n",
      "fidelity: 10.79\n",
      "bhattacharrya: 6.63\n",
      "hellinger: 10.08\n",
      "hellinger2: 3.82\n",
      "matusita: 10.08\n",
      "matusita2: 3.82\n",
      "squared_chord: 3.82\n",
      "sqeuclidean: 3.8\n",
      "pearson: 4.17\n",
      "neyman: 5.02\n",
      "squared: 3.77\n",
      "prob_sym: 3.77\n",
      "divergence: 3.67\n",
      "clark: 3.67\n",
      "additive_sym: 4.23\n",
      "kullback_PQ: 5.82\n",
      "jeffreys: 3.86\n",
      "k_divergence: 6.65\n",
      "topsoe: 3.8\n",
      "jensen_shannon: 3.8\n",
      "jensen_diff: 3.8\n",
      "taneja: 3.91\n",
      "kumar_johnson: 4.57\n",
      "avgL: 3.61\n",
      "vicis_wave_hedges: 4.15\n",
      "vicis_symm1: 5.18\n",
      "vicis_symm2: 4.29\n",
      "vicis_symm3: 3.71\n",
      "min_symm: 4.14\n",
      "max_symm: 4.54\n"
     ]
    }
   ],
   "source": [
    "k=1\n",
    "print_postitioning_errors(k, \"LIB1\", distance_metrics, norm=False, abs_value=False, increment=True)"
   ]
  },
  {
   "cell_type": "markdown",
   "metadata": {},
   "source": [
    "#### Absolute value k=3, k=5"
   ]
  },
  {
   "cell_type": "code",
   "execution_count": 5,
   "metadata": {
    "collapsed": true
   },
   "outputs": [
    {
     "name": "stdout",
     "output_type": "stream",
     "text": [
      "euclidean: 2.73\n",
      "minkowskiL1: 2.75\n",
      "minkowskiL2: 2.73\n",
      "minkowskiL3: 2.83\n",
      "minkowskiL4: 2.9\n",
      "minkowskiL5: 2.94\n",
      "cityblock: 2.75\n",
      "chebyshev: 3.49\n",
      "sorensen: 7.07\n",
      "gower: 2.75\n",
      "soergel: 2.75\n",
      "kulczynski_d: 2.75\n",
      "lorentzian: 2.96\n",
      "canberra: 2.75\n",
      "intersection: 2.75\n",
      "wavehedges: 2.75\n",
      "czekanowski_s: 2.75\n",
      "czekanowski_d: 11.64\n",
      "motyka_s: 2.75\n",
      "motyka_d: 11.64\n",
      "kulczynski_s: 2.75\n",
      "ruzicka: 2.75\n",
      "tanimoto: 2.75\n",
      "inner: 10.54\n",
      "harmonic: 8.02\n",
      "cosine: 2.7\n",
      "kumar: 2.73\n",
      "jaccard_s: 2.73\n",
      "jaccard_d: 12.41\n",
      "dice_s: 2.73\n",
      "dice_d: 12.41\n",
      "fidelity: 10.23\n",
      "bhattacharrya: 8.17\n",
      "hellinger: 10.08\n",
      "hellinger2: 2.76\n",
      "matusita: 10.08\n",
      "matusita2: 2.76\n",
      "squared_chord: 2.76\n",
      "sqeuclidean: 2.73\n",
      "pearson: 2.79\n",
      "neyman: 2.75\n",
      "squared: 2.76\n",
      "prob_sym: 2.76\n",
      "divergence: 2.8\n",
      "clark: 2.8\n",
      "additive_sym: 2.77\n",
      "kullback_PQ: 8.07\n",
      "jeffreys: 2.76\n",
      "k_divergence: 8.16\n",
      "topsoe: 2.76\n",
      "jensen_shannon: 2.76\n",
      "jensen_diff: 2.76\n",
      "taneja: 2.77\n",
      "kumar_johnson: 2.77\n",
      "avgL: 2.75\n",
      "vicis_wave_hedges: 2.73\n",
      "vicis_symm1: 2.84\n",
      "vicis_symm2: 2.78\n",
      "vicis_symm3: 2.74\n",
      "min_symm: 2.73\n",
      "max_symm: 2.8\n"
     ]
    }
   ],
   "source": [
    "k=3\n",
    "print_postitioning_errors(k, \"LIB1\", distance_metrics, norm=False, abs_value=True, increment=False)"
   ]
  },
  {
   "cell_type": "code",
   "execution_count": 6,
   "metadata": {
    "collapsed": true
   },
   "outputs": [
    {
     "name": "stdout",
     "output_type": "stream",
     "text": [
      "euclidean: 2.63\n",
      "minkowskiL1: 2.64\n",
      "minkowskiL2: 2.63\n",
      "minkowskiL3: 2.72\n",
      "minkowskiL4: 2.8\n",
      "minkowskiL5: 2.86\n",
      "cityblock: 2.64\n",
      "chebyshev: 3.39\n",
      "sorensen: 6.79\n",
      "gower: 2.64\n",
      "soergel: 2.63\n",
      "kulczynski_d: 2.63\n",
      "lorentzian: 2.83\n",
      "canberra: 2.65\n",
      "intersection: 2.64\n",
      "wavehedges: 2.66\n",
      "czekanowski_s: 2.63\n",
      "czekanowski_d: 11.54\n",
      "motyka_s: 2.63\n",
      "motyka_d: 11.54\n",
      "kulczynski_s: 2.63\n",
      "ruzicka: 2.63\n",
      "tanimoto: 2.63\n",
      "inner: 10.16\n",
      "harmonic: 7.92\n",
      "cosine: 2.59\n",
      "kumar: 2.62\n",
      "jaccard_s: 2.62\n",
      "jaccard_d: 12.37\n",
      "dice_s: 2.62\n",
      "dice_d: 12.37\n",
      "fidelity: 9.86\n",
      "bhattacharrya: 8.12\n",
      "hellinger: 10.08\n",
      "hellinger2: 2.66\n",
      "matusita: 10.08\n",
      "matusita2: 2.66\n",
      "squared_chord: 2.66\n",
      "sqeuclidean: 2.63\n",
      "pearson: 2.69\n",
      "neyman: 2.67\n",
      "squared: 2.66\n",
      "prob_sym: 2.66\n",
      "divergence: 2.7\n",
      "clark: 2.7\n",
      "additive_sym: 2.67\n",
      "kullback_PQ: 7.98\n",
      "jeffreys: 2.66\n",
      "k_divergence: 8.11\n",
      "topsoe: 2.66\n",
      "jensen_shannon: 2.66\n",
      "jensen_diff: 2.66\n",
      "taneja: 2.66\n",
      "kumar_johnson: 2.67\n",
      "avgL: 2.64\n",
      "vicis_wave_hedges: 2.66\n",
      "vicis_symm1: 2.76\n",
      "vicis_symm2: 2.69\n",
      "vicis_symm3: 2.64\n",
      "min_symm: 2.63\n",
      "max_symm: 2.71\n"
     ]
    }
   ],
   "source": [
    "k=5\n",
    "print_postitioning_errors(k, \"LIB1\", distance_metrics, norm=False, abs_value=True, increment=False)"
   ]
  },
  {
   "cell_type": "markdown",
   "metadata": {},
   "source": [
    "### Distance measures comparison on LIB2 average error with k=1"
   ]
  },
  {
   "cell_type": "code",
   "execution_count": 12,
   "metadata": {
    "collapsed": true
   },
   "outputs": [
    {
     "name": "stdout",
     "output_type": "stream",
     "text": [
      "euclidean: 4.47\n",
      "minkowskiL1: 4.35\n",
      "minkowskiL2: 4.47\n",
      "minkowskiL3: 4.51\n",
      "minkowskiL4: 4.57\n",
      "minkowskiL5: 4.62\n",
      "cityblock: 4.35\n",
      "chebyshev: 8.85\n",
      "sorensen: 8.07\n",
      "gower: 4.35\n",
      "soergel: 4.73\n",
      "kulczynski_d: 4.73\n",
      "lorentzian: 4.67\n",
      "canberra: 4.26\n",
      "intersection: 4.35\n",
      "wavehedges: 4.58\n",
      "czekanowski_s: 4.73\n",
      "czekanowski_d: 10.91\n",
      "motyka_s: 4.73\n",
      "motyka_d: 10.91\n",
      "kulczynski_s: 4.73\n",
      "ruzicka: 4.73\n",
      "tanimoto: 4.73\n",
      "inner: 11.03\n",
      "harmonic: 5.37\n",
      "cosine: 4.56\n",
      "kumar: 4.56\n",
      "jaccard_s: 4.56\n",
      "jaccard_d: 11.1\n",
      "dice_s: 4.56\n",
      "dice_d: 11.1\n"
     ]
    },
    {
     "name": "stderr",
     "output_type": "stream",
     "text": [
      "C:\\Users\\vicen\\Documents\\Ciencia de dades\\Q3\\TFM\\PAC3 disseny i implementacio\\knn_lib.ipynb:403: RuntimeWarning: invalid value encountered in sqrt\n",
      "  {\n"
     ]
    },
    {
     "name": "stdout",
     "output_type": "stream",
     "text": [
      "fidelity: 10.08\n"
     ]
    },
    {
     "name": "stderr",
     "output_type": "stream",
     "text": [
      "C:\\Users\\vicen\\Documents\\Ciencia de dades\\Q3\\TFM\\PAC3 disseny i implementacio\\knn_lib.ipynb:407: RuntimeWarning: invalid value encountered in sqrt\n",
      "  \"outputs\": [],\n"
     ]
    },
    {
     "name": "stdout",
     "output_type": "stream",
     "text": [
      "bhattacharrya: 10.08\n",
      "hellinger: 10.08\n"
     ]
    },
    {
     "name": "stderr",
     "output_type": "stream",
     "text": [
      "C:\\Users\\vicen\\Documents\\Ciencia de dades\\Q3\\TFM\\PAC3 disseny i implementacio\\knn_lib.ipynb:415: RuntimeWarning: invalid value encountered in sqrt\n",
      "  \"    A=sum(abs(P-Q))\\n\",\n"
     ]
    },
    {
     "name": "stdout",
     "output_type": "stream",
     "text": [
      "hellinger2: 10.08\n",
      "matusita: 10.08\n"
     ]
    },
    {
     "name": "stderr",
     "output_type": "stream",
     "text": [
      "C:\\Users\\vicen\\Documents\\Ciencia de dades\\Q3\\TFM\\PAC3 disseny i implementacio\\knn_lib.ipynb:423: RuntimeWarning: invalid value encountered in sqrt\n",
      "  \"def kulczynski_d(P, Q):\\n\",\n"
     ]
    },
    {
     "name": "stdout",
     "output_type": "stream",
     "text": [
      "matusita2: 10.08\n"
     ]
    },
    {
     "name": "stderr",
     "output_type": "stream",
     "text": [
      "C:\\Users\\vicen\\Documents\\Ciencia de dades\\Q3\\TFM\\PAC3 disseny i implementacio\\knn_lib.ipynb:427: RuntimeWarning: invalid value encountered in sqrt\n",
      "  \"\\n\",\n"
     ]
    },
    {
     "name": "stdout",
     "output_type": "stream",
     "text": [
      "squared_chord: 10.08\n",
      "sqeuclidean: 4.47\n",
      "pearson: 11.33\n",
      "neyman: 9.06\n",
      "squared: 5.23\n",
      "prob_sym: 5.23\n",
      "divergence: 6.22\n",
      "clark: 6.22\n",
      "additive_sym: 12.49\n"
     ]
    },
    {
     "name": "stderr",
     "output_type": "stream",
     "text": [
      "C:\\Users\\vicen\\Documents\\Ciencia de dades\\Q3\\TFM\\PAC3 disseny i implementacio\\knn_lib.ipynb:459: RuntimeWarning: invalid value encountered in log\n",
      "  \"    minPQ=sum(np.minimum(P,Q))\\n\",\n"
     ]
    },
    {
     "name": "stdout",
     "output_type": "stream",
     "text": [
      "kullback_PQ: 10.08\n"
     ]
    },
    {
     "name": "stderr",
     "output_type": "stream",
     "text": [
      "C:\\Users\\vicen\\Documents\\Ciencia de dades\\Q3\\TFM\\PAC3 disseny i implementacio\\knn_lib.ipynb:467: RuntimeWarning: invalid value encountered in log\n",
      "  \"\\n\",\n"
     ]
    },
    {
     "name": "stdout",
     "output_type": "stream",
     "text": [
      "jeffreys: 10.08\n"
     ]
    },
    {
     "name": "stderr",
     "output_type": "stream",
     "text": [
      "C:\\Users\\vicen\\Documents\\Ciencia de dades\\Q3\\TFM\\PAC3 disseny i implementacio\\knn_lib.ipynb:471: RuntimeWarning: invalid value encountered in log\n",
      "  \"    return 1-sum(np.minimum(P,Q))/maxPQ\\n\",\n"
     ]
    },
    {
     "name": "stdout",
     "output_type": "stream",
     "text": [
      "k_divergence: 10.08\n"
     ]
    },
    {
     "name": "stderr",
     "output_type": "stream",
     "text": [
      "C:\\Users\\vicen\\Documents\\Ciencia de dades\\Q3\\TFM\\PAC3 disseny i implementacio\\knn_lib.ipynb:475: RuntimeWarning: invalid value encountered in log\n",
      "  \"    maxPQ=sum(np.maximum(P,Q))\\n\",\n"
     ]
    },
    {
     "name": "stdout",
     "output_type": "stream",
     "text": [
      "topsoe: 10.08\n"
     ]
    },
    {
     "name": "stderr",
     "output_type": "stream",
     "text": [
      "C:\\Users\\vicen\\Documents\\Ciencia de dades\\Q3\\TFM\\PAC3 disseny i implementacio\\knn_lib.ipynb:479: RuntimeWarning: invalid value encountered in log\n",
      "  \"    P=np.array(P,dtype=float); Q=np.array(Q,dtype=float)\\n\",\n"
     ]
    },
    {
     "name": "stdout",
     "output_type": "stream",
     "text": [
      "jensen_shannon: 10.08\n"
     ]
    },
    {
     "name": "stderr",
     "output_type": "stream",
     "text": [
      "C:\\Users\\vicen\\Documents\\Ciencia de dades\\Q3\\TFM\\PAC3 disseny i implementacio\\knn_lib.ipynb:483: RuntimeWarning: invalid value encountered in log\n",
      "  \"    P=np.array(P,dtype=float); Q=np.array(Q,dtype=float)\\n\",\n"
     ]
    },
    {
     "name": "stdout",
     "output_type": "stream",
     "text": [
      "jensen_diff: 10.08\n"
     ]
    },
    {
     "name": "stderr",
     "output_type": "stream",
     "text": [
      "C:\\Users\\vicen\\Documents\\Ciencia de dades\\Q3\\TFM\\PAC3 disseny i implementacio\\knn_lib.ipynb:487: RuntimeWarning: invalid value encountered in sqrt\n",
      "  \"    return kumar(P, Q)\\n\",\n",
      "C:\\Users\\vicen\\Documents\\Ciencia de dades\\Q3\\TFM\\PAC3 disseny i implementacio\\knn_lib.ipynb:487: RuntimeWarning: invalid value encountered in log\n",
      "  \"    return kumar(P, Q)\\n\",\n"
     ]
    },
    {
     "name": "stdout",
     "output_type": "stream",
     "text": [
      "taneja: 10.08\n"
     ]
    },
    {
     "name": "stderr",
     "output_type": "stream",
     "text": [
      "C:\\Users\\vicen\\Documents\\Ciencia de dades\\Q3\\TFM\\PAC3 disseny i implementacio\\knn_lib.ipynb:491: RuntimeWarning: invalid value encountered in power\n",
      "  \"\\n\",\n"
     ]
    },
    {
     "name": "stdout",
     "output_type": "stream",
     "text": [
      "kumar_johnson: 10.08\n",
      "avgL: 4.36\n",
      "vicis_wave_hedges: 11.93\n",
      "vicis_symm1: 4.41\n",
      "vicis_symm2: 11.97\n",
      "vicis_symm3: 4.49\n",
      "min_symm: 11.48\n",
      "max_symm: 11.58\n"
     ]
    }
   ],
   "source": [
    "k=1\n",
    "print_postitioning_errors(k, \"LIB2\", distance_metrics, norm=False, abs_value=False, increment=False)"
   ]
  },
  {
   "cell_type": "markdown",
   "metadata": {},
   "source": [
    "#### Normalized"
   ]
  },
  {
   "cell_type": "code",
   "execution_count": 13,
   "metadata": {
    "collapsed": true
   },
   "outputs": [
    {
     "name": "stdout",
     "output_type": "stream",
     "text": [
      "euclidean: 4.5\n",
      "minkowskiL1: 4.38\n",
      "minkowskiL2: 4.5\n",
      "minkowskiL3: 4.55\n",
      "minkowskiL4: 4.6\n",
      "minkowskiL5: 4.64\n",
      "cityblock: 4.38\n",
      "chebyshev: 7.33\n",
      "sorensen: 7.38\n",
      "gower: 4.38\n",
      "soergel: 4.59\n",
      "kulczynski_d: 4.59\n",
      "lorentzian: 4.33\n",
      "canberra: 4.44\n",
      "intersection: 4.38\n",
      "wavehedges: 4.53\n",
      "czekanowski_s: 4.59\n",
      "czekanowski_d: 10.98\n",
      "motyka_s: 4.59\n",
      "motyka_d: 10.98\n",
      "kulczynski_s: 4.59\n",
      "ruzicka: 4.59\n",
      "tanimoto: 4.59\n",
      "inner: 10.72\n",
      "harmonic: 7.0\n",
      "cosine: 4.7\n",
      "kumar: 11.09\n",
      "jaccard_s: 11.09\n",
      "jaccard_d: 10.04\n",
      "dice_s: 4.73\n",
      "dice_d: 10.9\n",
      "fidelity: 10.64\n",
      "bhattacharrya: 7.53\n"
     ]
    },
    {
     "name": "stderr",
     "output_type": "stream",
     "text": [
      "C:\\Users\\vicen\\Documents\\Ciencia de dades\\Q3\\TFM\\PAC3 disseny i implementacio\\knn_lib.ipynb:411: RuntimeWarning: invalid value encountered in sqrt\n",
      "  \"\\n\",\n"
     ]
    },
    {
     "name": "stdout",
     "output_type": "stream",
     "text": [
      "hellinger: 10.08\n",
      "hellinger2: 4.63\n"
     ]
    },
    {
     "name": "stderr",
     "output_type": "stream",
     "text": [
      "C:\\Users\\vicen\\Documents\\Ciencia de dades\\Q3\\TFM\\PAC3 disseny i implementacio\\knn_lib.ipynb:419: RuntimeWarning: invalid value encountered in sqrt\n",
      "  \"    P=np.array(P,dtype=float); Q=np.array(Q,dtype=float)\\n\",\n"
     ]
    },
    {
     "name": "stdout",
     "output_type": "stream",
     "text": [
      "matusita: 10.08\n",
      "matusita2: 4.63\n",
      "squared_chord: 4.63\n",
      "sqeuclidean: 4.5\n",
      "pearson: 6.28\n",
      "neyman: 4.56\n",
      "squared: 4.51\n",
      "prob_sym: 4.51\n",
      "divergence: 4.5\n",
      "clark: 4.5\n",
      "additive_sym: 6.09\n",
      "kullback_PQ: 6.62\n",
      "jeffreys: 4.83\n",
      "k_divergence: 7.55\n",
      "topsoe: 4.57\n",
      "jensen_shannon: 4.57\n",
      "jensen_diff: 4.57\n",
      "taneja: 4.98\n",
      "kumar_johnson: 6.69\n",
      "avgL: 4.38\n",
      "vicis_wave_hedges: 6.14\n",
      "vicis_symm1: 6.92\n",
      "vicis_symm2: 6.24\n",
      "vicis_symm3: 4.47\n",
      "min_symm: 4.71\n",
      "max_symm: 6.15\n"
     ]
    }
   ],
   "source": [
    "k=1\n",
    "print_postitioning_errors(k, \"LIB2\", distance_metrics, norm=True, abs_value=False, increment=False)"
   ]
  },
  {
   "cell_type": "markdown",
   "metadata": {},
   "source": [
    "#### Absolute value"
   ]
  },
  {
   "cell_type": "code",
   "execution_count": 15,
   "metadata": {
    "collapsed": true
   },
   "outputs": [
    {
     "name": "stdout",
     "output_type": "stream",
     "text": [
      "euclidean: 4.05\n",
      "minkowskiL1: 4.2\n",
      "minkowskiL2: 4.05\n",
      "minkowskiL3: 4.29\n",
      "minkowskiL4: 4.45\n",
      "minkowskiL5: 4.59\n",
      "cityblock: 4.2\n",
      "chebyshev: 7.82\n",
      "sorensen: 8.07\n",
      "gower: 4.2\n",
      "soergel: 4.25\n",
      "kulczynski_d: 4.25\n",
      "lorentzian: 4.8\n",
      "canberra: 4.24\n",
      "intersection: 4.2\n",
      "wavehedges: 4.3\n",
      "czekanowski_s: 4.25\n",
      "czekanowski_d: 12.14\n",
      "motyka_s: 4.25\n",
      "motyka_d: 12.14\n",
      "kulczynski_s: 4.25\n",
      "ruzicka: 4.25\n",
      "tanimoto: 4.25\n",
      "inner: 10.5\n",
      "harmonic: 8.02\n",
      "cosine: 4.28\n",
      "kumar: 4.1\n",
      "jaccard_s: 4.1\n",
      "jaccard_d: 12.01\n",
      "dice_s: 4.1\n",
      "dice_d: 12.01\n",
      "fidelity: 10.08\n",
      "bhattacharrya: 8.17\n"
     ]
    },
    {
     "name": "stderr",
     "output_type": "stream",
     "text": [
      "C:\\Users\\vicen\\Documents\\Ciencia de dades\\Q3\\TFM\\PAC3 disseny i implementacio\\knn_lib.ipynb:411: RuntimeWarning: invalid value encountered in sqrt\n",
      "  \"\\n\",\n"
     ]
    },
    {
     "name": "stdout",
     "output_type": "stream",
     "text": [
      "hellinger: 10.08\n",
      "hellinger2: 4.0\n"
     ]
    },
    {
     "name": "stderr",
     "output_type": "stream",
     "text": [
      "C:\\Users\\vicen\\Documents\\Ciencia de dades\\Q3\\TFM\\PAC3 disseny i implementacio\\knn_lib.ipynb:419: RuntimeWarning: invalid value encountered in sqrt\n",
      "  \"\\n\",\n"
     ]
    },
    {
     "name": "stdout",
     "output_type": "stream",
     "text": [
      "matusita: 10.08\n",
      "matusita2: 4.0\n",
      "squared_chord: 4.0\n",
      "sqeuclidean: 4.05\n",
      "pearson: 4.5\n",
      "neyman: 3.72\n",
      "squared: 4.0\n",
      "prob_sym: 4.0\n",
      "divergence: 3.99\n",
      "clark: 3.99\n",
      "additive_sym: 4.02\n",
      "kullback_PQ: 8.04\n",
      "jeffreys: 4.01\n",
      "k_divergence: 8.15\n",
      "topsoe: 4.0\n",
      "jensen_shannon: 4.0\n",
      "jensen_diff: 4.0\n",
      "taneja: 4.01\n",
      "kumar_johnson: 4.03\n",
      "avgL: 4.19\n",
      "vicis_wave_hedges: 4.22\n",
      "vicis_symm1: 4.04\n",
      "vicis_symm2: 4.04\n",
      "vicis_symm3: 3.97\n",
      "min_symm: 4.47\n",
      "max_symm: 3.76\n"
     ]
    }
   ],
   "source": [
    "k=1\n",
    "print_postitioning_errors(k, \"LIB2\", distance_metrics, norm=False, abs_value=True, increment=False)"
   ]
  },
  {
   "cell_type": "markdown",
   "metadata": {},
   "source": [
    "#### Increment"
   ]
  },
  {
   "cell_type": "code",
   "execution_count": 16,
   "metadata": {
    "collapsed": true
   },
   "outputs": [
    {
     "name": "stdout",
     "output_type": "stream",
     "text": [
      "euclidean: 4.47\n",
      "minkowskiL1: 4.35\n",
      "minkowskiL2: 4.47\n",
      "minkowskiL3: 4.51\n",
      "minkowskiL4: 4.57\n",
      "minkowskiL5: 4.62\n",
      "cityblock: 4.35\n",
      "chebyshev: 8.85\n",
      "sorensen: 8.07\n",
      "gower: 4.35\n",
      "soergel: 4.55\n",
      "kulczynski_d: 4.55\n",
      "lorentzian: 4.67\n",
      "canberra: 4.42\n",
      "intersection: 4.35\n",
      "wavehedges: 4.47\n",
      "czekanowski_s: 4.55\n",
      "czekanowski_d: 11.11\n",
      "motyka_s: 4.55\n",
      "motyka_d: 11.11\n",
      "kulczynski_s: 4.55\n",
      "ruzicka: 4.55\n",
      "tanimoto: 4.55\n",
      "inner: 10.65\n",
      "harmonic: 7.14\n",
      "cosine: 4.76\n",
      "kumar: 4.7\n",
      "jaccard_s: 4.7\n",
      "jaccard_d: 11.0\n",
      "dice_s: 4.7\n",
      "dice_d: 11.0\n",
      "fidelity: 10.67\n",
      "bhattacharrya: 7.72\n",
      "hellinger: 10.08\n",
      "hellinger2: 4.58\n",
      "matusita: 10.08\n",
      "matusita2: 4.58\n",
      "squared_chord: 4.58\n",
      "sqeuclidean: 4.47\n",
      "pearson: 6.19\n",
      "neyman: 3.83\n",
      "squared: 4.48\n",
      "prob_sym: 4.48\n",
      "divergence: 4.44\n",
      "clark: 4.44\n",
      "additive_sym: 5.16\n",
      "kullback_PQ: 6.99\n",
      "jeffreys: 4.64\n",
      "k_divergence: 7.72\n",
      "topsoe: 4.54\n",
      "jensen_shannon: 4.54\n",
      "jensen_diff: 4.54\n",
      "taneja: 4.71\n",
      "kumar_johnson: 5.59\n",
      "avgL: 4.36\n",
      "vicis_wave_hedges: 5.12\n",
      "vicis_symm1: 6.21\n",
      "vicis_symm2: 5.22\n",
      "vicis_symm3: 4.44\n",
      "min_symm: 5.94\n",
      "max_symm: 4.44\n"
     ]
    }
   ],
   "source": [
    "k=1\n",
    "print_postitioning_errors(k, \"LIB2\", distance_metrics, norm=False, abs_value=False, increment=True)"
   ]
  },
  {
   "cell_type": "markdown",
   "metadata": {},
   "source": [
    "#### Normalized k=3, k=5"
   ]
  },
  {
   "cell_type": "code",
   "execution_count": null,
   "metadata": {},
   "outputs": [],
   "source": [
    "k=3\n",
    "print_postitioning_errors(k, \"LIB2\", distance_metrics, norm=True, abs_value=False, increment=False)"
   ]
  },
  {
   "cell_type": "code",
   "execution_count": null,
   "metadata": {},
   "outputs": [],
   "source": [
    "k=5\n",
    "print_postitioning_errors(k, \"LIB2\", distance_metrics, norm=True, abs_value=False, increment=False)"
   ]
  },
  {
   "cell_type": "markdown",
   "metadata": {},
   "source": [
    "### (!!!!) Distance measures comparison on MAN1 average error with k=1"
   ]
  },
  {
   "cell_type": "code",
   "execution_count": 7,
   "metadata": {
    "collapsed": true
   },
   "outputs": [
    {
     "name": "stdout",
     "output_type": "stream",
     "text": [
      "euclidean: 3.93\n",
      "minkowskiL1: 3.56\n",
      "minkowskiL2: 3.93\n",
      "minkowskiL3: 4.01\n"
     ]
    },
    {
     "ename": "KeyboardInterrupt",
     "evalue": "",
     "output_type": "error",
     "traceback": [
      "\u001b[1;31m---------------------------------------------------------------------------\u001b[0m",
      "\u001b[1;31mKeyboardInterrupt\u001b[0m                         Traceback (most recent call last)",
      "\u001b[1;32m<ipython-input-7-ee3990c045c6>\u001b[0m in \u001b[0;36m<module>\u001b[1;34m\u001b[0m\n\u001b[0;32m      1\u001b[0m \u001b[0mk\u001b[0m\u001b[1;33m=\u001b[0m\u001b[1;36m1\u001b[0m\u001b[1;33m\u001b[0m\u001b[1;33m\u001b[0m\u001b[0m\n\u001b[1;32m----> 2\u001b[1;33m \u001b[0mprint_postitioning_errors\u001b[0m\u001b[1;33m(\u001b[0m\u001b[0mk\u001b[0m\u001b[1;33m,\u001b[0m \u001b[1;34m\"MAN1\"\u001b[0m\u001b[1;33m,\u001b[0m \u001b[0mdistance_metrics\u001b[0m\u001b[1;33m,\u001b[0m \u001b[0mnorm\u001b[0m\u001b[1;33m=\u001b[0m\u001b[1;32mFalse\u001b[0m\u001b[1;33m,\u001b[0m \u001b[0mabs_value\u001b[0m\u001b[1;33m=\u001b[0m\u001b[1;32mFalse\u001b[0m\u001b[1;33m,\u001b[0m \u001b[0mincrement\u001b[0m\u001b[1;33m=\u001b[0m\u001b[1;32mFalse\u001b[0m\u001b[1;33m)\u001b[0m\u001b[1;33m\u001b[0m\u001b[1;33m\u001b[0m\u001b[0m\n\u001b[0m",
      "\u001b[1;32m~\\Documents\\Ciencia de dades\\Q3\\TFM\\PAC3 disseny i implementacio\\knn_lib.ipynb\u001b[0m in \u001b[0;36mprint_postitioning_errors\u001b[1;34m(k, filename, metrics_list, norm, abs_value, increment)\u001b[0m\n\u001b[0;32m    241\u001b[0m     \u001b[1;34m\"        scaler = MinMaxScaler()\\n\"\u001b[0m\u001b[1;33m,\u001b[0m\u001b[1;33m\u001b[0m\u001b[1;33m\u001b[0m\u001b[0m\n\u001b[0;32m    242\u001b[0m     \u001b[1;34m\"        trnrss = scaler.fit_transform(trnrss)\\n\"\u001b[0m\u001b[1;33m,\u001b[0m\u001b[1;33m\u001b[0m\u001b[1;33m\u001b[0m\u001b[0m\n\u001b[1;32m--> 243\u001b[1;33m     \u001b[1;34m\"        tstrss = scaler.transform(tstrss)\\n\"\u001b[0m\u001b[1;33m,\u001b[0m\u001b[1;33m\u001b[0m\u001b[1;33m\u001b[0m\u001b[0m\n\u001b[0m\u001b[0;32m    244\u001b[0m     \u001b[1;34m\"        \\n\"\u001b[0m\u001b[1;33m,\u001b[0m\u001b[1;33m\u001b[0m\u001b[1;33m\u001b[0m\u001b[0m\n\u001b[0;32m    245\u001b[0m     \u001b[1;34m\"    # iterate test data and find id of k nearest neighbors from trnrss\\n\"\u001b[0m\u001b[1;33m,\u001b[0m\u001b[1;33m\u001b[0m\u001b[1;33m\u001b[0m\u001b[0m\n",
      "\u001b[1;32m~\\Documents\\Ciencia de dades\\Q3\\TFM\\PAC3 disseny i implementacio\\knn_lib.ipynb\u001b[0m in \u001b[0;36mpositioning_error\u001b[1;34m(k, filename, distance, norm, isAbs, incr)\u001b[0m\n\u001b[0;32m    230\u001b[0m    \u001b[1;34m\"cell_type\"\u001b[0m\u001b[1;33m:\u001b[0m \u001b[1;34m\"code\"\u001b[0m\u001b[1;33m,\u001b[0m\u001b[1;33m\u001b[0m\u001b[1;33m\u001b[0m\u001b[0m\n\u001b[0;32m    231\u001b[0m    \u001b[1;34m\"execution_count\"\u001b[0m\u001b[1;33m:\u001b[0m \u001b[1;36m87\u001b[0m\u001b[1;33m,\u001b[0m\u001b[1;33m\u001b[0m\u001b[1;33m\u001b[0m\u001b[0m\n\u001b[1;32m--> 232\u001b[1;33m    \u001b[1;34m\"metadata\"\u001b[0m\u001b[1;33m:\u001b[0m \u001b[1;33m{\u001b[0m\u001b[1;33m}\u001b[0m\u001b[1;33m,\u001b[0m\u001b[1;33m\u001b[0m\u001b[1;33m\u001b[0m\u001b[0m\n\u001b[0m\u001b[0;32m    233\u001b[0m    \u001b[1;34m\"outputs\"\u001b[0m\u001b[1;33m:\u001b[0m \u001b[1;33m[\u001b[0m\u001b[1;33m]\u001b[0m\u001b[1;33m,\u001b[0m\u001b[1;33m\u001b[0m\u001b[1;33m\u001b[0m\u001b[0m\n\u001b[0;32m    234\u001b[0m    \"source\": [\n",
      "\u001b[1;32m~\\Documents\\Ciencia de dades\\Q3\\TFM\\PAC3 disseny i implementacio\\knn_lib.ipynb\u001b[0m in \u001b[0;36mknn\u001b[1;34m(k, tstrss, trnrss, distance, norm, isAbs, incr)\u001b[0m\n\u001b[0;32m    198\u001b[0m     \u001b[1;34m\"        if name == \\\"topsoe_incr\\\": dist = topsoe_incr(test_row, train_row)\\n\"\u001b[0m\u001b[1;33m,\u001b[0m\u001b[1;33m\u001b[0m\u001b[1;33m\u001b[0m\u001b[0m\n\u001b[0;32m    199\u001b[0m     \u001b[1;34m\"        if name == \\\"topsoe\\\": dist = topsoe(test_row, train_row)\\n\"\u001b[0m\u001b[1;33m,\u001b[0m\u001b[1;33m\u001b[0m\u001b[1;33m\u001b[0m\u001b[0m\n\u001b[1;32m--> 200\u001b[1;33m     \u001b[1;34m\"        if name == \\\"jensen_shannon\\\": dist = jensen_shannon(test_row, train_row)\\n\"\u001b[0m\u001b[1;33m,\u001b[0m\u001b[1;33m\u001b[0m\u001b[1;33m\u001b[0m\u001b[0m\n\u001b[0m\u001b[0;32m    201\u001b[0m     \u001b[1;34m\"        if name == \\\"jensen_diff\\\": dist = jensen_diff(test_row, train_row)\\n\"\u001b[0m\u001b[1;33m,\u001b[0m\u001b[1;33m\u001b[0m\u001b[1;33m\u001b[0m\u001b[0m\n\u001b[0;32m    202\u001b[0m     \u001b[1;34m\"\\n\"\u001b[0m\u001b[1;33m,\u001b[0m\u001b[1;33m\u001b[0m\u001b[1;33m\u001b[0m\u001b[0m\n",
      "\u001b[1;32m~\\Documents\\Ciencia de dades\\Q3\\TFM\\PAC3 disseny i implementacio\\knn_lib.ipynb\u001b[0m in \u001b[0;36mget_neighbors\u001b[1;34m(train, test_row, k, name, isAbs, incr)\u001b[0m\n\u001b[0;32m     94\u001b[0m     \u001b[1;34m\"                    \\\"tanimoto\\\", \\\"inner\\\", \\\"harmonic\\\", \\\"cosine\\\", \\\"kumar\\\", \\\"jaccard_s\\\", \\\"jaccard_d\\\", \\\"dice_s\\\", \\\"dice_d\\\",\\n\"\u001b[0m\u001b[1;33m,\u001b[0m\u001b[1;33m\u001b[0m\u001b[1;33m\u001b[0m\u001b[0m\n\u001b[0;32m     95\u001b[0m     \u001b[1;34m\"                    \\\"fidelity\\\", \\\"bhattacharrya\\\", \\\"hellinger\\\", \\\"hellinger2\\\", \\\"matusita\\\", \\\"matusita2\\\", \\\"squared_chord\\\",\\n\"\u001b[0m\u001b[1;33m,\u001b[0m\u001b[1;33m\u001b[0m\u001b[1;33m\u001b[0m\u001b[0m\n\u001b[1;32m---> 96\u001b[1;33m     \u001b[1;34m\"                    \\\"sqeuclidean\\\", \\\"pearson\\\", \\\"neyman\\\", \\\"squared\\\", \\\"prob_sym\\\", \\\"divergence\\\", \\\"clark\\\", \\\"additive_sym\\\",\\n\"\u001b[0m\u001b[1;33m,\u001b[0m\u001b[1;33m\u001b[0m\u001b[1;33m\u001b[0m\u001b[0m\n\u001b[0m\u001b[0;32m     97\u001b[0m     \u001b[1;34m\"                    \\\"kullback_PQ\\\", \\\"jeffreys\\\", \\\"k_divergence\\\", \\\"topsoe\\\", \\\"jensen_shannon\\\", \\\"jensen_diff\\\", \\\"taneja\\\",\\n\"\u001b[0m\u001b[1;33m,\u001b[0m\u001b[1;33m\u001b[0m\u001b[1;33m\u001b[0m\u001b[0m\n\u001b[0;32m     98\u001b[0m     \u001b[1;34m\"                    \\\"kumar_johnson\\\", \\\"avgL\\\", \\\"vicis_wave_hedges\\\", \\\"vicis_symm1\\\", \\\"vicis_symm2\\\", \\\"vicis_symm3\\\", \\\"min_symm\\\",\\n\"\u001b[0m\u001b[1;33m,\u001b[0m\u001b[1;33m\u001b[0m\u001b[1;33m\u001b[0m\u001b[0m\n",
      "\u001b[1;32m~\\anaconda3\\lib\\site-packages\\scipy\\spatial\\distance.py\u001b[0m in \u001b[0;36mminkowski\u001b[1;34m(u, v, p, w)\u001b[0m\n\u001b[0;32m    515\u001b[0m             \u001b[0mroot_w\u001b[0m \u001b[1;33m=\u001b[0m \u001b[0mnp\u001b[0m\u001b[1;33m.\u001b[0m\u001b[0mpower\u001b[0m\u001b[1;33m(\u001b[0m\u001b[0mw\u001b[0m\u001b[1;33m,\u001b[0m \u001b[1;36m1\u001b[0m\u001b[1;33m/\u001b[0m\u001b[0mp\u001b[0m\u001b[1;33m)\u001b[0m\u001b[1;33m\u001b[0m\u001b[1;33m\u001b[0m\u001b[0m\n\u001b[0;32m    516\u001b[0m         \u001b[0mu_v\u001b[0m \u001b[1;33m=\u001b[0m \u001b[0mroot_w\u001b[0m \u001b[1;33m*\u001b[0m \u001b[0mu_v\u001b[0m\u001b[1;33m\u001b[0m\u001b[1;33m\u001b[0m\u001b[0m\n\u001b[1;32m--> 517\u001b[1;33m     \u001b[0mdist\u001b[0m \u001b[1;33m=\u001b[0m \u001b[0mnorm\u001b[0m\u001b[1;33m(\u001b[0m\u001b[0mu_v\u001b[0m\u001b[1;33m,\u001b[0m \u001b[0mord\u001b[0m\u001b[1;33m=\u001b[0m\u001b[0mp\u001b[0m\u001b[1;33m)\u001b[0m\u001b[1;33m\u001b[0m\u001b[1;33m\u001b[0m\u001b[0m\n\u001b[0m\u001b[0;32m    518\u001b[0m     \u001b[1;32mreturn\u001b[0m \u001b[0mdist\u001b[0m\u001b[1;33m\u001b[0m\u001b[1;33m\u001b[0m\u001b[0m\n\u001b[0;32m    519\u001b[0m \u001b[1;33m\u001b[0m\u001b[0m\n",
      "\u001b[1;32m~\\anaconda3\\lib\\site-packages\\scipy\\linalg\\misc.py\u001b[0m in \u001b[0;36mnorm\u001b[1;34m(a, ord, axis, keepdims, check_finite)\u001b[0m\n\u001b[0;32m    177\u001b[0m             \u001b[1;32mreturn\u001b[0m \u001b[0mnp\u001b[0m\u001b[1;33m.\u001b[0m\u001b[0mlinalg\u001b[0m\u001b[1;33m.\u001b[0m\u001b[0mnorm\u001b[0m\u001b[1;33m(\u001b[0m\u001b[0ma\u001b[0m\u001b[1;33m,\u001b[0m \u001b[0mord\u001b[0m\u001b[1;33m=\u001b[0m\u001b[0mord\u001b[0m\u001b[1;33m,\u001b[0m \u001b[0maxis\u001b[0m\u001b[1;33m=\u001b[0m\u001b[0maxis\u001b[0m\u001b[1;33m,\u001b[0m \u001b[0mkeepdims\u001b[0m\u001b[1;33m=\u001b[0m\u001b[0mkeepdims\u001b[0m\u001b[1;33m)\u001b[0m\u001b[1;33m\u001b[0m\u001b[1;33m\u001b[0m\u001b[0m\n\u001b[0;32m    178\u001b[0m         \u001b[1;32mreturn\u001b[0m \u001b[0mnp\u001b[0m\u001b[1;33m.\u001b[0m\u001b[0mlinalg\u001b[0m\u001b[1;33m.\u001b[0m\u001b[0mnorm\u001b[0m\u001b[1;33m(\u001b[0m\u001b[0ma\u001b[0m\u001b[1;33m,\u001b[0m \u001b[0mord\u001b[0m\u001b[1;33m=\u001b[0m\u001b[0mord\u001b[0m\u001b[1;33m,\u001b[0m \u001b[0maxis\u001b[0m\u001b[1;33m=\u001b[0m\u001b[0maxis\u001b[0m\u001b[1;33m)\u001b[0m\u001b[1;33m\u001b[0m\u001b[1;33m\u001b[0m\u001b[0m\n\u001b[1;32m--> 179\u001b[1;33m     \u001b[1;32mreturn\u001b[0m \u001b[0mnp\u001b[0m\u001b[1;33m.\u001b[0m\u001b[0mlinalg\u001b[0m\u001b[1;33m.\u001b[0m\u001b[0mnorm\u001b[0m\u001b[1;33m(\u001b[0m\u001b[0ma\u001b[0m\u001b[1;33m,\u001b[0m \u001b[0mord\u001b[0m\u001b[1;33m=\u001b[0m\u001b[0mord\u001b[0m\u001b[1;33m)\u001b[0m\u001b[1;33m\u001b[0m\u001b[1;33m\u001b[0m\u001b[0m\n\u001b[0m\u001b[0;32m    180\u001b[0m \u001b[1;33m\u001b[0m\u001b[0m\n\u001b[0;32m    181\u001b[0m \u001b[1;33m\u001b[0m\u001b[0m\n",
      "\u001b[1;32m<__array_function__ internals>\u001b[0m in \u001b[0;36mnorm\u001b[1;34m(*args, **kwargs)\u001b[0m\n",
      "\u001b[1;32m~\\anaconda3\\lib\\site-packages\\numpy\\linalg\\linalg.py\u001b[0m in \u001b[0;36mnorm\u001b[1;34m(x, ord, axis, keepdims)\u001b[0m\n\u001b[0;32m   2515\u001b[0m \u001b[1;33m\u001b[0m\u001b[0m\n\u001b[0;32m   2516\u001b[0m     \u001b[1;32mif\u001b[0m \u001b[1;32mnot\u001b[0m \u001b[0missubclass\u001b[0m\u001b[1;33m(\u001b[0m\u001b[0mx\u001b[0m\u001b[1;33m.\u001b[0m\u001b[0mdtype\u001b[0m\u001b[1;33m.\u001b[0m\u001b[0mtype\u001b[0m\u001b[1;33m,\u001b[0m \u001b[1;33m(\u001b[0m\u001b[0minexact\u001b[0m\u001b[1;33m,\u001b[0m \u001b[0mobject_\u001b[0m\u001b[1;33m)\u001b[0m\u001b[1;33m)\u001b[0m\u001b[1;33m:\u001b[0m\u001b[1;33m\u001b[0m\u001b[1;33m\u001b[0m\u001b[0m\n\u001b[1;32m-> 2517\u001b[1;33m         \u001b[0mx\u001b[0m \u001b[1;33m=\u001b[0m \u001b[0mx\u001b[0m\u001b[1;33m.\u001b[0m\u001b[0mastype\u001b[0m\u001b[1;33m(\u001b[0m\u001b[0mfloat\u001b[0m\u001b[1;33m)\u001b[0m\u001b[1;33m\u001b[0m\u001b[1;33m\u001b[0m\u001b[0m\n\u001b[0m\u001b[0;32m   2518\u001b[0m \u001b[1;33m\u001b[0m\u001b[0m\n\u001b[0;32m   2519\u001b[0m     \u001b[1;31m# Immediately handle some default, simple, fast, and common cases.\u001b[0m\u001b[1;33m\u001b[0m\u001b[1;33m\u001b[0m\u001b[1;33m\u001b[0m\u001b[0m\n",
      "\u001b[1;31mKeyboardInterrupt\u001b[0m: "
     ]
    }
   ],
   "source": [
    "k=1\n",
    "print_postitioning_errors(k, \"MAN1\", distance_metrics, norm=False, abs_value=False, increment=False)"
   ]
  },
  {
   "cell_type": "markdown",
   "metadata": {},
   "source": [
    "#### Normalized"
   ]
  },
  {
   "cell_type": "code",
   "execution_count": 4,
   "metadata": {
    "collapsed": true
   },
   "outputs": [
    {
     "name": "stdout",
     "output_type": "stream",
     "text": [
      "euclidean: 7.02\n",
      "minkowskiL1: 6.79\n",
      "minkowskiL2: 7.02\n",
      "minkowskiL3: 7.28\n",
      "minkowskiL4: 7.23\n",
      "minkowskiL5: 8.92\n",
      "cityblock: 6.79\n",
      "chebyshev: 35.61\n",
      "sorensen: 33.58\n",
      "gower: 6.79\n",
      "soergel: 7.46\n",
      "kulczynski_d: 7.46\n",
      "lorentzian: 6.69\n",
      "canberra: 7.7\n",
      "intersection: 6.79\n",
      "wavehedges: 8.14\n",
      "czekanowski_s: 7.46\n",
      "czekanowski_d: 43.44\n",
      "motyka_s: 7.46\n",
      "motyka_d: 43.44\n",
      "kulczynski_s: 7.46\n",
      "ruzicka: 7.46\n",
      "tanimoto: 7.46\n",
      "inner: 40.09\n",
      "harmonic: 25.43\n",
      "cosine: 8.41\n",
      "kumar: 15.13\n",
      "jaccard_s: 15.13\n",
      "jaccard_d: 40.99\n",
      "dice_s: 7.66\n",
      "dice_d: 42.67\n",
      "fidelity: 41.04\n",
      "bhattacharrya: 37.11\n"
     ]
    },
    {
     "name": "stderr",
     "output_type": "stream",
     "text": [
      "C:\\Users\\vicen\\Documents\\Ciencia de dades\\Q3\\TFM\\PAC3 disseny i implementacio\\knn_lib.ipynb:349: RuntimeWarning: invalid value encountered in sqrt\n",
      "  \"metadata\": {},\n"
     ]
    },
    {
     "name": "stdout",
     "output_type": "stream",
     "text": [
      "hellinger: 35.61\n"
     ]
    },
    {
     "name": "stderr",
     "output_type": "stream",
     "text": [
      "C:\\Users\\vicen\\Documents\\Ciencia de dades\\Q3\\TFM\\PAC3 disseny i implementacio\\knn_lib.ipynb:352: RuntimeWarning: invalid value encountered in sqrt\n",
      "  \"# factor added to avoid sqrt, log and division by 0 error\\n\",\n"
     ]
    },
    {
     "name": "stdout",
     "output_type": "stream",
     "text": [
      "matusita: 35.61\n",
      "squared_chord: 11.68\n",
      "sqeuclidean: 7.02\n",
      "pearson: 16.3\n",
      "neyman: 56.05\n",
      "squared: 7.09\n",
      "prob_sym: 7.09\n",
      "divergence: 7.25\n",
      "clark: 7.25\n",
      "additive_sym: 53.3\n",
      "kullback_PQ: 23.96\n",
      "jeffreys: 51.07\n",
      "k_divergence: 37.04\n",
      "topsoe: 8.2\n",
      "jensen_shannon: 8.2\n",
      "jensen_diff: 8.2\n",
      "taneja: 51.83\n",
      "kumar_johnson: 53.3\n",
      "avgL: 6.79\n",
      "vicis_wave_hedges: 53.3\n",
      "vicis_symm1: 53.41\n",
      "vicis_symm2: 53.3\n",
      "vicis_symm3: 6.76\n",
      "min_symm: 35.61\n",
      "max_symm: 35.61\n"
     ]
    }
   ],
   "source": [
    "k=1\n",
    "print_postitioning_errors(k, \"MAN1\", distance_metrics, norm=True, abs_value=False, increment=False)"
   ]
  },
  {
   "cell_type": "markdown",
   "metadata": {},
   "source": [
    "#### Absolute value"
   ]
  },
  {
   "cell_type": "code",
   "execution_count": 5,
   "metadata": {
    "collapsed": true
   },
   "outputs": [
    {
     "name": "stdout",
     "output_type": "stream",
     "text": [
      "euclidean: 5.04\n",
      "minkowskiL1: 4.95\n",
      "minkowskiL2: 5.04\n",
      "minkowskiL3: 5.58\n",
      "minkowskiL4: 6.25\n",
      "minkowskiL5: 6.62\n",
      "cityblock: 4.95\n",
      "chebyshev: 7.67\n",
      "sorensen: 26.65\n",
      "gower: 4.95\n",
      "soergel: 4.99\n",
      "kulczynski_d: 4.99\n",
      "lorentzian: 5.66\n",
      "canberra: 4.8\n",
      "intersection: 4.95\n",
      "wavehedges: 4.7\n",
      "czekanowski_s: 4.99\n",
      "czekanowski_d: 51.34\n",
      "motyka_s: 4.99\n",
      "motyka_d: 51.34\n",
      "kulczynski_s: 4.99\n",
      "ruzicka: 4.99\n",
      "tanimoto: 4.99\n",
      "inner: 40.68\n",
      "harmonic: 57.31\n",
      "cosine: 5.06\n",
      "kumar: 5.1\n",
      "jaccard_s: 5.1\n",
      "jaccard_d: 46.01\n",
      "dice_s: 5.1\n",
      "dice_d: 46.01\n",
      "fidelity: 40.68\n",
      "bhattacharrya: 57.31\n"
     ]
    },
    {
     "name": "stderr",
     "output_type": "stream",
     "text": [
      "C:\\Users\\vicen\\Documents\\Ciencia de dades\\Q3\\TFM\\PAC3 disseny i implementacio\\knn_lib.ipynb:349: RuntimeWarning: invalid value encountered in sqrt\n",
      "  \"metadata\": {},\n"
     ]
    },
    {
     "name": "stdout",
     "output_type": "stream",
     "text": [
      "hellinger: 35.61\n"
     ]
    },
    {
     "name": "stderr",
     "output_type": "stream",
     "text": [
      "C:\\Users\\vicen\\Documents\\Ciencia de dades\\Q3\\TFM\\PAC3 disseny i implementacio\\knn_lib.ipynb:352: RuntimeWarning: invalid value encountered in sqrt\n",
      "  \"# factor added to avoid sqrt, log and division by 0 error\\n\",\n"
     ]
    },
    {
     "name": "stdout",
     "output_type": "stream",
     "text": [
      "matusita: 35.61\n",
      "squared_chord: 5.01\n",
      "sqeuclidean: 5.04\n",
      "pearson: 5.11\n",
      "neyman: 4.87\n",
      "squared: 5.01\n",
      "prob_sym: 5.01\n",
      "divergence: 4.77\n",
      "clark: 4.77\n",
      "additive_sym: 4.99\n",
      "kullback_PQ: 57.31\n",
      "jeffreys: 5.0\n",
      "k_divergence: 57.31\n",
      "topsoe: 5.01\n",
      "jensen_shannon: 5.01\n",
      "jensen_diff: 5.01\n",
      "taneja: 5.0\n",
      "kumar_johnson: 4.98\n",
      "avgL: 4.97\n",
      "vicis_wave_hedges: 4.76\n",
      "vicis_symm1: 4.9\n",
      "vicis_symm2: 4.91\n",
      "vicis_symm3: 5.02\n",
      "min_symm: 35.61\n",
      "max_symm: 35.61\n"
     ]
    }
   ],
   "source": [
    "k=1\n",
    "print_postitioning_errors(k, \"MAN1\", distance_metrics, norm=False, abs_value=True, increment=False)"
   ]
  },
  {
   "cell_type": "markdown",
   "metadata": {},
   "source": [
    "#### Increment"
   ]
  },
  {
   "cell_type": "code",
   "execution_count": 3,
   "metadata": {
    "collapsed": true
   },
   "outputs": [
    {
     "name": "stdout",
     "output_type": "stream",
     "text": [
      "euclidean: 6.46\n",
      "minkowskiL1: 6.38\n",
      "minkowskiL2: 6.46\n",
      "minkowskiL3: 6.56\n",
      "minkowskiL4: 6.47\n",
      "minkowskiL5: 6.53\n",
      "cityblock: 6.38\n",
      "chebyshev: 21.18\n",
      "sorensen: 26.65\n",
      "gower: 6.38\n",
      "soergel: 6.28\n",
      "kulczynski_d: 6.28\n",
      "lorentzian: 5.91\n",
      "canberra: 5.81\n",
      "intersection: 6.38\n",
      "wavehedges: 5.77\n",
      "czekanowski_s: 6.28\n",
      "czekanowski_d: 47.32\n",
      "motyka_s: 6.28\n",
      "motyka_d: 47.32\n",
      "kulczynski_s: 6.28\n",
      "ruzicka: 6.28\n",
      "tanimoto: 6.28\n",
      "inner: 39.76\n",
      "harmonic: 28.73\n",
      "cosine: 6.42\n",
      "kumar: 6.51\n",
      "jaccard_s: 6.51\n",
      "jaccard_d: 47.16\n",
      "dice_s: 6.51\n",
      "dice_d: 47.16\n",
      "fidelity: 40.56\n",
      "bhattacharrya: 41.54\n"
     ]
    },
    {
     "name": "stderr",
     "output_type": "stream",
     "text": [
      "C:\\Users\\vicen\\Documents\\Ciencia de dades\\Q3\\TFM\\PAC3 disseny i implementacio\\knn_lib.ipynb:370: RuntimeWarning: invalid value encountered in sqrt\n",
      "  \"def intersection(P, Q):\\n\",\n"
     ]
    },
    {
     "name": "stdout",
     "output_type": "stream",
     "text": [
      "hellinger: 35.61\n",
      "hellinger2: 6.29\n"
     ]
    },
    {
     "name": "stderr",
     "output_type": "stream",
     "text": [
      "C:\\Users\\vicen\\Documents\\Ciencia de dades\\Q3\\TFM\\PAC3 disseny i implementacio\\knn_lib.ipynb:378: RuntimeWarning: invalid value encountered in sqrt\n",
      "  \"\\n\",\n"
     ]
    },
    {
     "name": "stdout",
     "output_type": "stream",
     "text": [
      "matusita: 35.61\n",
      "matusita2: 6.29\n",
      "squared_chord: 6.29\n",
      "sqeuclidean: 6.46\n",
      "pearson: 13.91\n",
      "neyman: 8.75\n",
      "squared: 6.45\n",
      "prob_sym: 6.45\n",
      "divergence: 6.09\n",
      "clark: 6.09\n",
      "additive_sym: 7.34\n",
      "kullback_PQ: 24.84\n",
      "jeffreys: 6.52\n",
      "k_divergence: 42.63\n",
      "topsoe: 6.39\n",
      "jensen_shannon: 6.39\n",
      "jensen_diff: 6.39\n",
      "taneja: 6.61\n",
      "kumar_johnson: 8.35\n",
      "avgL: 6.41\n",
      "vicis_wave_hedges: 7.18\n",
      "vicis_symm1: 10.25\n",
      "vicis_symm2: 7.24\n",
      "vicis_symm3: 6.43\n",
      "min_symm: 35.61\n",
      "max_symm: 35.61\n"
     ]
    }
   ],
   "source": [
    "k=1\n",
    "print_postitioning_errors(k, \"MAN1\", distance_metrics, norm=False, abs_value=False, increment=True)"
   ]
  },
  {
   "cell_type": "markdown",
   "metadata": {},
   "source": [
    "### Distance measures comparison on MAN2 average error with k=1"
   ]
  },
  {
   "cell_type": "markdown",
   "metadata": {},
   "source": [
    "#### Basic"
   ]
  },
  {
   "cell_type": "code",
   "execution_count": 3,
   "metadata": {
    "collapsed": true
   },
   "outputs": [
    {
     "name": "stdout",
     "output_type": "stream",
     "text": [
      "euclidean: 3.39\n",
      "minkowskiL1: 2.89\n",
      "minkowskiL2: 3.39\n",
      "minkowskiL3: 3.54\n",
      "minkowskiL4: 3.59\n",
      "minkowskiL5: 3.61\n",
      "cityblock: 2.89\n",
      "chebyshev: 6.98\n",
      "sorensen: 14.0\n",
      "gower: 2.89\n",
      "soergel: 2.92\n",
      "kulczynski_d: 2.92\n",
      "lorentzian: 2.89\n",
      "canberra: 2.95\n",
      "intersection: 2.89\n",
      "wavehedges: 2.62\n",
      "czekanowski_s: 2.92\n",
      "czekanowski_d: 23.62\n",
      "motyka_s: 2.92\n",
      "motyka_d: 23.62\n",
      "kulczynski_s: 2.92\n",
      "ruzicka: 2.92\n",
      "tanimoto: 2.92\n",
      "inner: 20.39\n",
      "harmonic: 8.6\n",
      "cosine: 3.29\n",
      "kumar: 28.31\n",
      "jaccard_s: 28.31\n",
      "jaccard_d: 22.05\n",
      "dice_s: 3.37\n",
      "dice_d: 23.0\n",
      "fidelity: 19.0\n",
      "bhattacharrya: 11.95\n"
     ]
    },
    {
     "name": "stderr",
     "output_type": "stream",
     "text": [
      "C:\\Users\\vicen\\Documents\\Ciencia de dades\\Q3\\TFM\\PAC3 disseny i implementacio\\knn_lib.ipynb:386: RuntimeWarning: invalid value encountered in sqrt\n",
      "  \"def kulczynski_d(P, Q):\\n\",\n"
     ]
    },
    {
     "name": "stdout",
     "output_type": "stream",
     "text": [
      "hellinger: 31.2\n",
      "hellinger2: 3.31\n"
     ]
    },
    {
     "name": "stderr",
     "output_type": "stream",
     "text": [
      "C:\\Users\\vicen\\Documents\\Ciencia de dades\\Q3\\TFM\\PAC3 disseny i implementacio\\knn_lib.ipynb:394: RuntimeWarning: invalid value encountered in sqrt\n",
      "  \"\\n\",\n"
     ]
    },
    {
     "name": "stdout",
     "output_type": "stream",
     "text": [
      "matusita: 31.2\n",
      "matusita2: 3.31\n",
      "squared_chord: 3.31\n",
      "sqeuclidean: 3.39\n",
      "pearson: 3.87\n",
      "neyman: 3.45\n",
      "squared: 3.02\n",
      "prob_sym: 3.02\n",
      "divergence: 3.45\n",
      "clark: 3.45\n",
      "additive_sym: 4.83\n",
      "kullback_PQ: 10.07\n",
      "jeffreys: 3.52\n",
      "k_divergence: 11.91\n",
      "topsoe: 3.19\n",
      "jensen_shannon: 3.19\n",
      "jensen_diff: 3.19\n",
      "taneja: 3.44\n",
      "kumar_johnson: 5.06\n",
      "avgL: 2.85\n",
      "vicis_wave_hedges: 3.78\n",
      "vicis_symm1: 5.61\n",
      "vicis_symm2: 5.19\n",
      "vicis_symm3: 2.86\n",
      "min_symm: 3.05\n",
      "max_symm: 4.88\n"
     ]
    }
   ],
   "source": [
    "k=1\n",
    "print_postitioning_errors(k, \"MAN2\", distance_metrics, norm=True, abs_value=False, increment=False)"
   ]
  },
  {
   "cell_type": "markdown",
   "metadata": {},
   "source": [
    "#### Normalized"
   ]
  },
  {
   "cell_type": "code",
   "execution_count": 4,
   "metadata": {
    "collapsed": true
   },
   "outputs": [
    {
     "name": "stdout",
     "output_type": "stream",
     "text": [
      "euclidean: 3.39\n",
      "minkowskiL1: 2.89\n",
      "minkowskiL2: 3.39\n",
      "minkowskiL3: 3.54\n",
      "minkowskiL4: 3.59\n",
      "minkowskiL5: 3.61\n",
      "cityblock: 2.89\n",
      "chebyshev: 6.98\n",
      "sorensen: 14.0\n",
      "gower: 2.89\n",
      "soergel: 2.92\n",
      "kulczynski_d: 2.92\n",
      "lorentzian: 2.89\n",
      "canberra: 2.95\n",
      "intersection: 2.89\n",
      "wavehedges: 2.62\n",
      "czekanowski_s: 2.92\n",
      "czekanowski_d: 23.62\n",
      "motyka_s: 2.92\n",
      "motyka_d: 23.62\n",
      "kulczynski_s: 2.92\n",
      "ruzicka: 2.92\n",
      "tanimoto: 2.92\n",
      "inner: 20.39\n",
      "harmonic: 8.6\n",
      "cosine: 3.29\n",
      "kumar: 28.31\n",
      "jaccard_s: 28.31\n",
      "jaccard_d: 22.05\n",
      "dice_s: 3.37\n",
      "dice_d: 23.0\n",
      "fidelity: 19.0\n",
      "bhattacharrya: 11.95\n"
     ]
    },
    {
     "name": "stderr",
     "output_type": "stream",
     "text": [
      "C:\\Users\\vicen\\Documents\\Ciencia de dades\\Q3\\TFM\\PAC3 disseny i implementacio\\knn_lib.ipynb:386: RuntimeWarning: invalid value encountered in sqrt\n",
      "  \"def kulczynski_d(P, Q):\\n\",\n"
     ]
    },
    {
     "name": "stdout",
     "output_type": "stream",
     "text": [
      "hellinger: 31.2\n",
      "hellinger2: 3.31\n"
     ]
    },
    {
     "name": "stderr",
     "output_type": "stream",
     "text": [
      "C:\\Users\\vicen\\Documents\\Ciencia de dades\\Q3\\TFM\\PAC3 disseny i implementacio\\knn_lib.ipynb:394: RuntimeWarning: invalid value encountered in sqrt\n",
      "  \"\\n\",\n"
     ]
    },
    {
     "name": "stdout",
     "output_type": "stream",
     "text": [
      "matusita: 31.2\n",
      "matusita2: 3.31\n",
      "squared_chord: 3.31\n",
      "sqeuclidean: 3.39\n",
      "pearson: 3.87\n",
      "neyman: 3.45\n",
      "squared: 3.02\n",
      "prob_sym: 3.02\n",
      "divergence: 3.45\n",
      "clark: 3.45\n",
      "additive_sym: 4.83\n",
      "kullback_PQ: 10.07\n",
      "jeffreys: 3.52\n",
      "k_divergence: 11.91\n",
      "topsoe: 3.19\n",
      "jensen_shannon: 3.19\n",
      "jensen_diff: 3.19\n",
      "taneja: 3.44\n",
      "kumar_johnson: 5.06\n",
      "avgL: 2.85\n",
      "vicis_wave_hedges: 3.78\n",
      "vicis_symm1: 5.61\n",
      "vicis_symm2: 5.19\n",
      "vicis_symm3: 2.86\n",
      "min_symm: 3.05\n",
      "max_symm: 4.88\n"
     ]
    }
   ],
   "source": [
    "k=1\n",
    "print_postitioning_errors(k, \"MAN2\", distance_metrics, norm=True, abs_value=False, increment=False)"
   ]
  },
  {
   "cell_type": "markdown",
   "metadata": {},
   "source": [
    "#### Absolute value"
   ]
  },
  {
   "cell_type": "code",
   "execution_count": 5,
   "metadata": {
    "collapsed": true
   },
   "outputs": [
    {
     "name": "stdout",
     "output_type": "stream",
     "text": [
      "euclidean: 2.35\n",
      "minkowskiL1: 2.43\n",
      "minkowskiL2: 2.35\n",
      "minkowskiL3: 2.35\n",
      "minkowskiL4: 2.32\n",
      "minkowskiL5: 2.28\n",
      "cityblock: 2.43\n",
      "chebyshev: 8.21\n",
      "sorensen: 18.28\n",
      "gower: 2.43\n",
      "soergel: 2.44\n",
      "kulczynski_d: 2.44\n",
      "lorentzian: 2.56\n",
      "canberra: 2.46\n",
      "intersection: 2.43\n",
      "wavehedges: 2.45\n",
      "czekanowski_s: 2.44\n",
      "czekanowski_d: 33.45\n",
      "motyka_s: 2.44\n",
      "motyka_d: 33.45\n",
      "kulczynski_s: 2.44\n",
      "ruzicka: 2.44\n",
      "tanimoto: 2.44\n",
      "inner: 18.8\n",
      "harmonic: 12.0\n",
      "cosine: 2.36\n",
      "kumar: 2.33\n",
      "jaccard_s: 2.33\n",
      "jaccard_d: 37.63\n",
      "dice_s: 2.33\n",
      "dice_d: 37.63\n",
      "fidelity: 18.44\n",
      "bhattacharrya: 13.14\n"
     ]
    },
    {
     "name": "stderr",
     "output_type": "stream",
     "text": [
      "C:\\Users\\vicen\\Documents\\Ciencia de dades\\Q3\\TFM\\PAC3 disseny i implementacio\\knn_lib.ipynb:386: RuntimeWarning: invalid value encountered in sqrt\n",
      "  \"def kulczynski_d(P, Q):\\n\",\n"
     ]
    },
    {
     "name": "stdout",
     "output_type": "stream",
     "text": [
      "hellinger: 31.2\n",
      "hellinger2: 2.36\n"
     ]
    },
    {
     "name": "stderr",
     "output_type": "stream",
     "text": [
      "C:\\Users\\vicen\\Documents\\Ciencia de dades\\Q3\\TFM\\PAC3 disseny i implementacio\\knn_lib.ipynb:394: RuntimeWarning: invalid value encountered in sqrt\n",
      "  \"\\n\",\n"
     ]
    },
    {
     "name": "stdout",
     "output_type": "stream",
     "text": [
      "matusita: 31.2\n",
      "matusita2: 2.36\n",
      "squared_chord: 2.36\n",
      "sqeuclidean: 2.35\n",
      "pearson: 2.38\n",
      "neyman: 2.34\n",
      "squared: 2.36\n",
      "prob_sym: 2.36\n",
      "divergence: 2.35\n",
      "clark: 2.35\n",
      "additive_sym: 2.36\n",
      "kullback_PQ: 12.0\n",
      "jeffreys: 2.36\n",
      "k_divergence: 13.03\n",
      "topsoe: 2.36\n",
      "jensen_shannon: 2.36\n",
      "jensen_diff: 2.36\n",
      "taneja: 2.36\n",
      "kumar_johnson: 2.36\n",
      "avgL: 2.42\n",
      "vicis_wave_hedges: 2.45\n",
      "vicis_symm1: 2.35\n",
      "vicis_symm2: 2.36\n",
      "vicis_symm3: 2.35\n",
      "min_symm: 2.36\n",
      "max_symm: 2.36\n"
     ]
    }
   ],
   "source": [
    "k=1\n",
    "print_postitioning_errors(k, \"MAN2\", distance_metrics, norm=False, abs_value=True, increment=False)"
   ]
  },
  {
   "cell_type": "markdown",
   "metadata": {},
   "source": [
    "#### Increment value"
   ]
  },
  {
   "cell_type": "code",
   "execution_count": 6,
   "metadata": {
    "collapsed": true
   },
   "outputs": [
    {
     "name": "stdout",
     "output_type": "stream",
     "text": [
      "euclidean: 3.26\n",
      "minkowskiL1: 2.8\n",
      "minkowskiL2: 3.26\n",
      "minkowskiL3: 3.4\n",
      "minkowskiL4: 3.39\n",
      "minkowskiL5: 3.37\n",
      "cityblock: 2.8\n",
      "chebyshev: 8.32\n",
      "sorensen: 18.28\n",
      "gower: 2.8\n",
      "soergel: 2.9\n",
      "kulczynski_d: 2.9\n",
      "lorentzian: 2.74\n",
      "canberra: 2.88\n",
      "intersection: 2.8\n",
      "wavehedges: 2.83\n",
      "czekanowski_s: 2.9\n",
      "czekanowski_d: 23.61\n",
      "motyka_s: 2.9\n",
      "motyka_d: 23.61\n",
      "kulczynski_s: 2.9\n",
      "ruzicka: 2.9\n",
      "tanimoto: 2.9\n",
      "inner: 19.65\n",
      "harmonic: 8.27\n",
      "cosine: 3.24\n",
      "kumar: 3.33\n",
      "jaccard_s: 3.33\n",
      "jaccard_d: 23.14\n",
      "dice_s: 3.33\n",
      "dice_d: 23.14\n",
      "fidelity: 16.55\n",
      "bhattacharrya: 10.28\n",
      "hellinger: 31.2\n",
      "hellinger2: 3.25\n",
      "matusita: 31.2\n",
      "matusita2: 3.25\n",
      "squared_chord: 3.25\n",
      "sqeuclidean: 3.26\n",
      "pearson: 3.95\n",
      "neyman: 3.15\n",
      "squared: 3.08\n",
      "prob_sym: 3.08\n",
      "divergence: 3.02\n",
      "clark: 3.02\n",
      "additive_sym: 3.36\n",
      "kullback_PQ: 8.42\n",
      "jeffreys: 3.27\n",
      "k_divergence: 10.07\n",
      "topsoe: 3.21\n",
      "jensen_shannon: 3.21\n",
      "jensen_diff: 3.21\n",
      "taneja: 3.29\n",
      "kumar_johnson: 3.38\n",
      "avgL: 2.81\n",
      "vicis_wave_hedges: 3.29\n",
      "vicis_symm1: 4.97\n",
      "vicis_symm2: 3.36\n",
      "vicis_symm3: 2.93\n",
      "min_symm: 3.62\n",
      "max_symm: 3.27\n"
     ]
    }
   ],
   "source": [
    "k=1\n",
    "print_postitioning_errors(k, \"MAN2\", distance_metrics, norm=False, abs_value=False, increment=True)"
   ]
  },
  {
   "cell_type": "markdown",
   "metadata": {},
   "source": [
    "#### Normalized k=3, k=5"
   ]
  },
  {
   "cell_type": "code",
   "execution_count": null,
   "metadata": {},
   "outputs": [],
   "source": [
    "k=3\n",
    "print_postitioning_errors(k, \"MAN2\", distance_metrics, norm=True, abs_value=False, increment=False)"
   ]
  },
  {
   "cell_type": "code",
   "execution_count": null,
   "metadata": {},
   "outputs": [],
   "source": [
    "k=5\n",
    "print_postitioning_errors(k, \"MAN2\", distance_metrics, norm=True, abs_value=False, increment=False)"
   ]
  },
  {
   "cell_type": "markdown",
   "metadata": {},
   "source": [
    "### (!!!!) Distance measures comparison on SIM001 average error with k=1"
   ]
  },
  {
   "cell_type": "markdown",
   "metadata": {},
   "source": [
    "#### Basic"
   ]
  },
  {
   "cell_type": "code",
   "execution_count": null,
   "metadata": {
    "collapsed": true
   },
   "outputs": [
    {
     "name": "stdout",
     "output_type": "stream",
     "text": [
      "euclidean: 3.37\n",
      "minkowskiL1: 3.41\n",
      "minkowskiL2: 3.37\n",
      "minkowskiL3: 3.42\n",
      "minkowskiL4: 3.45\n",
      "minkowskiL5: 3.45\n",
      "cityblock: 3.41\n",
      "chebyshev: 3.51\n",
      "sorensen: 6.72\n",
      "gower: 3.41\n"
     ]
    }
   ],
   "source": [
    "k=1\n",
    "print_postitioning_errors(k, \"SIM001\", distance_metrics, norm=True, abs_value=False, increment=False)"
   ]
  },
  {
   "cell_type": "markdown",
   "metadata": {},
   "source": [
    "#### Normalized"
   ]
  },
  {
   "cell_type": "code",
   "execution_count": 4,
   "metadata": {
    "collapsed": true
   },
   "outputs": [
    {
     "name": "stdout",
     "output_type": "stream",
     "text": [
      "euclidean: 3.39\n",
      "minkowskiL1: 2.89\n",
      "minkowskiL2: 3.39\n",
      "minkowskiL3: 3.54\n",
      "minkowskiL4: 3.59\n",
      "minkowskiL5: 3.61\n",
      "cityblock: 2.89\n",
      "chebyshev: 6.98\n",
      "sorensen: 14.0\n",
      "gower: 2.89\n",
      "soergel: 2.92\n",
      "kulczynski_d: 2.92\n",
      "lorentzian: 2.89\n",
      "canberra: 2.95\n",
      "intersection: 2.89\n",
      "wavehedges: 2.62\n",
      "czekanowski_s: 2.92\n",
      "czekanowski_d: 23.62\n",
      "motyka_s: 2.92\n",
      "motyka_d: 23.62\n",
      "kulczynski_s: 2.92\n",
      "ruzicka: 2.92\n",
      "tanimoto: 2.92\n",
      "inner: 20.39\n",
      "harmonic: 8.6\n",
      "cosine: 3.29\n",
      "kumar: 28.31\n",
      "jaccard_s: 28.31\n",
      "jaccard_d: 22.05\n",
      "dice_s: 3.37\n",
      "dice_d: 23.0\n",
      "fidelity: 19.0\n",
      "bhattacharrya: 11.95\n"
     ]
    },
    {
     "name": "stderr",
     "output_type": "stream",
     "text": [
      "C:\\Users\\vicen\\Documents\\Ciencia de dades\\Q3\\TFM\\PAC3 disseny i implementacio\\knn_lib.ipynb:386: RuntimeWarning: invalid value encountered in sqrt\n",
      "  \"def kulczynski_d(P, Q):\\n\",\n"
     ]
    },
    {
     "name": "stdout",
     "output_type": "stream",
     "text": [
      "hellinger: 31.2\n",
      "hellinger2: 3.31\n"
     ]
    },
    {
     "name": "stderr",
     "output_type": "stream",
     "text": [
      "C:\\Users\\vicen\\Documents\\Ciencia de dades\\Q3\\TFM\\PAC3 disseny i implementacio\\knn_lib.ipynb:394: RuntimeWarning: invalid value encountered in sqrt\n",
      "  \"\\n\",\n"
     ]
    },
    {
     "name": "stdout",
     "output_type": "stream",
     "text": [
      "matusita: 31.2\n",
      "matusita2: 3.31\n",
      "squared_chord: 3.31\n",
      "sqeuclidean: 3.39\n",
      "pearson: 3.87\n",
      "neyman: 3.45\n",
      "squared: 3.02\n",
      "prob_sym: 3.02\n",
      "divergence: 3.45\n",
      "clark: 3.45\n",
      "additive_sym: 4.83\n",
      "kullback_PQ: 10.07\n",
      "jeffreys: 3.52\n",
      "k_divergence: 11.91\n",
      "topsoe: 3.19\n",
      "jensen_shannon: 3.19\n",
      "jensen_diff: 3.19\n",
      "taneja: 3.44\n",
      "kumar_johnson: 5.06\n",
      "avgL: 2.85\n",
      "vicis_wave_hedges: 3.78\n",
      "vicis_symm1: 5.61\n",
      "vicis_symm2: 5.19\n",
      "vicis_symm3: 2.86\n",
      "min_symm: 3.05\n",
      "max_symm: 4.88\n"
     ]
    }
   ],
   "source": [
    "k=1\n",
    "print_postitioning_errors(k, \"SIM001\", distance_metrics, norm=True, abs_value=False, increment=False)"
   ]
  },
  {
   "cell_type": "markdown",
   "metadata": {},
   "source": [
    "#### Absolute value"
   ]
  },
  {
   "cell_type": "code",
   "execution_count": 5,
   "metadata": {
    "collapsed": true
   },
   "outputs": [
    {
     "name": "stdout",
     "output_type": "stream",
     "text": [
      "euclidean: 2.35\n",
      "minkowskiL1: 2.43\n",
      "minkowskiL2: 2.35\n",
      "minkowskiL3: 2.35\n",
      "minkowskiL4: 2.32\n",
      "minkowskiL5: 2.28\n",
      "cityblock: 2.43\n",
      "chebyshev: 8.21\n",
      "sorensen: 18.28\n",
      "gower: 2.43\n",
      "soergel: 2.44\n",
      "kulczynski_d: 2.44\n",
      "lorentzian: 2.56\n",
      "canberra: 2.46\n",
      "intersection: 2.43\n",
      "wavehedges: 2.45\n",
      "czekanowski_s: 2.44\n",
      "czekanowski_d: 33.45\n",
      "motyka_s: 2.44\n",
      "motyka_d: 33.45\n",
      "kulczynski_s: 2.44\n",
      "ruzicka: 2.44\n",
      "tanimoto: 2.44\n",
      "inner: 18.8\n",
      "harmonic: 12.0\n",
      "cosine: 2.36\n",
      "kumar: 2.33\n",
      "jaccard_s: 2.33\n",
      "jaccard_d: 37.63\n",
      "dice_s: 2.33\n",
      "dice_d: 37.63\n",
      "fidelity: 18.44\n",
      "bhattacharrya: 13.14\n"
     ]
    },
    {
     "name": "stderr",
     "output_type": "stream",
     "text": [
      "C:\\Users\\vicen\\Documents\\Ciencia de dades\\Q3\\TFM\\PAC3 disseny i implementacio\\knn_lib.ipynb:386: RuntimeWarning: invalid value encountered in sqrt\n",
      "  \"def kulczynski_d(P, Q):\\n\",\n"
     ]
    },
    {
     "name": "stdout",
     "output_type": "stream",
     "text": [
      "hellinger: 31.2\n",
      "hellinger2: 2.36\n"
     ]
    },
    {
     "name": "stderr",
     "output_type": "stream",
     "text": [
      "C:\\Users\\vicen\\Documents\\Ciencia de dades\\Q3\\TFM\\PAC3 disseny i implementacio\\knn_lib.ipynb:394: RuntimeWarning: invalid value encountered in sqrt\n",
      "  \"\\n\",\n"
     ]
    },
    {
     "name": "stdout",
     "output_type": "stream",
     "text": [
      "matusita: 31.2\n",
      "matusita2: 2.36\n",
      "squared_chord: 2.36\n",
      "sqeuclidean: 2.35\n",
      "pearson: 2.38\n",
      "neyman: 2.34\n",
      "squared: 2.36\n",
      "prob_sym: 2.36\n",
      "divergence: 2.35\n",
      "clark: 2.35\n",
      "additive_sym: 2.36\n",
      "kullback_PQ: 12.0\n",
      "jeffreys: 2.36\n",
      "k_divergence: 13.03\n",
      "topsoe: 2.36\n",
      "jensen_shannon: 2.36\n",
      "jensen_diff: 2.36\n",
      "taneja: 2.36\n",
      "kumar_johnson: 2.36\n",
      "avgL: 2.42\n",
      "vicis_wave_hedges: 2.45\n",
      "vicis_symm1: 2.35\n",
      "vicis_symm2: 2.36\n",
      "vicis_symm3: 2.35\n",
      "min_symm: 2.36\n",
      "max_symm: 2.36\n"
     ]
    }
   ],
   "source": [
    "k=1\n",
    "print_postitioning_errors(k, \"SIM001\", distance_metrics, norm=False, abs_value=True, increment=False)"
   ]
  },
  {
   "cell_type": "markdown",
   "metadata": {},
   "source": [
    "#### Increment value"
   ]
  },
  {
   "cell_type": "code",
   "execution_count": 6,
   "metadata": {
    "collapsed": true
   },
   "outputs": [
    {
     "name": "stdout",
     "output_type": "stream",
     "text": [
      "euclidean: 3.26\n",
      "minkowskiL1: 2.8\n",
      "minkowskiL2: 3.26\n",
      "minkowskiL3: 3.4\n",
      "minkowskiL4: 3.39\n",
      "minkowskiL5: 3.37\n",
      "cityblock: 2.8\n",
      "chebyshev: 8.32\n",
      "sorensen: 18.28\n",
      "gower: 2.8\n",
      "soergel: 2.9\n",
      "kulczynski_d: 2.9\n",
      "lorentzian: 2.74\n",
      "canberra: 2.88\n",
      "intersection: 2.8\n",
      "wavehedges: 2.83\n",
      "czekanowski_s: 2.9\n",
      "czekanowski_d: 23.61\n",
      "motyka_s: 2.9\n",
      "motyka_d: 23.61\n",
      "kulczynski_s: 2.9\n",
      "ruzicka: 2.9\n",
      "tanimoto: 2.9\n",
      "inner: 19.65\n",
      "harmonic: 8.27\n",
      "cosine: 3.24\n",
      "kumar: 3.33\n",
      "jaccard_s: 3.33\n",
      "jaccard_d: 23.14\n",
      "dice_s: 3.33\n",
      "dice_d: 23.14\n",
      "fidelity: 16.55\n",
      "bhattacharrya: 10.28\n",
      "hellinger: 31.2\n",
      "hellinger2: 3.25\n",
      "matusita: 31.2\n",
      "matusita2: 3.25\n",
      "squared_chord: 3.25\n",
      "sqeuclidean: 3.26\n",
      "pearson: 3.95\n",
      "neyman: 3.15\n",
      "squared: 3.08\n",
      "prob_sym: 3.08\n",
      "divergence: 3.02\n",
      "clark: 3.02\n",
      "additive_sym: 3.36\n",
      "kullback_PQ: 8.42\n",
      "jeffreys: 3.27\n",
      "k_divergence: 10.07\n",
      "topsoe: 3.21\n",
      "jensen_shannon: 3.21\n",
      "jensen_diff: 3.21\n",
      "taneja: 3.29\n",
      "kumar_johnson: 3.38\n",
      "avgL: 2.81\n",
      "vicis_wave_hedges: 3.29\n",
      "vicis_symm1: 4.97\n",
      "vicis_symm2: 3.36\n",
      "vicis_symm3: 2.93\n",
      "min_symm: 3.62\n",
      "max_symm: 3.27\n"
     ]
    }
   ],
   "source": [
    "k=1\n",
    "print_postitioning_errors(k, \"SIM001\", distance_metrics, norm=False, abs_value=False, increment=True)"
   ]
  },
  {
   "cell_type": "markdown",
   "metadata": {},
   "source": [
    "### Ensemble of different distance metrics"
   ]
  },
  {
   "cell_type": "code",
   "execution_count": 2,
   "metadata": {},
   "outputs": [
    {
     "data": {
      "text/plain": [
       "6.29"
      ]
     },
     "execution_count": 2,
     "metadata": {},
     "output_type": "execute_result"
    }
   ],
   "source": [
    "avg_error_ensemble(1, \"DSI1\", [\"euclidean\", \"cityblock\", \"gower\",\"canberra\"], norm=False, abs_value=False, increment=False)"
   ]
  },
  {
   "cell_type": "code",
   "execution_count": null,
   "metadata": {},
   "outputs": [],
   "source": []
  }
 ],
 "metadata": {
  "kernelspec": {
   "display_name": "Python 3",
   "language": "python",
   "name": "python3"
  },
  "language_info": {
   "codemirror_mode": {
    "name": "ipython",
    "version": 3
   },
   "file_extension": ".py",
   "mimetype": "text/x-python",
   "name": "python",
   "nbconvert_exporter": "python",
   "pygments_lexer": "ipython3",
   "version": "3.8.5"
  }
 },
 "nbformat": 4,
 "nbformat_minor": 4
}
