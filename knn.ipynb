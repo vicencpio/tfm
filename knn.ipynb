{
 "cells": [
  {
   "cell_type": "markdown",
   "metadata": {},
   "source": [
    "# TFM\n",
    "\n",
    "data: https://drive.google.com/drive/folders/1fx_j6gmiATvhEaBtUwEPuCOl8peJ2zDM\n",
    "\n",
    "## 1. Simple k-NN implementation"
   ]
  },
  {
   "cell_type": "code",
   "execution_count": 1,
   "metadata": {},
   "outputs": [],
   "source": [
    "from math import sqrt\n",
    "import pandas as pd\n",
    "from scipy import stats\n",
    "from matplotlib import pyplot as plt\n",
    "import numpy as np\n",
    "import seaborn as sns"
   ]
  },
  {
   "cell_type": "markdown",
   "metadata": {},
   "source": [
    "### Euclidean distance"
   ]
  },
  {
   "cell_type": "code",
   "execution_count": 2,
   "metadata": {},
   "outputs": [],
   "source": [
    "# calculate the Euclidean distance between two vectors\n",
    "def euclidean_distance(row1, row2):\n",
    "    distance = 0.0\n",
    "    for i in range(len(row1)-1):\n",
    "        distance += (row1[i] - row2[i])**2\n",
    "    return sqrt(distance)"
   ]
  },
  {
   "cell_type": "markdown",
   "metadata": {},
   "source": [
    "### Get k-nearest neighbors"
   ]
  },
  {
   "cell_type": "code",
   "execution_count": 3,
   "metadata": {},
   "outputs": [],
   "source": [
    "# Locate the most similar neighbors and return list of indexes\n",
    "def get_neighbors(train, test_row, k):\n",
    "    distances = list()\n",
    "    for idx, train_row in enumerate(train):\n",
    "        dist = euclidean_distance(test_row, train_row)\n",
    "        distances.append((idx, dist))\n",
    "    distances.sort(key=lambda tup: tup[1])\n",
    "    neighbors = list()\n",
    "    for i in range(k):\n",
    "        neighbors.append(distances[i][0])\n",
    "    return neighbors"
   ]
  },
  {
   "cell_type": "markdown",
   "metadata": {},
   "source": [
    "### Data from csv"
   ]
  },
  {
   "cell_type": "code",
   "execution_count": 8,
   "metadata": {},
   "outputs": [],
   "source": [
    "def load_Data(name):\n",
    "    # TRAIN data\n",
    "    # load fingerprints\n",
    "    df_trnrss_DSI1 = pd.read_csv('data/'+ name + '_trnrss.csv', header=None)\n",
    "    df_trnrss_DSI1 = df_trnrss_DSI1.values.tolist()\n",
    "    # load coordinates\n",
    "    df_trncrd_DSI1 = pd.read_csv('data/' + name + '_trncrd.csv', header=None)\n",
    "\n",
    "    # for now, drop columns of 'floor' and 'building', keep x,y,z\n",
    "    df_trncrd_DSI1.drop(df_trncrd_DSI1.columns[[3,4]], axis=1, inplace=True)\n",
    "    df_trncrd_DSI1 = df_trncrd_DSI1.values.tolist()\n",
    "\n",
    "    # TEST data\n",
    "    # load fingerprints\n",
    "    df_tstrss_DSI1 = pd.read_csv('data/' + name + '_tstrss.csv', header=None)\n",
    "    df_tstrss_DSI1 = df_tstrss_DSI1.values.tolist()\n",
    "    # load coordinates\n",
    "    df_tstcrd_DSI1 = pd.read_csv('data/' + name + '_tstcrd.csv', header=None)\n",
    "\n",
    "    # for now, drop columns of 'floor' and 'building', keep x,y,z\n",
    "    df_tstcrd_DSI1.drop(df_tstcrd_DSI1.columns[[3,4]], axis=1, inplace=True)\n",
    "    df_tstcrd_DSI1 = df_tstcrd_DSI1.values.tolist()\n",
    "    \n",
    "    return(df_trnrss_DSI1, df_trncrd_DSI1, df_tstrss_DSI1, df_tstcrd_DSI1)"
   ]
  },
  {
   "cell_type": "code",
   "execution_count": 9,
   "metadata": {},
   "outputs": [],
   "source": [
    "df_trnrss_DSI1, df_trncrd_DSI1, df_tstrss_DSI1, df_tstcrd_DSI1 = load_Data(\"DSI1\")\n",
    "df_trnrss_DSI2, df_trncrd_DSI2, df_tstrss_DSI2, df_tstcrd_DSI2 = load_Data(\"DSI2\")"
   ]
  },
  {
   "cell_type": "markdown",
   "metadata": {},
   "source": [
    "### Algorithm"
   ]
  },
  {
   "cell_type": "code",
   "execution_count": 10,
   "metadata": {},
   "outputs": [],
   "source": [
    "# calculate knn of fingerprints\n",
    "def knn(k, tstrss, trnrss):\n",
    "    all_neighbors = []\n",
    "\n",
    "    # iterate test data and find id of k nearest neighbors from trnrss\n",
    "    for i in tstrss:\n",
    "        all_neighbors.append(get_neighbors(trnrss, i, k))\n",
    "        \n",
    "    return(all_neighbors)\n",
    "\n",
    "# predict position of neighbors \n",
    "def predict_position(all_neighbors, trncrd):\n",
    "    predicted_pos = []\n",
    "    \n",
    "    # iterate all neighbors to predict position. Find k indexes in trncrd and calculate mean value.\n",
    "    for knn in all_neighbors:    \n",
    "        x, y, z = 0, 0, 0\n",
    "        for i in knn:\n",
    "            x += trncrd[i][0]\n",
    "            y += trncrd[i][1]\n",
    "            z += trncrd[i][2]\n",
    "        predicted_pos.append([x/k, y/k, round(z/k, 1)])\n",
    "        \n",
    "    return(predicted_pos)\n",
    "\n",
    "# error calculation: euclidean distance between predictions and tstcrd\n",
    "def calculate_error(predicted_pos, tstcrd):\n",
    "    error_distances = []\n",
    "    for i, val in enumerate(predicted_pos):\n",
    "        error_distances.append(euclidean_distance(predicted_pos[i], tstcrd[i]))\n",
    "    \n",
    "    return(error_distances)\n",
    "\n",
    "def error_dist_knn(k, tstrss, trnrss, tstcrd, trncrd):\n",
    "    neighbors = knn(k, tstrss, trnrss)\n",
    "    predicted_positions = predict_position(neighbors, trncrd)\n",
    "    return(calculate_error(predicted_positions, tstcrd))"
   ]
  },
  {
   "cell_type": "markdown",
   "metadata": {},
   "source": [
    "### Calculations"
   ]
  },
  {
   "cell_type": "code",
   "execution_count": 12,
   "metadata": {},
   "outputs": [],
   "source": [
    "k=1\n",
    "k1_DSI1 = error_dist_knn(k, df_tstrss_DSI1, df_trnrss_DSI1, df_tstcrd_DSI1, df_trncrd_DSI1)\n",
    "k1_DSI2 = error_dist_knn(k, df_tstrss_DSI2, df_trnrss_DSI2, df_tstcrd_DSI2, df_trncrd_DSI2)\n",
    "k=5\n",
    "k5_DSI1 = error_dist_knn(k, df_tstrss_DSI1, df_trnrss_DSI1, df_tstcrd_DSI1, df_trncrd_DSI1)\n",
    "k5_DSI2 = error_dist_knn(k, df_tstrss_DSI2, df_trnrss_DSI2, df_tstcrd_DSI2, df_trncrd_DSI2)\n",
    "k=11\n",
    "k11_DSI1 = error_dist_knn(k, df_tstrss_DSI1, df_trnrss_DSI1, df_tstcrd_DSI1, df_trncrd_DSI1)\n",
    "k11_DSI2 = error_dist_knn(k, df_tstrss_DSI2, df_trnrss_DSI2, df_tstcrd_DSI2, df_trncrd_DSI2)"
   ]
  },
  {
   "cell_type": "markdown",
   "metadata": {},
   "source": [
    "### ECDF"
   ]
  },
  {
   "cell_type": "code",
   "execution_count": 13,
   "metadata": {},
   "outputs": [],
   "source": [
    "#ECDF function to generate x and y axis data\n",
    "def ecdf(xdata):\n",
    "    xdataecdf = np.sort(xdata)\n",
    "    ydataecdf = np.arange(1, len(xdata) + 1) / len(xdata)\n",
    "    return xdataecdf, ydataecdf\n",
    "\n",
    "def plot_ecdf(data1, data2, data3, title, figure):\n",
    "    #Get the x and y data for ecdf plot from ecdf method\n",
    "    x1,y1 = ecdf(data1)\n",
    "    x5,y5 = ecdf(data2)\n",
    "    x11,y11 = ecdf(data3)\n",
    "\n",
    "    #Plot the data using matplotlib\n",
    "    plt.figure(figure)\n",
    "    plt.plot(x1, y1, marker = '.', linestyle = 'none', markersize = 3)\n",
    "    plt.plot(x5, y5, marker = '.', linestyle = 'none', markersize = 3)\n",
    "    plt.plot(x11, y11, marker = '.', linestyle = 'none', markersize = 3)\n",
    "    plt.legend((\"k=1\", \"k=5\", \"k=11\"))\n",
    "    plt.title(title)\n",
    "    plt.xlabel('Error distance')\n",
    "    plt.ylabel('Error probability')\n",
    "    plt.margins(0.1)"
   ]
  },
  {
   "cell_type": "code",
   "execution_count": 14,
   "metadata": {},
   "outputs": [
    {
     "data": {
      "image/png": "[encoded data removed]",
      "text/plain": [
       "<Figure size 432x288 with 1 Axes>"
      ]
     },
     "metadata": {
      "needs_background": "light"
     },
     "output_type": "display_data"
    },
    {
     "data": {
      "image/png": "[encoded data removed]",
      "text/plain": [
       "<Figure size 432x288 with 1 Axes>"
      ]
     },
     "metadata": {
      "needs_background": "light"
     },
     "output_type": "display_data"
    }
   ],
   "source": [
    "plot_ecdf(k1_DSI1, k5_DSI1, k11_DSI1, \"DSI1\", 1)\n",
    "plot_ecdf(k1_DSI2, k5_DSI2, k11_DSI2, \"DSI2\", 2)"
   ]
  },
  {
   "cell_type": "code",
   "execution_count": 15,
   "metadata": {},
   "outputs": [
    {
     "data": {
      "image/png": "[encoded data removed]",
      "text/plain": [
       "<Figure size 432x288 with 1 Axes>"
      ]
     },
     "metadata": {
      "needs_background": "light"
     },
     "output_type": "display_data"
    }
   ],
   "source": [
    "#Import seaborn library and generate ecdf plot here\n",
    "sns.ecdfplot(x = k1_DSI1);\n",
    "sns.ecdfplot(x = k5_DSI1);\n",
    "sns.ecdfplot(x = k11_DSI1);"
   ]
  },
  {
   "cell_type": "code",
   "execution_count": null,
   "metadata": {},
   "outputs": [],
   "source": []
  }
 ],
 "metadata": {
  "kernelspec": {
   "display_name": "Python 3",
   "language": "python",
   "name": "python3"
  },
  "language_info": {
   "codemirror_mode": {
    "name": "ipython",
    "version": 3
   },
   "file_extension": ".py",
   "mimetype": "text/x-python",
   "name": "python",
   "nbconvert_exporter": "python",
   "pygments_lexer": "ipython3",
   "version": "3.8.5"
  }
 },
 "nbformat": 4,
 "nbformat_minor": 4
}
