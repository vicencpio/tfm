{
 "cells": [
  {
   "cell_type": "markdown",
   "metadata": {},
   "source": [
    "# TFM\n",
    "\n",
    "data: https://drive.google.com/drive/folders/1fx_j6gmiATvhEaBtUwEPuCOl8peJ2zDM\n",
    "\n",
    "source: https://machinelearningmastery.com/tutorial-to-implement-k-nearest-neighbors-in-python-from-scratch/\n",
    "\n",
    "## 1. Simple k-NN implementation\n",
    "\n",
    "### Euclidean distance"
   ]
  },
  {
   "cell_type": "code",
   "execution_count": 106,
   "metadata": {},
   "outputs": [],
   "source": [
    "from math import sqrt\n",
    "import pandas as pd\n",
    "from scipy import stats\n",
    "from matplotlib import pyplot as plt\n",
    "import matplotlib.pyplot as plt"
   ]
  },
  {
   "cell_type": "code",
   "execution_count": 20,
   "metadata": {},
   "outputs": [],
   "source": [
    "dataset = [[2.7810836,2.550537003,0],\n",
    "    [1.465489372,2.362125076,0],\n",
    "    [3.396561688,4.400293529,0],\n",
    "    [1.38807019,1.850220317,0],\n",
    "    [3.06407232,3.005305973,0],\n",
    "    [7.627531214,2.759262235,0],\n",
    "    [5.332441248,2.088626775,0],\n",
    "    [6.922596716,1.77106367,0],\n",
    "    [8.675418651,-0.242068655,0],\n",
    "    [7.673756466,3.508563011,0]]"
   ]
  },
  {
   "cell_type": "code",
   "execution_count": 2,
   "metadata": {},
   "outputs": [],
   "source": [
    "# calculate the Euclidean distance between two vectors\n",
    "def euclidean_distance(row1, row2):\n",
    "    distance = 0.0\n",
    "    for i in range(len(row1)-1):\n",
    "        distance += (row1[i] - row2[i])**2\n",
    "    return sqrt(distance)"
   ]
  },
  {
   "cell_type": "code",
   "execution_count": 105,
   "metadata": {},
   "outputs": [
    {
     "name": "stdout",
     "output_type": "stream",
     "text": [
      "0.0\n",
      "1.3290173915275787\n",
      "1.9494646655653247\n",
      "1.5591439385540549\n",
      "0.5356280721938492\n",
      "4.850940186986411\n",
      "2.592833759950511\n",
      "4.214227042632867\n",
      "6.522409988228337\n",
      "4.985585382449795\n"
     ]
    }
   ],
   "source": [
    "row0 = dataset[0]\n",
    "for row in dataset:\n",
    "    distance = euclidean_distance(row0, row)\n",
    "    print(distance)"
   ]
  },
  {
   "cell_type": "markdown",
   "metadata": {},
   "source": [
    "### Get k-nearest neighbors"
   ]
  },
  {
   "cell_type": "code",
   "execution_count": 23,
   "metadata": {},
   "outputs": [],
   "source": [
    "# Locate the most similar neighbors and return list of indexes\n",
    "def get_neighbors(train, test_row, k):\n",
    "    distances = list()\n",
    "    for idx, train_row in enumerate(train):\n",
    "        dist = euclidean_distance(test_row, train_row)\n",
    "        distances.append((idx, dist))\n",
    "    distances.sort(key=lambda tup: tup[1])\n",
    "    neighbors = list()\n",
    "    for i in range(k):\n",
    "        neighbors.append(distances[i][0])\n",
    "    return neighbors"
   ]
  },
  {
   "cell_type": "code",
   "execution_count": 24,
   "metadata": {},
   "outputs": [
    {
     "name": "stdout",
     "output_type": "stream",
     "text": [
      "0\n",
      "4\n",
      "1\n"
     ]
    }
   ],
   "source": [
    "neighbors = get_neighbors(dataset, dataset[0], 3)\n",
    "for neighbor in neighbors:\n",
    "    print(neighbor)"
   ]
  },
  {
   "cell_type": "markdown",
   "metadata": {},
   "source": [
    "### Data from csv"
   ]
  },
  {
   "cell_type": "code",
   "execution_count": 108,
   "metadata": {},
   "outputs": [],
   "source": [
    "# TRAIN data\n",
    "# load fingerprints\n",
    "df_trnrss = pd.read_csv('data/DSI2_trnrss.csv', header=None)\n",
    "df_trnrss = df_trnrss.values.tolist()\n",
    "# load coordinates\n",
    "df_trncrd = pd.read_csv('data/DSI2_trncrd.csv', header=None)\n",
    "\n",
    "# for now, drop columns of 'floor' and 'building', keep x,y,z\n",
    "df_trncrd.drop(df_trncrd.columns[[3,4]], axis=1, inplace=True)\n",
    "df_trncrd = df_trncrd.values.tolist()"
   ]
  },
  {
   "cell_type": "code",
   "execution_count": 116,
   "metadata": {},
   "outputs": [],
   "source": [
    "# TEST data\n",
    "# load fingerprints\n",
    "df_tstrss = pd.read_csv('data/DSI2_tstrss.csv', header=None)\n",
    "df_tstrss = df_tstrss.values.tolist()\n",
    "# load coordinates\n",
    "df_tstcrd = pd.read_csv('data/DSI2_tstcrd.csv', header=None)\n",
    "\n",
    "# for now, drop columns of 'floor' and 'building', keep x,y,z\n",
    "df_tstcrd.drop(df_tstcrd.columns[[3,4]], axis=1, inplace=True)\n",
    "df_tstcrd = df_tstcrd.values.tolist()"
   ]
  },
  {
   "cell_type": "code",
   "execution_count": 110,
   "metadata": {},
   "outputs": [],
   "source": [
    "k=5\n",
    "all_neighbors = []\n",
    "\n",
    "# iterate test data and find id of k nearest neighbors for each trnrss\n",
    "for i in df_tstrss:\n",
    "    all_neighbors.append(get_neighbors(df_trnrss, i, k))"
   ]
  },
  {
   "cell_type": "code",
   "execution_count": 111,
   "metadata": {},
   "outputs": [],
   "source": [
    "predicted_pos = []\n",
    "\n",
    "# iterate all neighbors to predict position. Find k indexes in trncrd and calculate mean value.\n",
    "for knn in all_neighbors:    \n",
    "    x=0\n",
    "    y=0\n",
    "    z=0\n",
    "    for i in knn:\n",
    "        x += df_trncrd[i][0]\n",
    "        y += df_trncrd[i][1]\n",
    "        z += df_trncrd[i][2]\n",
    "    predicted_pos.append([x/k, y/k, round(z/k, 1)])"
   ]
  },
  {
   "cell_type": "code",
   "execution_count": 128,
   "metadata": {},
   "outputs": [
    {
     "data": {
      "text/plain": [
       "'\\nprint(df_tstrss[20])\\nprint(df_tstcrd.iloc[20])\\nprint(all_neighbors[20])\\nprint(df_trncrd[261])\\nprint(df_trncrd[256])\\nprint(df_trncrd[258])\\nprint(df_trncrd[257])\\nprint(df_trncrd[62])\\n'"
      ]
     },
     "execution_count": 128,
     "metadata": {},
     "output_type": "execute_result"
    }
   ],
   "source": [
    "\"\"\"\n",
    "print(df_tstrss[20])\n",
    "print(df_tstcrd.iloc[20])\n",
    "print(all_neighbors[20])\n",
    "print(df_trncrd[261])\n",
    "print(df_trncrd[256])\n",
    "print(df_trncrd[258])\n",
    "print(df_trncrd[257])\n",
    "print(df_trncrd[62])\n",
    "\"\"\"\n"
   ]
  },
  {
   "cell_type": "code",
   "execution_count": 126,
   "metadata": {},
   "outputs": [],
   "source": [
    "# error calculation: euclidean distance between predictions and tstcrd\n",
    "error_distances = []\n",
    "\n",
    "for i, val in enumerate(predicted_pos):\n",
    "    error_distances.append(euclidean_distance(predicted_pos[i], df_tstcrd[i]))"
   ]
  },
  {
   "cell_type": "code",
   "execution_count": 132,
   "metadata": {},
   "outputs": [
    {
     "data": {
      "image/png": "[encoded data removed]",
      "text/plain": [
       "<Figure size 720x720 with 1 Axes>"
      ]
     },
     "metadata": {
      "needs_background": "light"
     },
     "output_type": "display_data"
    }
   ],
   "source": [
    "# scatter plot\n",
    "plt.figure(figsize=(10, 10))\n",
    "plt.scatter(error_distances, [0]*len(error_distances))\n",
    "plt.show()"
   ]
  },
  {
   "cell_type": "markdown",
   "metadata": {},
   "source": [
    "### ECDF"
   ]
  },
  {
   "cell_type": "code",
   "execution_count": null,
   "metadata": {},
   "outputs": [],
   "source": [
    "# ecdf plot\n",
    "\n",
    "def ecdf(sample):\n",
    "\n",
    "    # convert sample to a numpy array, if it isn't already\n",
    "    sample = np.atleast_1d(sample)\n",
    "\n",
    "    # find the unique values and their corresponding counts\n",
    "    quantiles, counts = np.unique(sample, return_counts=True)\n",
    "\n",
    "    # take the cumulative sum of the counts and divide by the sample size to\n",
    "    # get the cumulative probabilities between 0 and 1\n",
    "    cumprob = np.cumsum(counts).astype(np.double) / sample.size\n",
    "\n",
    "    return quantiles, cumprob"
   ]
  },
  {
   "cell_type": "code",
   "execution_count": null,
   "metadata": {},
   "outputs": [],
   "source": [
    "# a normal distribution with a mean of 0 and standard deviation of 1\n",
    "n = stats.norm(loc=0, scale=1)\n",
    "\n",
    "# draw some random samples from it\n",
    "sample = n.rvs(100)\n",
    "\n",
    "# compute the ECDF of the samples\n",
    "qe, pe = ecdf(sample)\n",
    "\n",
    "# evaluate the theoretical CDF over the same range\n",
    "q = np.linspace(qe[0], qe[-1], 1000)\n",
    "p = n.cdf(q)\n",
    "\n",
    "# plot\n",
    "fig, ax = plt.subplots(1, 1)\n",
    "ax.plot(q, p, '-k', lw=2, label='Theoretical CDF')\n",
    "ax.plot(qe, pe, '-r', lw=2, label='Empirical CDF')\n",
    "ax.set_xlabel('Quantile')\n",
    "ax.set_ylabel('Cumulative probability')\n",
    "ax.legend(fancybox=True, loc='right')\n",
    "\n",
    "plt.show()"
   ]
  },
  {
   "cell_type": "code",
   "execution_count": null,
   "metadata": {},
   "outputs": [],
   "source": []
  }
 ],
 "metadata": {
  "kernelspec": {
   "display_name": "Python 3",
   "language": "python",
   "name": "python3"
  },
  "language_info": {
   "codemirror_mode": {
    "name": "ipython",
    "version": 3
   },
   "file_extension": ".py",
   "mimetype": "text/x-python",
   "name": "python",
   "nbconvert_exporter": "python",
   "pygments_lexer": "ipython3",
   "version": "3.8.5"
  }
 },
 "nbformat": 4,
 "nbformat_minor": 4
}
